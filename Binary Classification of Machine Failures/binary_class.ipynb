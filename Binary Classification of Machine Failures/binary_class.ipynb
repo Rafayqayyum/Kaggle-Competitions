{
 "cells": [
  {
   "cell_type": "code",
   "execution_count": 1,
   "metadata": {},
   "outputs": [],
   "source": [
    "import matplotlib.pyplot as plt\n",
    "import seaborn as sns\n",
    "import pandas as pd\n",
    "import numpy as np\n",
    "from sklearn.metrics import roc_auc_score\n"
   ]
  },
  {
   "attachments": {},
   "cell_type": "markdown",
   "metadata": {},
   "source": [
    "## Download the data"
   ]
  },
  {
   "cell_type": "code",
   "execution_count": 2,
   "metadata": {},
   "outputs": [
    {
     "name": "stdout",
     "output_type": "stream",
     "text": [
      "^C\n"
     ]
    },
    {
     "name": "stdout",
     "output_type": "stream",
     "text": [
      "playground-series-s3e17.zip: Skipping, found more recently modified local copy (use --force to force download)\n"
     ]
    }
   ],
   "source": [
    "!kaggle competitions download -c playground-series-s3e17"
   ]
  },
  {
   "attachments": {},
   "cell_type": "markdown",
   "metadata": {},
   "source": [
    "## Load data"
   ]
  },
  {
   "cell_type": "code",
   "execution_count": 111,
   "metadata": {},
   "outputs": [],
   "source": [
    "data=pd.read_csv('train.csv')"
   ]
  },
  {
   "cell_type": "code",
   "execution_count": 112,
   "metadata": {},
   "outputs": [
    {
     "data": {
      "text/plain": [
       "(136429, 14)"
      ]
     },
     "execution_count": 112,
     "metadata": {},
     "output_type": "execute_result"
    }
   ],
   "source": [
    "data.shape"
   ]
  },
  {
   "cell_type": "code",
   "execution_count": 113,
   "metadata": {},
   "outputs": [],
   "source": [
    "original_data=pd.read_csv('predictive_maintenance.csv')"
   ]
  },
  {
   "cell_type": "code",
   "execution_count": 114,
   "metadata": {},
   "outputs": [
    {
     "data": {
      "text/plain": [
       "0    134281\n",
       "1      2148\n",
       "Name: Machine failure, dtype: int64"
      ]
     },
     "execution_count": 114,
     "metadata": {},
     "output_type": "execute_result"
    }
   ],
   "source": [
    "data['Machine failure'].value_counts()"
   ]
  },
  {
   "cell_type": "code",
   "execution_count": 115,
   "metadata": {},
   "outputs": [
    {
     "data": {
      "text/html": [
       "<div>\n",
       "<style scoped>\n",
       "    .dataframe tbody tr th:only-of-type {\n",
       "        vertical-align: middle;\n",
       "    }\n",
       "\n",
       "    .dataframe tbody tr th {\n",
       "        vertical-align: top;\n",
       "    }\n",
       "\n",
       "    .dataframe thead th {\n",
       "        text-align: right;\n",
       "    }\n",
       "</style>\n",
       "<table border=\"1\" class=\"dataframe\">\n",
       "  <thead>\n",
       "    <tr style=\"text-align: right;\">\n",
       "      <th></th>\n",
       "      <th>UDI</th>\n",
       "      <th>Product ID</th>\n",
       "      <th>Type</th>\n",
       "      <th>Air temperature [K]</th>\n",
       "      <th>Process temperature [K]</th>\n",
       "      <th>Rotational speed [rpm]</th>\n",
       "      <th>Torque [Nm]</th>\n",
       "      <th>Tool wear [min]</th>\n",
       "      <th>Target</th>\n",
       "      <th>Failure Type</th>\n",
       "    </tr>\n",
       "  </thead>\n",
       "  <tbody>\n",
       "    <tr>\n",
       "      <th>0</th>\n",
       "      <td>1</td>\n",
       "      <td>M14860</td>\n",
       "      <td>M</td>\n",
       "      <td>298.1</td>\n",
       "      <td>308.6</td>\n",
       "      <td>1551</td>\n",
       "      <td>42.8</td>\n",
       "      <td>0</td>\n",
       "      <td>0</td>\n",
       "      <td>No Failure</td>\n",
       "    </tr>\n",
       "    <tr>\n",
       "      <th>1</th>\n",
       "      <td>2</td>\n",
       "      <td>L47181</td>\n",
       "      <td>L</td>\n",
       "      <td>298.2</td>\n",
       "      <td>308.7</td>\n",
       "      <td>1408</td>\n",
       "      <td>46.3</td>\n",
       "      <td>3</td>\n",
       "      <td>0</td>\n",
       "      <td>No Failure</td>\n",
       "    </tr>\n",
       "    <tr>\n",
       "      <th>2</th>\n",
       "      <td>3</td>\n",
       "      <td>L47182</td>\n",
       "      <td>L</td>\n",
       "      <td>298.1</td>\n",
       "      <td>308.5</td>\n",
       "      <td>1498</td>\n",
       "      <td>49.4</td>\n",
       "      <td>5</td>\n",
       "      <td>0</td>\n",
       "      <td>No Failure</td>\n",
       "    </tr>\n",
       "    <tr>\n",
       "      <th>3</th>\n",
       "      <td>4</td>\n",
       "      <td>L47183</td>\n",
       "      <td>L</td>\n",
       "      <td>298.2</td>\n",
       "      <td>308.6</td>\n",
       "      <td>1433</td>\n",
       "      <td>39.5</td>\n",
       "      <td>7</td>\n",
       "      <td>0</td>\n",
       "      <td>No Failure</td>\n",
       "    </tr>\n",
       "    <tr>\n",
       "      <th>4</th>\n",
       "      <td>5</td>\n",
       "      <td>L47184</td>\n",
       "      <td>L</td>\n",
       "      <td>298.2</td>\n",
       "      <td>308.7</td>\n",
       "      <td>1408</td>\n",
       "      <td>40.0</td>\n",
       "      <td>9</td>\n",
       "      <td>0</td>\n",
       "      <td>No Failure</td>\n",
       "    </tr>\n",
       "  </tbody>\n",
       "</table>\n",
       "</div>"
      ],
      "text/plain": [
       "   UDI Product ID Type  Air temperature [K]  Process temperature [K]  \\\n",
       "0    1     M14860    M                298.1                    308.6   \n",
       "1    2     L47181    L                298.2                    308.7   \n",
       "2    3     L47182    L                298.1                    308.5   \n",
       "3    4     L47183    L                298.2                    308.6   \n",
       "4    5     L47184    L                298.2                    308.7   \n",
       "\n",
       "   Rotational speed [rpm]  Torque [Nm]  Tool wear [min]  Target Failure Type  \n",
       "0                    1551         42.8                0       0   No Failure  \n",
       "1                    1408         46.3                3       0   No Failure  \n",
       "2                    1498         49.4                5       0   No Failure  \n",
       "3                    1433         39.5                7       0   No Failure  \n",
       "4                    1408         40.0                9       0   No Failure  "
      ]
     },
     "execution_count": 115,
     "metadata": {},
     "output_type": "execute_result"
    }
   ],
   "source": [
    "original_data.head(5)"
   ]
  },
  {
   "cell_type": "code",
   "execution_count": 116,
   "metadata": {},
   "outputs": [
    {
     "data": {
      "text/plain": [
       "0    9661\n",
       "1     339\n",
       "Name: Target, dtype: int64"
      ]
     },
     "execution_count": 116,
     "metadata": {},
     "output_type": "execute_result"
    }
   ],
   "source": [
    "original_data['Target'].value_counts()"
   ]
  },
  {
   "cell_type": "code",
   "execution_count": 117,
   "metadata": {},
   "outputs": [
    {
     "data": {
      "text/plain": [
       "No Failure                  9652\n",
       "Heat Dissipation Failure     112\n",
       "Power Failure                 95\n",
       "Overstrain Failure            78\n",
       "Tool Wear Failure             45\n",
       "Random Failures               18\n",
       "Name: Failure Type, dtype: int64"
      ]
     },
     "execution_count": 117,
     "metadata": {},
     "output_type": "execute_result"
    }
   ],
   "source": [
    "original_data['Failure Type'].value_counts()"
   ]
  },
  {
   "cell_type": "code",
   "execution_count": 118,
   "metadata": {},
   "outputs": [],
   "source": [
    "# for each of the failure types, we will create a new column and assign 1 if the failure type is present and 0 if not\n",
    "\n",
    "original_data['HDF']=np.where(original_data['Failure Type']=='Heat Dissipation Failure',1,0)\n",
    "original_data['PWF']=np.where(original_data['Failure Type']=='Power Failure',1,0)\n",
    "original_data['TWF']=np.where(original_data['Failure Type']=='Tool Wear Failure',1,0)\n",
    "original_data['RNF']=np.where(original_data['Failure Type']=='Random Failures',1,0)\n",
    "original_data['OSF']=np.where(original_data['Failure Type']=='Overstrain Failure',1,0)\n",
    "\n",
    "## rename UDI to id\n",
    "original_data.rename(columns={'UDI':'id'},inplace=True)\n",
    "# rename target to machine failure\n",
    "original_data.rename(columns={'Target':'Machine failure'},inplace=True)\n",
    "# drop failure type\n",
    "original_data.drop('Failure Type',axis=1,inplace=True)"
   ]
  },
  {
   "cell_type": "code",
   "execution_count": 119,
   "metadata": {},
   "outputs": [
    {
     "data": {
      "text/html": [
       "<div>\n",
       "<style scoped>\n",
       "    .dataframe tbody tr th:only-of-type {\n",
       "        vertical-align: middle;\n",
       "    }\n",
       "\n",
       "    .dataframe tbody tr th {\n",
       "        vertical-align: top;\n",
       "    }\n",
       "\n",
       "    .dataframe thead th {\n",
       "        text-align: right;\n",
       "    }\n",
       "</style>\n",
       "<table border=\"1\" class=\"dataframe\">\n",
       "  <thead>\n",
       "    <tr style=\"text-align: right;\">\n",
       "      <th></th>\n",
       "      <th>id</th>\n",
       "      <th>Product ID</th>\n",
       "      <th>Type</th>\n",
       "      <th>Air temperature [K]</th>\n",
       "      <th>Process temperature [K]</th>\n",
       "      <th>Rotational speed [rpm]</th>\n",
       "      <th>Torque [Nm]</th>\n",
       "      <th>Tool wear [min]</th>\n",
       "      <th>Machine failure</th>\n",
       "      <th>HDF</th>\n",
       "      <th>PWF</th>\n",
       "      <th>TWF</th>\n",
       "      <th>RNF</th>\n",
       "      <th>OSF</th>\n",
       "    </tr>\n",
       "  </thead>\n",
       "  <tbody>\n",
       "    <tr>\n",
       "      <th>0</th>\n",
       "      <td>1</td>\n",
       "      <td>M14860</td>\n",
       "      <td>M</td>\n",
       "      <td>298.1</td>\n",
       "      <td>308.6</td>\n",
       "      <td>1551</td>\n",
       "      <td>42.8</td>\n",
       "      <td>0</td>\n",
       "      <td>0</td>\n",
       "      <td>0</td>\n",
       "      <td>0</td>\n",
       "      <td>0</td>\n",
       "      <td>0</td>\n",
       "      <td>0</td>\n",
       "    </tr>\n",
       "    <tr>\n",
       "      <th>1</th>\n",
       "      <td>2</td>\n",
       "      <td>L47181</td>\n",
       "      <td>L</td>\n",
       "      <td>298.2</td>\n",
       "      <td>308.7</td>\n",
       "      <td>1408</td>\n",
       "      <td>46.3</td>\n",
       "      <td>3</td>\n",
       "      <td>0</td>\n",
       "      <td>0</td>\n",
       "      <td>0</td>\n",
       "      <td>0</td>\n",
       "      <td>0</td>\n",
       "      <td>0</td>\n",
       "    </tr>\n",
       "    <tr>\n",
       "      <th>2</th>\n",
       "      <td>3</td>\n",
       "      <td>L47182</td>\n",
       "      <td>L</td>\n",
       "      <td>298.1</td>\n",
       "      <td>308.5</td>\n",
       "      <td>1498</td>\n",
       "      <td>49.4</td>\n",
       "      <td>5</td>\n",
       "      <td>0</td>\n",
       "      <td>0</td>\n",
       "      <td>0</td>\n",
       "      <td>0</td>\n",
       "      <td>0</td>\n",
       "      <td>0</td>\n",
       "    </tr>\n",
       "    <tr>\n",
       "      <th>3</th>\n",
       "      <td>4</td>\n",
       "      <td>L47183</td>\n",
       "      <td>L</td>\n",
       "      <td>298.2</td>\n",
       "      <td>308.6</td>\n",
       "      <td>1433</td>\n",
       "      <td>39.5</td>\n",
       "      <td>7</td>\n",
       "      <td>0</td>\n",
       "      <td>0</td>\n",
       "      <td>0</td>\n",
       "      <td>0</td>\n",
       "      <td>0</td>\n",
       "      <td>0</td>\n",
       "    </tr>\n",
       "    <tr>\n",
       "      <th>4</th>\n",
       "      <td>5</td>\n",
       "      <td>L47184</td>\n",
       "      <td>L</td>\n",
       "      <td>298.2</td>\n",
       "      <td>308.7</td>\n",
       "      <td>1408</td>\n",
       "      <td>40.0</td>\n",
       "      <td>9</td>\n",
       "      <td>0</td>\n",
       "      <td>0</td>\n",
       "      <td>0</td>\n",
       "      <td>0</td>\n",
       "      <td>0</td>\n",
       "      <td>0</td>\n",
       "    </tr>\n",
       "  </tbody>\n",
       "</table>\n",
       "</div>"
      ],
      "text/plain": [
       "   id Product ID Type  Air temperature [K]  Process temperature [K]  \\\n",
       "0   1     M14860    M                298.1                    308.6   \n",
       "1   2     L47181    L                298.2                    308.7   \n",
       "2   3     L47182    L                298.1                    308.5   \n",
       "3   4     L47183    L                298.2                    308.6   \n",
       "4   5     L47184    L                298.2                    308.7   \n",
       "\n",
       "   Rotational speed [rpm]  Torque [Nm]  Tool wear [min]  Machine failure  HDF  \\\n",
       "0                    1551         42.8                0                0    0   \n",
       "1                    1408         46.3                3                0    0   \n",
       "2                    1498         49.4                5                0    0   \n",
       "3                    1433         39.5                7                0    0   \n",
       "4                    1408         40.0                9                0    0   \n",
       "\n",
       "   PWF  TWF  RNF  OSF  \n",
       "0    0    0    0    0  \n",
       "1    0    0    0    0  \n",
       "2    0    0    0    0  \n",
       "3    0    0    0    0  \n",
       "4    0    0    0    0  "
      ]
     },
     "execution_count": 119,
     "metadata": {},
     "output_type": "execute_result"
    }
   ],
   "source": [
    "original_data.head(5)"
   ]
  },
  {
   "cell_type": "code",
   "execution_count": 120,
   "metadata": {},
   "outputs": [],
   "source": [
    "data=pd.concat([data,original_data],axis = 0).reset_index(drop=True)"
   ]
  },
  {
   "cell_type": "code",
   "execution_count": 121,
   "metadata": {},
   "outputs": [
    {
     "data": {
      "text/html": [
       "<div>\n",
       "<style scoped>\n",
       "    .dataframe tbody tr th:only-of-type {\n",
       "        vertical-align: middle;\n",
       "    }\n",
       "\n",
       "    .dataframe tbody tr th {\n",
       "        vertical-align: top;\n",
       "    }\n",
       "\n",
       "    .dataframe thead th {\n",
       "        text-align: right;\n",
       "    }\n",
       "</style>\n",
       "<table border=\"1\" class=\"dataframe\">\n",
       "  <thead>\n",
       "    <tr style=\"text-align: right;\">\n",
       "      <th></th>\n",
       "      <th>id</th>\n",
       "      <th>Product ID</th>\n",
       "      <th>Type</th>\n",
       "      <th>Air temperature [K]</th>\n",
       "      <th>Process temperature [K]</th>\n",
       "      <th>Rotational speed [rpm]</th>\n",
       "      <th>Torque [Nm]</th>\n",
       "      <th>Tool wear [min]</th>\n",
       "      <th>Machine failure</th>\n",
       "      <th>TWF</th>\n",
       "      <th>HDF</th>\n",
       "      <th>PWF</th>\n",
       "      <th>OSF</th>\n",
       "      <th>RNF</th>\n",
       "    </tr>\n",
       "  </thead>\n",
       "  <tbody>\n",
       "    <tr>\n",
       "      <th>0</th>\n",
       "      <td>0</td>\n",
       "      <td>L50096</td>\n",
       "      <td>L</td>\n",
       "      <td>300.6</td>\n",
       "      <td>309.6</td>\n",
       "      <td>1596</td>\n",
       "      <td>36.1</td>\n",
       "      <td>140</td>\n",
       "      <td>0</td>\n",
       "      <td>0</td>\n",
       "      <td>0</td>\n",
       "      <td>0</td>\n",
       "      <td>0</td>\n",
       "      <td>0</td>\n",
       "    </tr>\n",
       "    <tr>\n",
       "      <th>1</th>\n",
       "      <td>1</td>\n",
       "      <td>M20343</td>\n",
       "      <td>M</td>\n",
       "      <td>302.6</td>\n",
       "      <td>312.1</td>\n",
       "      <td>1759</td>\n",
       "      <td>29.1</td>\n",
       "      <td>200</td>\n",
       "      <td>0</td>\n",
       "      <td>0</td>\n",
       "      <td>0</td>\n",
       "      <td>0</td>\n",
       "      <td>0</td>\n",
       "      <td>0</td>\n",
       "    </tr>\n",
       "    <tr>\n",
       "      <th>2</th>\n",
       "      <td>2</td>\n",
       "      <td>L49454</td>\n",
       "      <td>L</td>\n",
       "      <td>299.3</td>\n",
       "      <td>308.5</td>\n",
       "      <td>1805</td>\n",
       "      <td>26.5</td>\n",
       "      <td>25</td>\n",
       "      <td>0</td>\n",
       "      <td>0</td>\n",
       "      <td>0</td>\n",
       "      <td>0</td>\n",
       "      <td>0</td>\n",
       "      <td>0</td>\n",
       "    </tr>\n",
       "    <tr>\n",
       "      <th>3</th>\n",
       "      <td>3</td>\n",
       "      <td>L53355</td>\n",
       "      <td>L</td>\n",
       "      <td>301.0</td>\n",
       "      <td>310.9</td>\n",
       "      <td>1524</td>\n",
       "      <td>44.3</td>\n",
       "      <td>197</td>\n",
       "      <td>0</td>\n",
       "      <td>0</td>\n",
       "      <td>0</td>\n",
       "      <td>0</td>\n",
       "      <td>0</td>\n",
       "      <td>0</td>\n",
       "    </tr>\n",
       "    <tr>\n",
       "      <th>4</th>\n",
       "      <td>4</td>\n",
       "      <td>M24050</td>\n",
       "      <td>M</td>\n",
       "      <td>298.0</td>\n",
       "      <td>309.0</td>\n",
       "      <td>1641</td>\n",
       "      <td>35.4</td>\n",
       "      <td>34</td>\n",
       "      <td>0</td>\n",
       "      <td>0</td>\n",
       "      <td>0</td>\n",
       "      <td>0</td>\n",
       "      <td>0</td>\n",
       "      <td>0</td>\n",
       "    </tr>\n",
       "  </tbody>\n",
       "</table>\n",
       "</div>"
      ],
      "text/plain": [
       "   id Product ID Type  Air temperature [K]  Process temperature [K]  \\\n",
       "0   0     L50096    L                300.6                    309.6   \n",
       "1   1     M20343    M                302.6                    312.1   \n",
       "2   2     L49454    L                299.3                    308.5   \n",
       "3   3     L53355    L                301.0                    310.9   \n",
       "4   4     M24050    M                298.0                    309.0   \n",
       "\n",
       "   Rotational speed [rpm]  Torque [Nm]  Tool wear [min]  Machine failure  TWF  \\\n",
       "0                    1596         36.1              140                0    0   \n",
       "1                    1759         29.1              200                0    0   \n",
       "2                    1805         26.5               25                0    0   \n",
       "3                    1524         44.3              197                0    0   \n",
       "4                    1641         35.4               34                0    0   \n",
       "\n",
       "   HDF  PWF  OSF  RNF  \n",
       "0    0    0    0    0  \n",
       "1    0    0    0    0  \n",
       "2    0    0    0    0  \n",
       "3    0    0    0    0  \n",
       "4    0    0    0    0  "
      ]
     },
     "execution_count": 121,
     "metadata": {},
     "output_type": "execute_result"
    }
   ],
   "source": [
    "data.head()"
   ]
  },
  {
   "cell_type": "code",
   "execution_count": 122,
   "metadata": {},
   "outputs": [
    {
     "data": {
      "text/plain": [
       "id                         0\n",
       "Product ID                 0\n",
       "Type                       0\n",
       "Air temperature [K]        0\n",
       "Process temperature [K]    0\n",
       "Rotational speed [rpm]     0\n",
       "Torque [Nm]                0\n",
       "Tool wear [min]            0\n",
       "Machine failure            0\n",
       "TWF                        0\n",
       "HDF                        0\n",
       "PWF                        0\n",
       "OSF                        0\n",
       "RNF                        0\n",
       "dtype: int64"
      ]
     },
     "execution_count": 122,
     "metadata": {},
     "output_type": "execute_result"
    }
   ],
   "source": [
    "data.isna().sum()"
   ]
  },
  {
   "cell_type": "code",
   "execution_count": 123,
   "metadata": {},
   "outputs": [
    {
     "data": {
      "text/plain": [
       "(146429, 14)"
      ]
     },
     "execution_count": 123,
     "metadata": {},
     "output_type": "execute_result"
    }
   ],
   "source": [
    "data.shape"
   ]
  },
  {
   "cell_type": "code",
   "execution_count": 124,
   "metadata": {},
   "outputs": [],
   "source": [
    "# from ydata_profiling import ProfileReport\n",
    "\n",
    "# profile = ProfileReport(data, title='Pandas Profiling Report', html={'style':{'full_width':True}})\n",
    "# profile.to_notebook_iframe()"
   ]
  },
  {
   "cell_type": "code",
   "execution_count": 125,
   "metadata": {},
   "outputs": [
    {
     "data": {
      "text/html": [
       "<div>\n",
       "<style scoped>\n",
       "    .dataframe tbody tr th:only-of-type {\n",
       "        vertical-align: middle;\n",
       "    }\n",
       "\n",
       "    .dataframe tbody tr th {\n",
       "        vertical-align: top;\n",
       "    }\n",
       "\n",
       "    .dataframe thead th {\n",
       "        text-align: right;\n",
       "    }\n",
       "</style>\n",
       "<table border=\"1\" class=\"dataframe\">\n",
       "  <thead>\n",
       "    <tr style=\"text-align: right;\">\n",
       "      <th></th>\n",
       "      <th>id</th>\n",
       "      <th>Product ID</th>\n",
       "      <th>Type</th>\n",
       "      <th>Air temperature [K]</th>\n",
       "      <th>Process temperature [K]</th>\n",
       "      <th>Rotational speed [rpm]</th>\n",
       "      <th>Torque [Nm]</th>\n",
       "      <th>Tool wear [min]</th>\n",
       "      <th>Machine failure</th>\n",
       "      <th>TWF</th>\n",
       "      <th>HDF</th>\n",
       "      <th>PWF</th>\n",
       "      <th>OSF</th>\n",
       "      <th>RNF</th>\n",
       "    </tr>\n",
       "  </thead>\n",
       "  <tbody>\n",
       "    <tr>\n",
       "      <th>0</th>\n",
       "      <td>0</td>\n",
       "      <td>L50096</td>\n",
       "      <td>L</td>\n",
       "      <td>300.6</td>\n",
       "      <td>309.6</td>\n",
       "      <td>1596</td>\n",
       "      <td>36.1</td>\n",
       "      <td>140</td>\n",
       "      <td>0</td>\n",
       "      <td>0</td>\n",
       "      <td>0</td>\n",
       "      <td>0</td>\n",
       "      <td>0</td>\n",
       "      <td>0</td>\n",
       "    </tr>\n",
       "    <tr>\n",
       "      <th>1</th>\n",
       "      <td>1</td>\n",
       "      <td>M20343</td>\n",
       "      <td>M</td>\n",
       "      <td>302.6</td>\n",
       "      <td>312.1</td>\n",
       "      <td>1759</td>\n",
       "      <td>29.1</td>\n",
       "      <td>200</td>\n",
       "      <td>0</td>\n",
       "      <td>0</td>\n",
       "      <td>0</td>\n",
       "      <td>0</td>\n",
       "      <td>0</td>\n",
       "      <td>0</td>\n",
       "    </tr>\n",
       "    <tr>\n",
       "      <th>2</th>\n",
       "      <td>2</td>\n",
       "      <td>L49454</td>\n",
       "      <td>L</td>\n",
       "      <td>299.3</td>\n",
       "      <td>308.5</td>\n",
       "      <td>1805</td>\n",
       "      <td>26.5</td>\n",
       "      <td>25</td>\n",
       "      <td>0</td>\n",
       "      <td>0</td>\n",
       "      <td>0</td>\n",
       "      <td>0</td>\n",
       "      <td>0</td>\n",
       "      <td>0</td>\n",
       "    </tr>\n",
       "    <tr>\n",
       "      <th>3</th>\n",
       "      <td>3</td>\n",
       "      <td>L53355</td>\n",
       "      <td>L</td>\n",
       "      <td>301.0</td>\n",
       "      <td>310.9</td>\n",
       "      <td>1524</td>\n",
       "      <td>44.3</td>\n",
       "      <td>197</td>\n",
       "      <td>0</td>\n",
       "      <td>0</td>\n",
       "      <td>0</td>\n",
       "      <td>0</td>\n",
       "      <td>0</td>\n",
       "      <td>0</td>\n",
       "    </tr>\n",
       "    <tr>\n",
       "      <th>4</th>\n",
       "      <td>4</td>\n",
       "      <td>M24050</td>\n",
       "      <td>M</td>\n",
       "      <td>298.0</td>\n",
       "      <td>309.0</td>\n",
       "      <td>1641</td>\n",
       "      <td>35.4</td>\n",
       "      <td>34</td>\n",
       "      <td>0</td>\n",
       "      <td>0</td>\n",
       "      <td>0</td>\n",
       "      <td>0</td>\n",
       "      <td>0</td>\n",
       "      <td>0</td>\n",
       "    </tr>\n",
       "  </tbody>\n",
       "</table>\n",
       "</div>"
      ],
      "text/plain": [
       "   id Product ID Type  Air temperature [K]  Process temperature [K]  \\\n",
       "0   0     L50096    L                300.6                    309.6   \n",
       "1   1     M20343    M                302.6                    312.1   \n",
       "2   2     L49454    L                299.3                    308.5   \n",
       "3   3     L53355    L                301.0                    310.9   \n",
       "4   4     M24050    M                298.0                    309.0   \n",
       "\n",
       "   Rotational speed [rpm]  Torque [Nm]  Tool wear [min]  Machine failure  TWF  \\\n",
       "0                    1596         36.1              140                0    0   \n",
       "1                    1759         29.1              200                0    0   \n",
       "2                    1805         26.5               25                0    0   \n",
       "3                    1524         44.3              197                0    0   \n",
       "4                    1641         35.4               34                0    0   \n",
       "\n",
       "   HDF  PWF  OSF  RNF  \n",
       "0    0    0    0    0  \n",
       "1    0    0    0    0  \n",
       "2    0    0    0    0  \n",
       "3    0    0    0    0  \n",
       "4    0    0    0    0  "
      ]
     },
     "execution_count": 125,
     "metadata": {},
     "output_type": "execute_result"
    }
   ],
   "source": [
    "data.head(5)"
   ]
  },
  {
   "cell_type": "code",
   "execution_count": 126,
   "metadata": {},
   "outputs": [],
   "source": [
    "data=data.reset_index(drop=True).set_index(['id'])"
   ]
  },
  {
   "cell_type": "code",
   "execution_count": 127,
   "metadata": {},
   "outputs": [
    {
     "data": {
      "text/plain": [
       "L53257    140\n",
       "L53271    132\n",
       "L49056    132\n",
       "L48892    121\n",
       "L54275    121\n",
       "         ... \n",
       "H31308      1\n",
       "L48159      1\n",
       "M15753      1\n",
       "M14860      1\n",
       "M24818      1\n",
       "Name: Product ID, Length: 10000, dtype: int64"
      ]
     },
     "execution_count": 127,
     "metadata": {},
     "output_type": "execute_result"
    }
   ],
   "source": [
    "data['Product ID'].value_counts()"
   ]
  },
  {
   "cell_type": "code",
   "execution_count": 128,
   "metadata": {},
   "outputs": [],
   "source": [
    "data.drop_duplicates(inplace=True)"
   ]
  },
  {
   "cell_type": "code",
   "execution_count": 129,
   "metadata": {},
   "outputs": [
    {
     "data": {
      "text/plain": [
       "0"
      ]
     },
     "execution_count": 129,
     "metadata": {},
     "output_type": "execute_result"
    }
   ],
   "source": [
    "data.duplicated().sum()"
   ]
  },
  {
   "cell_type": "code",
   "execution_count": 130,
   "metadata": {},
   "outputs": [
    {
     "data": {
      "text/plain": [
       "145293"
      ]
     },
     "execution_count": 130,
     "metadata": {},
     "output_type": "execute_result"
    }
   ],
   "source": [
    "len(data)"
   ]
  },
  {
   "cell_type": "code",
   "execution_count": 131,
   "metadata": {},
   "outputs": [],
   "source": [
    "# data=data.drop('Product ID',axis=1)"
   ]
  },
  {
   "cell_type": "code",
   "execution_count": 132,
   "metadata": {},
   "outputs": [
    {
     "data": {
      "text/html": [
       "<div>\n",
       "<style scoped>\n",
       "    .dataframe tbody tr th:only-of-type {\n",
       "        vertical-align: middle;\n",
       "    }\n",
       "\n",
       "    .dataframe tbody tr th {\n",
       "        vertical-align: top;\n",
       "    }\n",
       "\n",
       "    .dataframe thead th {\n",
       "        text-align: right;\n",
       "    }\n",
       "</style>\n",
       "<table border=\"1\" class=\"dataframe\">\n",
       "  <thead>\n",
       "    <tr style=\"text-align: right;\">\n",
       "      <th></th>\n",
       "      <th>Product ID</th>\n",
       "      <th>Type</th>\n",
       "      <th>Air temperature [K]</th>\n",
       "      <th>Process temperature [K]</th>\n",
       "      <th>Rotational speed [rpm]</th>\n",
       "      <th>Torque [Nm]</th>\n",
       "      <th>Tool wear [min]</th>\n",
       "      <th>Machine failure</th>\n",
       "      <th>TWF</th>\n",
       "      <th>HDF</th>\n",
       "      <th>PWF</th>\n",
       "      <th>OSF</th>\n",
       "      <th>RNF</th>\n",
       "    </tr>\n",
       "    <tr>\n",
       "      <th>id</th>\n",
       "      <th></th>\n",
       "      <th></th>\n",
       "      <th></th>\n",
       "      <th></th>\n",
       "      <th></th>\n",
       "      <th></th>\n",
       "      <th></th>\n",
       "      <th></th>\n",
       "      <th></th>\n",
       "      <th></th>\n",
       "      <th></th>\n",
       "      <th></th>\n",
       "      <th></th>\n",
       "    </tr>\n",
       "  </thead>\n",
       "  <tbody>\n",
       "    <tr>\n",
       "      <th>0</th>\n",
       "      <td>L50096</td>\n",
       "      <td>L</td>\n",
       "      <td>300.6</td>\n",
       "      <td>309.6</td>\n",
       "      <td>1596</td>\n",
       "      <td>36.1</td>\n",
       "      <td>140</td>\n",
       "      <td>0</td>\n",
       "      <td>0</td>\n",
       "      <td>0</td>\n",
       "      <td>0</td>\n",
       "      <td>0</td>\n",
       "      <td>0</td>\n",
       "    </tr>\n",
       "    <tr>\n",
       "      <th>1</th>\n",
       "      <td>M20343</td>\n",
       "      <td>M</td>\n",
       "      <td>302.6</td>\n",
       "      <td>312.1</td>\n",
       "      <td>1759</td>\n",
       "      <td>29.1</td>\n",
       "      <td>200</td>\n",
       "      <td>0</td>\n",
       "      <td>0</td>\n",
       "      <td>0</td>\n",
       "      <td>0</td>\n",
       "      <td>0</td>\n",
       "      <td>0</td>\n",
       "    </tr>\n",
       "    <tr>\n",
       "      <th>2</th>\n",
       "      <td>L49454</td>\n",
       "      <td>L</td>\n",
       "      <td>299.3</td>\n",
       "      <td>308.5</td>\n",
       "      <td>1805</td>\n",
       "      <td>26.5</td>\n",
       "      <td>25</td>\n",
       "      <td>0</td>\n",
       "      <td>0</td>\n",
       "      <td>0</td>\n",
       "      <td>0</td>\n",
       "      <td>0</td>\n",
       "      <td>0</td>\n",
       "    </tr>\n",
       "    <tr>\n",
       "      <th>3</th>\n",
       "      <td>L53355</td>\n",
       "      <td>L</td>\n",
       "      <td>301.0</td>\n",
       "      <td>310.9</td>\n",
       "      <td>1524</td>\n",
       "      <td>44.3</td>\n",
       "      <td>197</td>\n",
       "      <td>0</td>\n",
       "      <td>0</td>\n",
       "      <td>0</td>\n",
       "      <td>0</td>\n",
       "      <td>0</td>\n",
       "      <td>0</td>\n",
       "    </tr>\n",
       "    <tr>\n",
       "      <th>4</th>\n",
       "      <td>M24050</td>\n",
       "      <td>M</td>\n",
       "      <td>298.0</td>\n",
       "      <td>309.0</td>\n",
       "      <td>1641</td>\n",
       "      <td>35.4</td>\n",
       "      <td>34</td>\n",
       "      <td>0</td>\n",
       "      <td>0</td>\n",
       "      <td>0</td>\n",
       "      <td>0</td>\n",
       "      <td>0</td>\n",
       "      <td>0</td>\n",
       "    </tr>\n",
       "    <tr>\n",
       "      <th>...</th>\n",
       "      <td>...</td>\n",
       "      <td>...</td>\n",
       "      <td>...</td>\n",
       "      <td>...</td>\n",
       "      <td>...</td>\n",
       "      <td>...</td>\n",
       "      <td>...</td>\n",
       "      <td>...</td>\n",
       "      <td>...</td>\n",
       "      <td>...</td>\n",
       "      <td>...</td>\n",
       "      <td>...</td>\n",
       "      <td>...</td>\n",
       "    </tr>\n",
       "    <tr>\n",
       "      <th>9996</th>\n",
       "      <td>M24855</td>\n",
       "      <td>M</td>\n",
       "      <td>298.8</td>\n",
       "      <td>308.4</td>\n",
       "      <td>1604</td>\n",
       "      <td>29.5</td>\n",
       "      <td>14</td>\n",
       "      <td>0</td>\n",
       "      <td>0</td>\n",
       "      <td>0</td>\n",
       "      <td>0</td>\n",
       "      <td>0</td>\n",
       "      <td>0</td>\n",
       "    </tr>\n",
       "    <tr>\n",
       "      <th>9997</th>\n",
       "      <td>H39410</td>\n",
       "      <td>H</td>\n",
       "      <td>298.9</td>\n",
       "      <td>308.4</td>\n",
       "      <td>1632</td>\n",
       "      <td>31.8</td>\n",
       "      <td>17</td>\n",
       "      <td>0</td>\n",
       "      <td>0</td>\n",
       "      <td>0</td>\n",
       "      <td>0</td>\n",
       "      <td>0</td>\n",
       "      <td>0</td>\n",
       "    </tr>\n",
       "    <tr>\n",
       "      <th>9998</th>\n",
       "      <td>M24857</td>\n",
       "      <td>M</td>\n",
       "      <td>299.0</td>\n",
       "      <td>308.6</td>\n",
       "      <td>1645</td>\n",
       "      <td>33.4</td>\n",
       "      <td>22</td>\n",
       "      <td>0</td>\n",
       "      <td>0</td>\n",
       "      <td>0</td>\n",
       "      <td>0</td>\n",
       "      <td>0</td>\n",
       "      <td>0</td>\n",
       "    </tr>\n",
       "    <tr>\n",
       "      <th>9999</th>\n",
       "      <td>H39412</td>\n",
       "      <td>H</td>\n",
       "      <td>299.0</td>\n",
       "      <td>308.7</td>\n",
       "      <td>1408</td>\n",
       "      <td>48.5</td>\n",
       "      <td>25</td>\n",
       "      <td>0</td>\n",
       "      <td>0</td>\n",
       "      <td>0</td>\n",
       "      <td>0</td>\n",
       "      <td>0</td>\n",
       "      <td>0</td>\n",
       "    </tr>\n",
       "    <tr>\n",
       "      <th>10000</th>\n",
       "      <td>M24859</td>\n",
       "      <td>M</td>\n",
       "      <td>299.0</td>\n",
       "      <td>308.7</td>\n",
       "      <td>1500</td>\n",
       "      <td>40.2</td>\n",
       "      <td>30</td>\n",
       "      <td>0</td>\n",
       "      <td>0</td>\n",
       "      <td>0</td>\n",
       "      <td>0</td>\n",
       "      <td>0</td>\n",
       "      <td>0</td>\n",
       "    </tr>\n",
       "  </tbody>\n",
       "</table>\n",
       "<p>145293 rows × 13 columns</p>\n",
       "</div>"
      ],
      "text/plain": [
       "      Product ID Type  Air temperature [K]  Process temperature [K]  \\\n",
       "id                                                                    \n",
       "0         L50096    L                300.6                    309.6   \n",
       "1         M20343    M                302.6                    312.1   \n",
       "2         L49454    L                299.3                    308.5   \n",
       "3         L53355    L                301.0                    310.9   \n",
       "4         M24050    M                298.0                    309.0   \n",
       "...          ...  ...                  ...                      ...   \n",
       "9996      M24855    M                298.8                    308.4   \n",
       "9997      H39410    H                298.9                    308.4   \n",
       "9998      M24857    M                299.0                    308.6   \n",
       "9999      H39412    H                299.0                    308.7   \n",
       "10000     M24859    M                299.0                    308.7   \n",
       "\n",
       "       Rotational speed [rpm]  Torque [Nm]  Tool wear [min]  Machine failure  \\\n",
       "id                                                                             \n",
       "0                        1596         36.1              140                0   \n",
       "1                        1759         29.1              200                0   \n",
       "2                        1805         26.5               25                0   \n",
       "3                        1524         44.3              197                0   \n",
       "4                        1641         35.4               34                0   \n",
       "...                       ...          ...              ...              ...   \n",
       "9996                     1604         29.5               14                0   \n",
       "9997                     1632         31.8               17                0   \n",
       "9998                     1645         33.4               22                0   \n",
       "9999                     1408         48.5               25                0   \n",
       "10000                    1500         40.2               30                0   \n",
       "\n",
       "       TWF  HDF  PWF  OSF  RNF  \n",
       "id                              \n",
       "0        0    0    0    0    0  \n",
       "1        0    0    0    0    0  \n",
       "2        0    0    0    0    0  \n",
       "3        0    0    0    0    0  \n",
       "4        0    0    0    0    0  \n",
       "...    ...  ...  ...  ...  ...  \n",
       "9996     0    0    0    0    0  \n",
       "9997     0    0    0    0    0  \n",
       "9998     0    0    0    0    0  \n",
       "9999     0    0    0    0    0  \n",
       "10000    0    0    0    0    0  \n",
       "\n",
       "[145293 rows x 13 columns]"
      ]
     },
     "execution_count": 132,
     "metadata": {},
     "output_type": "execute_result"
    }
   ],
   "source": [
    "data"
   ]
  },
  {
   "cell_type": "code",
   "execution_count": 133,
   "metadata": {},
   "outputs": [
    {
     "data": {
      "text/plain": [
       "145293"
      ]
     },
     "execution_count": 133,
     "metadata": {},
     "output_type": "execute_result"
    }
   ],
   "source": [
    "len(data)"
   ]
  },
  {
   "cell_type": "code",
   "execution_count": 134,
   "metadata": {},
   "outputs": [
    {
     "data": {
      "text/plain": [
       "0    142827\n",
       "1      2466\n",
       "Name: Machine failure, dtype: int64"
      ]
     },
     "execution_count": 134,
     "metadata": {},
     "output_type": "execute_result"
    }
   ],
   "source": [
    "data['Machine failure'].value_counts()"
   ]
  },
  {
   "cell_type": "code",
   "execution_count": 135,
   "metadata": {},
   "outputs": [],
   "source": [
    "# len(pd.get_dummies(data).columns)"
   ]
  },
  {
   "cell_type": "code",
   "execution_count": 136,
   "metadata": {},
   "outputs": [],
   "source": [
    "# ## Feature Importance\n",
    "\n",
    "# from sklearn.ensemble import RandomForestClassifier \n",
    "\n",
    "# X_feat = data.drop(['Machine failure'],axis=1)\n",
    "# y_feat = data['Machine failure']\n",
    "\n",
    "# X_feat=pd.get_dummies(X_feat)\n",
    "# model = RandomForestClassifier(n_jobs=-1)\n",
    "# model.fit(X_feat,y_feat)\n",
    "\n",
    "# feature_importances = pd.DataFrame(model.feature_importances_,\n",
    "#                                       index = X_feat.columns,\n",
    "#                                         columns=['importance']).sort_values('importance',ascending=False)\n",
    "    "
   ]
  },
  {
   "cell_type": "code",
   "execution_count": 137,
   "metadata": {},
   "outputs": [],
   "source": [
    "# feature_importances"
   ]
  },
  {
   "cell_type": "code",
   "execution_count": 138,
   "metadata": {},
   "outputs": [
    {
     "data": {
      "text/plain": [
       "1    807\n",
       "0      5\n",
       "Name: Machine failure, dtype: int64"
      ]
     },
     "execution_count": 138,
     "metadata": {},
     "output_type": "execute_result"
    }
   ],
   "source": [
    "# check the value of Machine failure where HDF is 1\n",
    "\n",
    "data[data['HDF']==1]['Machine failure'].value_counts()"
   ]
  },
  {
   "cell_type": "code",
   "execution_count": 139,
   "metadata": {},
   "outputs": [
    {
     "data": {
      "text/plain": [
       "0    142822\n",
       "1      1659\n",
       "Name: Machine failure, dtype: int64"
      ]
     },
     "execution_count": 139,
     "metadata": {},
     "output_type": "execute_result"
    }
   ],
   "source": [
    "# check the value of Machine failure where HDF is 0\n",
    "\n",
    "data[data['HDF']==0]['Machine failure'].value_counts()"
   ]
  },
  {
   "cell_type": "code",
   "execution_count": 140,
   "metadata": {},
   "outputs": [
    {
     "data": {
      "text/plain": [
       "1    608\n",
       "0      3\n",
       "Name: Machine failure, dtype: int64"
      ]
     },
     "execution_count": 140,
     "metadata": {},
     "output_type": "execute_result"
    }
   ],
   "source": [
    "# check the value of Machine failure where OSF is 1\n",
    "\n",
    "data[data['OSF']==1]['Machine failure'].value_counts()"
   ]
  },
  {
   "cell_type": "code",
   "execution_count": 141,
   "metadata": {},
   "outputs": [
    {
     "data": {
      "text/plain": [
       "0    142824\n",
       "1      1858\n",
       "Name: Machine failure, dtype: int64"
      ]
     },
     "execution_count": 141,
     "metadata": {},
     "output_type": "execute_result"
    }
   ],
   "source": [
    "# check the value of Machine failure where OSF is 0\n",
    "\n",
    "data[data['OSF']==0]['Machine failure'].value_counts()"
   ]
  },
  {
   "cell_type": "code",
   "execution_count": 142,
   "metadata": {},
   "outputs": [
    {
     "data": {
      "text/plain": [
       "1    411\n",
       "0      3\n",
       "Name: Machine failure, dtype: int64"
      ]
     },
     "execution_count": 142,
     "metadata": {},
     "output_type": "execute_result"
    }
   ],
   "source": [
    "# check the value of Machine failure where PWF is 1\n",
    "\n",
    "data[data['PWF']==1]['Machine failure'].value_counts()"
   ]
  },
  {
   "cell_type": "code",
   "execution_count": 143,
   "metadata": {},
   "outputs": [
    {
     "data": {
      "text/plain": [
       "0    142824\n",
       "1      2055\n",
       "Name: Machine failure, dtype: int64"
      ]
     },
     "execution_count": 143,
     "metadata": {},
     "output_type": "execute_result"
    }
   ],
   "source": [
    "# check the value of Machine failure where PWF is 0\n",
    "\n",
    "data[data['PWF']==0]['Machine failure'].value_counts()"
   ]
  },
  {
   "cell_type": "code",
   "execution_count": 144,
   "metadata": {},
   "outputs": [
    {
     "data": {
      "text/plain": [
       "1    253\n",
       "Name: Machine failure, dtype: int64"
      ]
     },
     "execution_count": 144,
     "metadata": {},
     "output_type": "execute_result"
    }
   ],
   "source": [
    "# check the value of Machine failure where TWF is 1\n",
    "\n",
    "data[data['TWF']==1]['Machine failure'].value_counts()"
   ]
  },
  {
   "cell_type": "code",
   "execution_count": 145,
   "metadata": {},
   "outputs": [
    {
     "data": {
      "text/plain": [
       "0    142827\n",
       "1      2213\n",
       "Name: Machine failure, dtype: int64"
      ]
     },
     "execution_count": 145,
     "metadata": {},
     "output_type": "execute_result"
    }
   ],
   "source": [
    "# check the value of Machine failure where TWF is 0\n",
    "\n",
    "data[data['TWF']==0]['Machine failure'].value_counts()"
   ]
  },
  {
   "attachments": {},
   "cell_type": "markdown",
   "metadata": {},
   "source": [
    "TWF (tool wear failure), HDF (heat dissipation failure), PWF (power failure), OSF (overload failure), and RNF (random failure) variables. "
   ]
  },
  {
   "cell_type": "code",
   "execution_count": 146,
   "metadata": {},
   "outputs": [
    {
     "data": {
      "text/plain": [
       "TWF    253\n",
       "PWF    411\n",
       "OSF    608\n",
       "HDF    807\n",
       "dtype: int64"
      ]
     },
     "execution_count": 146,
     "metadata": {},
     "output_type": "execute_result"
    }
   ],
   "source": [
    "# check which of the features from TWF, PWF, OSF, HDF cause the most Machine failure\n",
    "\n",
    "data[data['Machine failure']==1][['TWF','PWF','OSF','HDF']].sum()\n"
   ]
  },
  {
   "cell_type": "code",
   "execution_count": 147,
   "metadata": {},
   "outputs": [
    {
     "data": {
      "text/plain": [
       "(145293, 13)"
      ]
     },
     "execution_count": 147,
     "metadata": {},
     "output_type": "execute_result"
    }
   ],
   "source": [
    "data.shape"
   ]
  },
  {
   "attachments": {},
   "cell_type": "markdown",
   "metadata": {},
   "source": [
    "## Preprocessing"
   ]
  },
  {
   "cell_type": "code",
   "execution_count": 248,
   "metadata": {},
   "outputs": [],
   "source": [
    "def create_features(dataframe):\n",
    "    dataframe['HDF_TWF_OSF_PWF']=dataframe['HDF']+dataframe['TWF']+dataframe['OSF']+dataframe['PWF']\n",
    "    dataframe['Power']=dataframe['Torque [Nm]']*dataframe['Rotational speed [rpm]']\n",
    "    dataframe['Temp/ratio [K]']=dataframe['Process temperature [K]']/dataframe['Air temperature [K]']\n",
    "#     dataframe['Process temperature [C]']=dataframe['Process temperature [K]']-273.15\n",
    "#     dataframe['Air temperature [C]']=dataframe['Air temperature [K]']-273.15\n",
    "#    dataframe['Temp/ratio [C]']=dataframe['Process temperature [C]']/dataframe['Air temperature [C]']\n",
    "    dataframe['Tool wear speed']=dataframe['Tool wear [min]']*dataframe['Rotational speed [rpm]']\n",
    "    dataframe['Torque wear ratio']=dataframe['Torque [Nm]']/(dataframe['Tool wear [min]']+0.0001)\n",
    "    dataframe['Torque speed ratio']=dataframe['Torque [Nm]']/dataframe['Rotational speed [rpm]']\n",
    "    dataframe['Temperature difference']=dataframe['Process temperature [K]']-dataframe['Air temperature [K]']\n",
    "    return dataframe"
   ]
  },
  {
   "cell_type": "code",
   "execution_count": 249,
   "metadata": {},
   "outputs": [],
   "source": [
    "# # remove first letter from Product ID column\n",
    "\n",
    "# data['Product ID']=data['Product ID'].str[1:]"
   ]
  },
  {
   "cell_type": "code",
   "execution_count": 250,
   "metadata": {},
   "outputs": [
    {
     "data": {
      "text/html": [
       "<div>\n",
       "<style scoped>\n",
       "    .dataframe tbody tr th:only-of-type {\n",
       "        vertical-align: middle;\n",
       "    }\n",
       "\n",
       "    .dataframe tbody tr th {\n",
       "        vertical-align: top;\n",
       "    }\n",
       "\n",
       "    .dataframe thead th {\n",
       "        text-align: right;\n",
       "    }\n",
       "</style>\n",
       "<table border=\"1\" class=\"dataframe\">\n",
       "  <thead>\n",
       "    <tr style=\"text-align: right;\">\n",
       "      <th></th>\n",
       "      <th>Product ID</th>\n",
       "      <th>Type</th>\n",
       "      <th>Air temperature [K]</th>\n",
       "      <th>Process temperature [K]</th>\n",
       "      <th>Rotational speed [rpm]</th>\n",
       "      <th>Torque [Nm]</th>\n",
       "      <th>Tool wear [min]</th>\n",
       "      <th>Machine failure</th>\n",
       "      <th>TWF</th>\n",
       "      <th>HDF</th>\n",
       "      <th>PWF</th>\n",
       "      <th>OSF</th>\n",
       "      <th>RNF</th>\n",
       "    </tr>\n",
       "    <tr>\n",
       "      <th>id</th>\n",
       "      <th></th>\n",
       "      <th></th>\n",
       "      <th></th>\n",
       "      <th></th>\n",
       "      <th></th>\n",
       "      <th></th>\n",
       "      <th></th>\n",
       "      <th></th>\n",
       "      <th></th>\n",
       "      <th></th>\n",
       "      <th></th>\n",
       "      <th></th>\n",
       "      <th></th>\n",
       "    </tr>\n",
       "  </thead>\n",
       "  <tbody>\n",
       "    <tr>\n",
       "      <th>0</th>\n",
       "      <td>L50096</td>\n",
       "      <td>L</td>\n",
       "      <td>300.6</td>\n",
       "      <td>309.6</td>\n",
       "      <td>1596</td>\n",
       "      <td>36.1</td>\n",
       "      <td>140</td>\n",
       "      <td>0</td>\n",
       "      <td>0</td>\n",
       "      <td>0</td>\n",
       "      <td>0</td>\n",
       "      <td>0</td>\n",
       "      <td>0</td>\n",
       "    </tr>\n",
       "    <tr>\n",
       "      <th>1</th>\n",
       "      <td>M20343</td>\n",
       "      <td>M</td>\n",
       "      <td>302.6</td>\n",
       "      <td>312.1</td>\n",
       "      <td>1759</td>\n",
       "      <td>29.1</td>\n",
       "      <td>200</td>\n",
       "      <td>0</td>\n",
       "      <td>0</td>\n",
       "      <td>0</td>\n",
       "      <td>0</td>\n",
       "      <td>0</td>\n",
       "      <td>0</td>\n",
       "    </tr>\n",
       "    <tr>\n",
       "      <th>2</th>\n",
       "      <td>L49454</td>\n",
       "      <td>L</td>\n",
       "      <td>299.3</td>\n",
       "      <td>308.5</td>\n",
       "      <td>1805</td>\n",
       "      <td>26.5</td>\n",
       "      <td>25</td>\n",
       "      <td>0</td>\n",
       "      <td>0</td>\n",
       "      <td>0</td>\n",
       "      <td>0</td>\n",
       "      <td>0</td>\n",
       "      <td>0</td>\n",
       "    </tr>\n",
       "    <tr>\n",
       "      <th>3</th>\n",
       "      <td>L53355</td>\n",
       "      <td>L</td>\n",
       "      <td>301.0</td>\n",
       "      <td>310.9</td>\n",
       "      <td>1524</td>\n",
       "      <td>44.3</td>\n",
       "      <td>197</td>\n",
       "      <td>0</td>\n",
       "      <td>0</td>\n",
       "      <td>0</td>\n",
       "      <td>0</td>\n",
       "      <td>0</td>\n",
       "      <td>0</td>\n",
       "    </tr>\n",
       "    <tr>\n",
       "      <th>4</th>\n",
       "      <td>M24050</td>\n",
       "      <td>M</td>\n",
       "      <td>298.0</td>\n",
       "      <td>309.0</td>\n",
       "      <td>1641</td>\n",
       "      <td>35.4</td>\n",
       "      <td>34</td>\n",
       "      <td>0</td>\n",
       "      <td>0</td>\n",
       "      <td>0</td>\n",
       "      <td>0</td>\n",
       "      <td>0</td>\n",
       "      <td>0</td>\n",
       "    </tr>\n",
       "  </tbody>\n",
       "</table>\n",
       "</div>"
      ],
      "text/plain": [
       "   Product ID Type  Air temperature [K]  Process temperature [K]  \\\n",
       "id                                                                 \n",
       "0      L50096    L                300.6                    309.6   \n",
       "1      M20343    M                302.6                    312.1   \n",
       "2      L49454    L                299.3                    308.5   \n",
       "3      L53355    L                301.0                    310.9   \n",
       "4      M24050    M                298.0                    309.0   \n",
       "\n",
       "    Rotational speed [rpm]  Torque [Nm]  Tool wear [min]  Machine failure  \\\n",
       "id                                                                          \n",
       "0                     1596         36.1              140                0   \n",
       "1                     1759         29.1              200                0   \n",
       "2                     1805         26.5               25                0   \n",
       "3                     1524         44.3              197                0   \n",
       "4                     1641         35.4               34                0   \n",
       "\n",
       "    TWF  HDF  PWF  OSF  RNF  \n",
       "id                           \n",
       "0     0    0    0    0    0  \n",
       "1     0    0    0    0    0  \n",
       "2     0    0    0    0    0  \n",
       "3     0    0    0    0    0  \n",
       "4     0    0    0    0    0  "
      ]
     },
     "execution_count": 250,
     "metadata": {},
     "output_type": "execute_result"
    }
   ],
   "source": [
    "data.head(5)"
   ]
  },
  {
   "cell_type": "code",
   "execution_count": 251,
   "metadata": {},
   "outputs": [
    {
     "data": {
      "text/plain": [
       "L53257    138\n",
       "L49056    129\n",
       "L48892    117\n",
       "L54275    115\n",
       "L53258    107\n",
       "         ... \n",
       "H31308      1\n",
       "L48159      1\n",
       "M15753      1\n",
       "H30273      1\n",
       "M24818      1\n",
       "Name: Product ID, Length: 10000, dtype: int64"
      ]
     },
     "execution_count": 251,
     "metadata": {},
     "output_type": "execute_result"
    }
   ],
   "source": [
    "data['Product ID'].value_counts()"
   ]
  },
  {
   "cell_type": "code",
   "execution_count": 252,
   "metadata": {},
   "outputs": [],
   "source": [
    "X=data.drop(['Machine failure'],axis=1)\n",
    "y=data['Machine failure']"
   ]
  },
  {
   "cell_type": "code",
   "execution_count": 253,
   "metadata": {},
   "outputs": [],
   "source": [
    "# class weights\n",
    "from sklearn.utils import class_weight\n",
    "class_weights =class_weight.compute_class_weight('balanced',\n",
    "                                                classes=np.unique(y),\n",
    "                                                y=y)\n",
    "\n",
    "# convert to dict\n",
    "class_weights=dict(enumerate(class_weights))\n"
   ]
  },
  {
   "cell_type": "code",
   "execution_count": 254,
   "metadata": {},
   "outputs": [
    {
     "data": {
      "text/plain": [
       "{0: 0.5086328215253418, 1: 29.459245742092456}"
      ]
     },
     "execution_count": 254,
     "metadata": {},
     "output_type": "execute_result"
    }
   ],
   "source": [
    "class_weights"
   ]
  },
  {
   "cell_type": "code",
   "execution_count": 255,
   "metadata": {},
   "outputs": [],
   "source": [
    "X=create_features(X)"
   ]
  },
  {
   "cell_type": "markdown",
   "metadata": {},
   "source": [
    "### Feature Importance"
   ]
  },
  {
   "cell_type": "code",
   "execution_count": 256,
   "metadata": {},
   "outputs": [],
   "source": [
    "from sklearn.ensemble import RandomForestClassifier\n",
    "X_feat = X\n",
    "y_feat = y\n",
    "\n",
    "X_feat=pd.get_dummies(X_feat)\n",
    "model = RandomForestClassifier(n_jobs=-1)\n",
    "model.fit(X_feat,y_feat)\n",
    "\n",
    "feature_importances = pd.DataFrame(model.feature_importances_,\n",
    "                                      index = X_feat.columns,\n",
    "                                        columns=['importance']).sort_values('importance',ascending=False)"
   ]
  },
  {
   "cell_type": "code",
   "execution_count": 257,
   "metadata": {},
   "outputs": [],
   "source": [
    "feature_importances"
   ]
  },
  {
   "cell_type": "code",
   "execution_count": 258,
   "metadata": {},
   "outputs": [
    {
     "data": {
      "text/plain": [
       "(Index(['Product ID', 'Type', 'Air temperature [K]', 'Process temperature [K]',\n",
       "        'Rotational speed [rpm]', 'Torque [Nm]', 'Tool wear [min]', 'TWF',\n",
       "        'HDF', 'PWF', 'OSF', 'RNF', 'HDF_TWF_OSF_PWF', 'Power',\n",
       "        'Temp/ratio [K]', 'Tool wear speed', 'Torque wear ratio',\n",
       "        'Torque speed ratio', 'Temperature difference'],\n",
       "       dtype='object'),\n",
       " 19)"
      ]
     },
     "execution_count": 258,
     "metadata": {},
     "output_type": "execute_result"
    }
   ],
   "source": [
    "X.columns, len(X.columns)"
   ]
  },
  {
   "cell_type": "code",
   "execution_count": 259,
   "metadata": {},
   "outputs": [
    {
     "data": {
      "text/plain": [
       "Index(['Air temperature [K]', 'Process temperature [K]',\n",
       "       'Rotational speed [rpm]', 'Torque [Nm]', 'Tool wear [min]', 'TWF',\n",
       "       'HDF', 'PWF', 'OSF', 'RNF', 'HDF_TWF_OSF_PWF', 'Power',\n",
       "       'Temp/ratio [K]', 'Tool wear speed', 'Torque wear ratio',\n",
       "       'Torque speed ratio', 'Temperature difference'],\n",
       "      dtype='object')"
      ]
     },
     "execution_count": 259,
     "metadata": {},
     "output_type": "execute_result"
    }
   ],
   "source": [
    "X.select_dtypes(include=['int64','float64']).columns"
   ]
  },
  {
   "cell_type": "code",
   "execution_count": 260,
   "metadata": {},
   "outputs": [],
   "source": [
    "bin_features=['TWF','PWF','OSF','HDF','RNF']"
   ]
  },
  {
   "cell_type": "code",
   "execution_count": 261,
   "metadata": {},
   "outputs": [],
   "source": [
    "# numeric_features=['Air temperature [K]', 'Process temperature [K]',\n",
    "#         'Rotational speed [rpm]', 'Torque [Nm]', 'Tool wear [min]','Power',\n",
    "#        'Temp/ratio [K]', 'Process temperature [C]', 'Air temperature [C]',\n",
    "#        'Temp/ratio [C]', 'Tool wear speed', 'Torque wear ratio']\n",
    "#'TWF', 'HDF', 'PWF', 'OSF','RNF','HDF_TWF_OSF_PWF'\n",
    "categorical_features=['Product ID']\n",
    "numeric_features=X.select_dtypes(include=['int64','float64']).columns.to_list()\n",
    "\n"
   ]
  },
  {
   "cell_type": "code",
   "execution_count": 265,
   "metadata": {},
   "outputs": [
    {
     "data": {
      "text/plain": [
       "0    142827\n",
       "1      2466\n",
       "Name: Machine failure, dtype: int64"
      ]
     },
     "execution_count": 265,
     "metadata": {},
     "output_type": "execute_result"
    }
   ],
   "source": [
    "y.value_counts()"
   ]
  },
  {
   "cell_type": "code",
   "execution_count": 266,
   "metadata": {},
   "outputs": [
    {
     "data": {
      "text/plain": [
       "(['Air temperature [K]',\n",
       "  'Process temperature [K]',\n",
       "  'Rotational speed [rpm]',\n",
       "  'Torque [Nm]',\n",
       "  'Tool wear [min]',\n",
       "  'TWF',\n",
       "  'HDF',\n",
       "  'PWF',\n",
       "  'OSF',\n",
       "  'RNF',\n",
       "  'HDF_TWF_OSF_PWF',\n",
       "  'Power',\n",
       "  'Temp/ratio [K]',\n",
       "  'Tool wear speed',\n",
       "  'Torque wear ratio',\n",
       "  'Torque speed ratio',\n",
       "  'Temperature difference'],\n",
       " ['Product ID'])"
      ]
     },
     "execution_count": 266,
     "metadata": {},
     "output_type": "execute_result"
    }
   ],
   "source": [
    "numeric_features,categorical_features"
   ]
  },
  {
   "cell_type": "code",
   "execution_count": 267,
   "metadata": {},
   "outputs": [],
   "source": [
    "train_cat_X=X\n",
    "train_cat_y=y"
   ]
  },
  {
   "cell_type": "code",
   "execution_count": 177,
   "metadata": {},
   "outputs": [],
   "source": [
    "from sklearn.pipeline import Pipeline\n",
    "from sklearn.preprocessing import OneHotEncoder,OrdinalEncoder,MinMaxScaler,RobustScaler,StandardScaler\n",
    "from sklearn.decomposition import PCA\n",
    "\n",
    "# pipeline=Pipeline([('scaler',StandardScaler()),\n",
    "#                      ('pca',PCA(n_components=10,random_state=42))])\n"
   ]
  },
  {
   "cell_type": "code",
   "execution_count": 178,
   "metadata": {},
   "outputs": [
    {
     "data": {
      "text/plain": [
       "(9, 1, 10)"
      ]
     },
     "execution_count": 178,
     "metadata": {},
     "output_type": "execute_result"
    }
   ],
   "source": [
    "len(numeric_features),len(categorical_features),len(X.columns)"
   ]
  },
  {
   "cell_type": "code",
   "execution_count": 179,
   "metadata": {},
   "outputs": [],
   "source": [
    "from sklearn.compose import ColumnTransformer\n",
    "\n",
    "ct = ColumnTransformer(\n",
    "    transformers=[\n",
    "        ('num', MinMaxScaler(), numeric_features),\n",
    "        ('cat', OrdinalEncoder(handle_unknown='use_encoded_value',unknown_value=30000), categorical_features)],remainder='passthrough')\n"
   ]
  },
  {
   "cell_type": "code",
   "execution_count": 180,
   "metadata": {},
   "outputs": [],
   "source": [
    "ct.fit(X)\n",
    "\n",
    "X=ct.transform(X)"
   ]
  },
  {
   "cell_type": "code",
   "execution_count": 181,
   "metadata": {},
   "outputs": [
    {
     "data": {
      "text/plain": [
       "(145293, 10)"
      ]
     },
     "execution_count": 181,
     "metadata": {},
     "output_type": "execute_result"
    }
   ],
   "source": [
    "X.shape"
   ]
  },
  {
   "attachments": {},
   "cell_type": "markdown",
   "metadata": {},
   "source": [
    "## Modelling"
   ]
  },
  {
   "cell_type": "code",
   "execution_count": 242,
   "metadata": {},
   "outputs": [],
   "source": [
    "from sklearn.model_selection import StratifiedKFold\n",
    "from sklearn.metrics import roc_auc_score"
   ]
  },
  {
   "attachments": {},
   "cell_type": "markdown",
   "metadata": {},
   "source": [
    "### Naive bayes"
   ]
  },
  {
   "cell_type": "code",
   "execution_count": 183,
   "metadata": {},
   "outputs": [],
   "source": [
    "from sklearn.naive_bayes import GaussianNB\n",
    "\n",
    "skf = StratifiedKFold(n_splits=5,shuffle=True,random_state=42)\n",
    "\n",
    "scores=[]\n",
    "for train_index, test_index in skf.split(X, y):\n",
    "    X_train, X_test = X[train_index], X[test_index]\n",
    "    y_train, y_test = y.iloc[train_index], y.iloc[test_index]\n",
    "    model = GaussianNB(var_smoothing=1e-20)\n",
    "    model.fit(X_train,y_train)\n",
    "    y_pred=model.predict_proba(X_test)[:,1]\n",
    "    scores.append(roc_auc_score(y_test,y_pred))\n",
    "    \n"
   ]
  },
  {
   "cell_type": "code",
   "execution_count": 184,
   "metadata": {},
   "outputs": [
    {
     "data": {
      "text/plain": [
       "([0.9443973665341243,\n",
       "  0.9456709553719872,\n",
       "  0.9586641306034748,\n",
       "  0.9469372900991972,\n",
       "  0.9616512498273573],\n",
       " 0.9514641984872281)"
      ]
     },
     "execution_count": 184,
     "metadata": {},
     "output_type": "execute_result"
    }
   ],
   "source": [
    "scores, np.mean(scores)"
   ]
  },
  {
   "cell_type": "code",
   "execution_count": 185,
   "metadata": {},
   "outputs": [
    {
     "data": {
      "text/html": [
       "<style>#sk-container-id-2 {color: black;background-color: white;}#sk-container-id-2 pre{padding: 0;}#sk-container-id-2 div.sk-toggleable {background-color: white;}#sk-container-id-2 label.sk-toggleable__label {cursor: pointer;display: block;width: 100%;margin-bottom: 0;padding: 0.3em;box-sizing: border-box;text-align: center;}#sk-container-id-2 label.sk-toggleable__label-arrow:before {content: \"▸\";float: left;margin-right: 0.25em;color: #696969;}#sk-container-id-2 label.sk-toggleable__label-arrow:hover:before {color: black;}#sk-container-id-2 div.sk-estimator:hover label.sk-toggleable__label-arrow:before {color: black;}#sk-container-id-2 div.sk-toggleable__content {max-height: 0;max-width: 0;overflow: hidden;text-align: left;background-color: #f0f8ff;}#sk-container-id-2 div.sk-toggleable__content pre {margin: 0.2em;color: black;border-radius: 0.25em;background-color: #f0f8ff;}#sk-container-id-2 input.sk-toggleable__control:checked~div.sk-toggleable__content {max-height: 200px;max-width: 100%;overflow: auto;}#sk-container-id-2 input.sk-toggleable__control:checked~label.sk-toggleable__label-arrow:before {content: \"▾\";}#sk-container-id-2 div.sk-estimator input.sk-toggleable__control:checked~label.sk-toggleable__label {background-color: #d4ebff;}#sk-container-id-2 div.sk-label input.sk-toggleable__control:checked~label.sk-toggleable__label {background-color: #d4ebff;}#sk-container-id-2 input.sk-hidden--visually {border: 0;clip: rect(1px 1px 1px 1px);clip: rect(1px, 1px, 1px, 1px);height: 1px;margin: -1px;overflow: hidden;padding: 0;position: absolute;width: 1px;}#sk-container-id-2 div.sk-estimator {font-family: monospace;background-color: #f0f8ff;border: 1px dotted black;border-radius: 0.25em;box-sizing: border-box;margin-bottom: 0.5em;}#sk-container-id-2 div.sk-estimator:hover {background-color: #d4ebff;}#sk-container-id-2 div.sk-parallel-item::after {content: \"\";width: 100%;border-bottom: 1px solid gray;flex-grow: 1;}#sk-container-id-2 div.sk-label:hover label.sk-toggleable__label {background-color: #d4ebff;}#sk-container-id-2 div.sk-serial::before {content: \"\";position: absolute;border-left: 1px solid gray;box-sizing: border-box;top: 0;bottom: 0;left: 50%;z-index: 0;}#sk-container-id-2 div.sk-serial {display: flex;flex-direction: column;align-items: center;background-color: white;padding-right: 0.2em;padding-left: 0.2em;position: relative;}#sk-container-id-2 div.sk-item {position: relative;z-index: 1;}#sk-container-id-2 div.sk-parallel {display: flex;align-items: stretch;justify-content: center;background-color: white;position: relative;}#sk-container-id-2 div.sk-item::before, #sk-container-id-2 div.sk-parallel-item::before {content: \"\";position: absolute;border-left: 1px solid gray;box-sizing: border-box;top: 0;bottom: 0;left: 50%;z-index: -1;}#sk-container-id-2 div.sk-parallel-item {display: flex;flex-direction: column;z-index: 1;position: relative;background-color: white;}#sk-container-id-2 div.sk-parallel-item:first-child::after {align-self: flex-end;width: 50%;}#sk-container-id-2 div.sk-parallel-item:last-child::after {align-self: flex-start;width: 50%;}#sk-container-id-2 div.sk-parallel-item:only-child::after {width: 0;}#sk-container-id-2 div.sk-dashed-wrapped {border: 1px dashed gray;margin: 0 0.4em 0.5em 0.4em;box-sizing: border-box;padding-bottom: 0.4em;background-color: white;}#sk-container-id-2 div.sk-label label {font-family: monospace;font-weight: bold;display: inline-block;line-height: 1.2em;}#sk-container-id-2 div.sk-label-container {text-align: center;}#sk-container-id-2 div.sk-container {/* jupyter's `normalize.less` sets `[hidden] { display: none; }` but bootstrap.min.css set `[hidden] { display: none !important; }` so we also need the `!important` here to be able to override the default hidden behavior on the sphinx rendered scikit-learn.org. See: https://github.com/scikit-learn/scikit-learn/issues/21755 */display: inline-block !important;position: relative;}#sk-container-id-2 div.sk-text-repr-fallback {display: none;}</style><div id=\"sk-container-id-2\" class=\"sk-top-container\"><div class=\"sk-text-repr-fallback\"><pre>GaussianNB(var_smoothing=1e-20)</pre><b>In a Jupyter environment, please rerun this cell to show the HTML representation or trust the notebook. <br />On GitHub, the HTML representation is unable to render, please try loading this page with nbviewer.org.</b></div><div class=\"sk-container\" hidden><div class=\"sk-item\"><div class=\"sk-estimator sk-toggleable\"><input class=\"sk-toggleable__control sk-hidden--visually\" id=\"sk-estimator-id-2\" type=\"checkbox\" checked><label for=\"sk-estimator-id-2\" class=\"sk-toggleable__label sk-toggleable__label-arrow\">GaussianNB</label><div class=\"sk-toggleable__content\"><pre>GaussianNB(var_smoothing=1e-20)</pre></div></div></div></div></div>"
      ],
      "text/plain": [
       "GaussianNB(var_smoothing=1e-20)"
      ]
     },
     "execution_count": 185,
     "metadata": {},
     "output_type": "execute_result"
    }
   ],
   "source": [
    "naive_bayes=GaussianNB(var_smoothing=1e-20)\n",
    "naive_bayes.fit(X,y)\n"
   ]
  },
  {
   "attachments": {},
   "cell_type": "markdown",
   "metadata": {},
   "source": [
    "### Random Forest"
   ]
  },
  {
   "cell_type": "code",
   "execution_count": 186,
   "metadata": {},
   "outputs": [],
   "source": [
    "# rf_params={'n_estimators': 100,\n",
    "#  'max_features': 0.6897696969836908,\n",
    "#  'max_leaf_nodes': 42,\n",
    "#  'criterion': 'entropy'}\n",
    "# rf_params={'n_estimators': 57,\n",
    "#  'max_features': 0.2593823314046004,\n",
    "#  'max_leaf_nodes': 78,\n",
    "#  'criterion': 'entropy'}\n",
    "\n",
    "rf_params={'n_estimators': 57,\n",
    " 'max_features': 0.2593823314046004,\n",
    " 'max_leaf_nodes': 78,\n",
    " 'criterion': 'entropy'}"
   ]
  },
  {
   "cell_type": "code",
   "execution_count": 187,
   "metadata": {},
   "outputs": [],
   "source": [
    "from sklearn.ensemble import RandomForestClassifier\n",
    "\n",
    "skf = StratifiedKFold(n_splits=5,shuffle=True,random_state=42)\n",
    "\n",
    "scores=[]\n",
    "for train_index, test_index in skf.split(X, y):\n",
    "    X_train, X_test = X[train_index], X[test_index]\n",
    "    y_train, y_test = y.iloc[train_index], y.iloc[test_index]\n",
    "    model = RandomForestClassifier(n_jobs=-1,**rf_params)\n",
    "    model.fit(X_train,y_train)\n",
    "    y_pred=model.predict_proba(X_test)[:,1]\n",
    "    scores.append(roc_auc_score(y_test,y_pred))"
   ]
  },
  {
   "cell_type": "code",
   "execution_count": 188,
   "metadata": {},
   "outputs": [
    {
     "data": {
      "text/plain": [
       "([0.9656464038512146,\n",
       "  0.9641556743651476,\n",
       "  0.9762810650615013,\n",
       "  0.9645667384695025,\n",
       "  0.9825348330149132],\n",
       " 0.9706369429524558)"
      ]
     },
     "execution_count": 188,
     "metadata": {},
     "output_type": "execute_result"
    }
   ],
   "source": [
    "scores, np.mean(scores)"
   ]
  },
  {
   "cell_type": "code",
   "execution_count": 139,
   "metadata": {},
   "outputs": [
    {
     "data": {
      "text/html": [
       "<style>#sk-container-id-3 {color: black;background-color: white;}#sk-container-id-3 pre{padding: 0;}#sk-container-id-3 div.sk-toggleable {background-color: white;}#sk-container-id-3 label.sk-toggleable__label {cursor: pointer;display: block;width: 100%;margin-bottom: 0;padding: 0.3em;box-sizing: border-box;text-align: center;}#sk-container-id-3 label.sk-toggleable__label-arrow:before {content: \"▸\";float: left;margin-right: 0.25em;color: #696969;}#sk-container-id-3 label.sk-toggleable__label-arrow:hover:before {color: black;}#sk-container-id-3 div.sk-estimator:hover label.sk-toggleable__label-arrow:before {color: black;}#sk-container-id-3 div.sk-toggleable__content {max-height: 0;max-width: 0;overflow: hidden;text-align: left;background-color: #f0f8ff;}#sk-container-id-3 div.sk-toggleable__content pre {margin: 0.2em;color: black;border-radius: 0.25em;background-color: #f0f8ff;}#sk-container-id-3 input.sk-toggleable__control:checked~div.sk-toggleable__content {max-height: 200px;max-width: 100%;overflow: auto;}#sk-container-id-3 input.sk-toggleable__control:checked~label.sk-toggleable__label-arrow:before {content: \"▾\";}#sk-container-id-3 div.sk-estimator input.sk-toggleable__control:checked~label.sk-toggleable__label {background-color: #d4ebff;}#sk-container-id-3 div.sk-label input.sk-toggleable__control:checked~label.sk-toggleable__label {background-color: #d4ebff;}#sk-container-id-3 input.sk-hidden--visually {border: 0;clip: rect(1px 1px 1px 1px);clip: rect(1px, 1px, 1px, 1px);height: 1px;margin: -1px;overflow: hidden;padding: 0;position: absolute;width: 1px;}#sk-container-id-3 div.sk-estimator {font-family: monospace;background-color: #f0f8ff;border: 1px dotted black;border-radius: 0.25em;box-sizing: border-box;margin-bottom: 0.5em;}#sk-container-id-3 div.sk-estimator:hover {background-color: #d4ebff;}#sk-container-id-3 div.sk-parallel-item::after {content: \"\";width: 100%;border-bottom: 1px solid gray;flex-grow: 1;}#sk-container-id-3 div.sk-label:hover label.sk-toggleable__label {background-color: #d4ebff;}#sk-container-id-3 div.sk-serial::before {content: \"\";position: absolute;border-left: 1px solid gray;box-sizing: border-box;top: 0;bottom: 0;left: 50%;z-index: 0;}#sk-container-id-3 div.sk-serial {display: flex;flex-direction: column;align-items: center;background-color: white;padding-right: 0.2em;padding-left: 0.2em;position: relative;}#sk-container-id-3 div.sk-item {position: relative;z-index: 1;}#sk-container-id-3 div.sk-parallel {display: flex;align-items: stretch;justify-content: center;background-color: white;position: relative;}#sk-container-id-3 div.sk-item::before, #sk-container-id-3 div.sk-parallel-item::before {content: \"\";position: absolute;border-left: 1px solid gray;box-sizing: border-box;top: 0;bottom: 0;left: 50%;z-index: -1;}#sk-container-id-3 div.sk-parallel-item {display: flex;flex-direction: column;z-index: 1;position: relative;background-color: white;}#sk-container-id-3 div.sk-parallel-item:first-child::after {align-self: flex-end;width: 50%;}#sk-container-id-3 div.sk-parallel-item:last-child::after {align-self: flex-start;width: 50%;}#sk-container-id-3 div.sk-parallel-item:only-child::after {width: 0;}#sk-container-id-3 div.sk-dashed-wrapped {border: 1px dashed gray;margin: 0 0.4em 0.5em 0.4em;box-sizing: border-box;padding-bottom: 0.4em;background-color: white;}#sk-container-id-3 div.sk-label label {font-family: monospace;font-weight: bold;display: inline-block;line-height: 1.2em;}#sk-container-id-3 div.sk-label-container {text-align: center;}#sk-container-id-3 div.sk-container {/* jupyter's `normalize.less` sets `[hidden] { display: none; }` but bootstrap.min.css set `[hidden] { display: none !important; }` so we also need the `!important` here to be able to override the default hidden behavior on the sphinx rendered scikit-learn.org. See: https://github.com/scikit-learn/scikit-learn/issues/21755 */display: inline-block !important;position: relative;}#sk-container-id-3 div.sk-text-repr-fallback {display: none;}</style><div id=\"sk-container-id-3\" class=\"sk-top-container\"><div class=\"sk-text-repr-fallback\"><pre>RandomForestClassifier(criterion=&#x27;entropy&#x27;, max_features=0.2593823314046004,\n",
       "                       max_leaf_nodes=78, n_estimators=57, n_jobs=-1)</pre><b>In a Jupyter environment, please rerun this cell to show the HTML representation or trust the notebook. <br />On GitHub, the HTML representation is unable to render, please try loading this page with nbviewer.org.</b></div><div class=\"sk-container\" hidden><div class=\"sk-item\"><div class=\"sk-estimator sk-toggleable\"><input class=\"sk-toggleable__control sk-hidden--visually\" id=\"sk-estimator-id-3\" type=\"checkbox\" checked><label for=\"sk-estimator-id-3\" class=\"sk-toggleable__label sk-toggleable__label-arrow\">RandomForestClassifier</label><div class=\"sk-toggleable__content\"><pre>RandomForestClassifier(criterion=&#x27;entropy&#x27;, max_features=0.2593823314046004,\n",
       "                       max_leaf_nodes=78, n_estimators=57, n_jobs=-1)</pre></div></div></div></div></div>"
      ],
      "text/plain": [
       "RandomForestClassifier(criterion='entropy', max_features=0.2593823314046004,\n",
       "                       max_leaf_nodes=78, n_estimators=57, n_jobs=-1)"
      ]
     },
     "execution_count": 139,
     "metadata": {},
     "output_type": "execute_result"
    }
   ],
   "source": [
    "rfc=RandomForestClassifier(n_jobs=-1,**rf_params)\n",
    "rfc.fit(X,y)"
   ]
  },
  {
   "cell_type": "code",
   "execution_count": 140,
   "metadata": {},
   "outputs": [],
   "source": [
    "## feature importance\n",
    "\n",
    "feature_importances = pd.DataFrame(rfc.feature_importances_,\n",
    "                                        index = ct.get_feature_names_out(),\n",
    "                                            columns=['importance']).sort_values('importance',ascending=False)"
   ]
  },
  {
   "cell_type": "code",
   "execution_count": 141,
   "metadata": {},
   "outputs": [
    {
     "data": {
      "text/html": [
       "<div>\n",
       "<style scoped>\n",
       "    .dataframe tbody tr th:only-of-type {\n",
       "        vertical-align: middle;\n",
       "    }\n",
       "\n",
       "    .dataframe tbody tr th {\n",
       "        vertical-align: top;\n",
       "    }\n",
       "\n",
       "    .dataframe thead th {\n",
       "        text-align: right;\n",
       "    }\n",
       "</style>\n",
       "<table border=\"1\" class=\"dataframe\">\n",
       "  <thead>\n",
       "    <tr style=\"text-align: right;\">\n",
       "      <th></th>\n",
       "      <th>importance</th>\n",
       "    </tr>\n",
       "  </thead>\n",
       "  <tbody>\n",
       "    <tr>\n",
       "      <th>remainder__HDF</th>\n",
       "      <td>0.278621</td>\n",
       "    </tr>\n",
       "    <tr>\n",
       "      <th>remainder__OSF</th>\n",
       "      <td>0.205059</td>\n",
       "    </tr>\n",
       "    <tr>\n",
       "      <th>remainder__PWF</th>\n",
       "      <td>0.130718</td>\n",
       "    </tr>\n",
       "    <tr>\n",
       "      <th>remainder__TWF</th>\n",
       "      <td>0.104877</td>\n",
       "    </tr>\n",
       "    <tr>\n",
       "      <th>num__Torque [Nm]</th>\n",
       "      <td>0.096396</td>\n",
       "    </tr>\n",
       "    <tr>\n",
       "      <th>num__Rotational speed [rpm]</th>\n",
       "      <td>0.093099</td>\n",
       "    </tr>\n",
       "    <tr>\n",
       "      <th>num__Tool wear [min]</th>\n",
       "      <td>0.036977</td>\n",
       "    </tr>\n",
       "    <tr>\n",
       "      <th>num__Air temperature [K]</th>\n",
       "      <td>0.028906</td>\n",
       "    </tr>\n",
       "    <tr>\n",
       "      <th>cat__Product ID</th>\n",
       "      <td>0.012732</td>\n",
       "    </tr>\n",
       "    <tr>\n",
       "      <th>num__Process temperature [K]</th>\n",
       "      <td>0.011482</td>\n",
       "    </tr>\n",
       "    <tr>\n",
       "      <th>cat__Type</th>\n",
       "      <td>0.001034</td>\n",
       "    </tr>\n",
       "    <tr>\n",
       "      <th>remainder__RNF</th>\n",
       "      <td>0.000100</td>\n",
       "    </tr>\n",
       "  </tbody>\n",
       "</table>\n",
       "</div>"
      ],
      "text/plain": [
       "                              importance\n",
       "remainder__HDF                  0.278621\n",
       "remainder__OSF                  0.205059\n",
       "remainder__PWF                  0.130718\n",
       "remainder__TWF                  0.104877\n",
       "num__Torque [Nm]                0.096396\n",
       "num__Rotational speed [rpm]     0.093099\n",
       "num__Tool wear [min]            0.036977\n",
       "num__Air temperature [K]        0.028906\n",
       "cat__Product ID                 0.012732\n",
       "num__Process temperature [K]    0.011482\n",
       "cat__Type                       0.001034\n",
       "remainder__RNF                  0.000100"
      ]
     },
     "execution_count": 141,
     "metadata": {},
     "output_type": "execute_result"
    }
   ],
   "source": [
    "feature_importances"
   ]
  },
  {
   "attachments": {},
   "cell_type": "markdown",
   "metadata": {},
   "source": [
    "## Catboost Classifier"
   ]
  },
  {
   "cell_type": "code",
   "execution_count": 268,
   "metadata": {},
   "outputs": [],
   "source": [
    "# cat_params={'early_stopping_rounds': 11,\n",
    "#  'learning_rate': 0.05444137644689418,\n",
    "#  'n_estimators': 133,\n",
    "#  'objective': 'Logloss',\n",
    "#  'eval_metric': 'AUC',\n",
    "#  'random_state': 42,\n",
    "#  'verbose': 0,}\n",
    "# cat_params = {'loss_function': 'Logloss',\n",
    "#           'eval_metric': 'AUC',\n",
    "#           'verbose': False,\n",
    "#           'random_seed': 19970507,\n",
    "#           'learning_rate': 0.032, \n",
    "#           'iterations': 2000, \n",
    "#           'depth': 5, \n",
    "#           'subsample': 0.705}\n",
    "\n",
    "# cat_params = cb_params = {\n",
    "#     'n_estimators': 1200,\n",
    "#     'depth': 13,\n",
    "#     'learning_rate': 0.0633180843164835,\n",
    "#     'random_strength': 0.22,\n",
    "#     'grow_policy': 'Lossguide',\n",
    "#     'bootstrap_type': 'Bayesian',\n",
    "#     'objective':'Logloss',\n",
    "#     \"loss_function\": \"AUC\",\n",
    "#     'eval_metric': \"AUC\",\n",
    "#     'l2_leaf_reg': 3.0,\n",
    "#     'min_child_samples': 3,\n",
    "#     'random_state': 42,\n",
    "#     'silent': True\n",
    "# }\n",
    "\n",
    "cat_params = {'loss_function': 'Logloss',\n",
    "          'eval_metric': 'AUC',\n",
    "          'verbose': False,\n",
    "          'random_seed': 19970507,\n",
    "          'learning_rate': 0.027, \n",
    "          'iterations': 927, \n",
    "          'depth': 5, \n",
    "          'subsample': 0.705}"
   ]
  },
  {
   "cell_type": "code",
   "execution_count": 269,
   "metadata": {},
   "outputs": [],
   "source": [
    "feature_names=train_cat_X.columns.tolist()\n",
    "categorical_features=train_cat_X.select_dtypes(include=['object']).columns.tolist()"
   ]
  },
  {
   "cell_type": "code",
   "execution_count": 270,
   "metadata": {},
   "outputs": [
    {
     "data": {
      "text/plain": [
       "(['Product ID', 'Type'],\n",
       " ['Product ID',\n",
       "  'Type',\n",
       "  'Air temperature [K]',\n",
       "  'Process temperature [K]',\n",
       "  'Rotational speed [rpm]',\n",
       "  'Torque [Nm]',\n",
       "  'Tool wear [min]',\n",
       "  'TWF',\n",
       "  'HDF',\n",
       "  'PWF',\n",
       "  'OSF',\n",
       "  'RNF',\n",
       "  'HDF_TWF_OSF_PWF',\n",
       "  'Power',\n",
       "  'Temp/ratio [K]',\n",
       "  'Tool wear speed',\n",
       "  'Torque wear ratio',\n",
       "  'Torque speed ratio',\n",
       "  'Temperature difference'])"
      ]
     },
     "execution_count": 270,
     "metadata": {},
     "output_type": "execute_result"
    }
   ],
   "source": [
    "categorical_features, feature_names"
   ]
  },
  {
   "cell_type": "code",
   "execution_count": 271,
   "metadata": {},
   "outputs": [
    {
     "data": {
      "text/plain": [
       "['Product ID', 'Type']"
      ]
     },
     "execution_count": 271,
     "metadata": {},
     "output_type": "execute_result"
    }
   ],
   "source": [
    "categorical_features"
   ]
  },
  {
   "cell_type": "code",
   "execution_count": 272,
   "metadata": {},
   "outputs": [],
   "source": [
    "from catboost import CatBoostClassifier,Pool\n",
    "from sklearn.model_selection import StratifiedKFold\n",
    "skf = StratifiedKFold(n_splits=5,shuffle=True,random_state=42)\n",
    "\n",
    "scores=[]\n",
    "for train_index, test_index in skf.split(train_cat_X, train_cat_y):\n",
    "    X_train, X_test = train_cat_X.iloc[train_index], train_cat_X.iloc[test_index]\n",
    "    y_train, y_test = train_cat_y.iloc[train_index], train_cat_y.iloc[test_index]\n",
    "    train_pool=Pool(X_train.to_numpy(),y_train.to_numpy(),cat_features=categorical_features,feature_names=feature_names)\n",
    "    test_pool=Pool(X_test.to_numpy(),y_test.to_numpy(),cat_features=categorical_features,feature_names=feature_names)\n",
    "    model = CatBoostClassifier(**cat_params)\n",
    "    model.fit(train_pool)\n",
    "    y_pred=model.predict_proba(test_pool)[:,1]\n",
    "    scores.append(roc_auc_score(y_test,y_pred))"
   ]
  },
  {
   "cell_type": "code",
   "execution_count": 273,
   "metadata": {},
   "outputs": [
    {
     "data": {
      "text/plain": [
       "([0.9771627045244073,\n",
       "  0.9745242468279927,\n",
       "  0.9861769910375583,\n",
       "  0.973725203789514,\n",
       "  0.9884791420868884],\n",
       " 0.9800136576532722)"
      ]
     },
     "execution_count": 273,
     "metadata": {},
     "output_type": "execute_result"
    }
   ],
   "source": [
    "scores, np.mean(scores)"
   ]
  },
  {
   "cell_type": "code",
   "execution_count": 274,
   "metadata": {},
   "outputs": [
    {
     "data": {
      "text/plain": [
       "<catboost.core.CatBoostClassifier at 0x15ca0bcd2b0>"
      ]
     },
     "execution_count": 274,
     "metadata": {},
     "output_type": "execute_result"
    }
   ],
   "source": [
    "cat_boost=CatBoostClassifier(**cat_params)\n",
    "\n",
    "train_pool=Pool(train_cat_X.to_numpy(),train_cat_y.to_numpy(),cat_features=categorical_features,feature_names=feature_names)\n",
    "\n",
    "cat_boost.fit(train_pool)"
   ]
  },
  {
   "attachments": {},
   "cell_type": "markdown",
   "metadata": {},
   "source": [
    "## LightGBM"
   ]
  },
  {
   "cell_type": "code",
   "execution_count": 150,
   "metadata": {},
   "outputs": [],
   "source": [
    "# params for without feature engineering and no class weights\n",
    "# {'n_estimators': 437,\n",
    "#  'num_leaves': 1137,\n",
    "#  'min_child_samples': 21,\n",
    "#  'learning_rate': 0.012788922736111897,\n",
    "#  'log_max_bin': 10,\n",
    "#  'colsample_bytree': 0.42015767404953996,\n",
    "#  'reg_alpha': 0.001975258376030875,\n",
    "#  'reg_lambda': 0.7239937504178731,\n",
    "#  'random_state': 42}\n",
    "# lgbm_params= {\"n_estimators\": 135, \"num_leaves\": 883, \"min_child_samples\": 7, \"learning_rate\": 0.0037226051855374824, \"log_max_bin\": 9, \"colsample_bytree\": 0.33966326518235646, \"reg_alpha\": 0.0024686655398856224, \"reg_lambda\": 0.0028201449346997825}\n",
    "lgbm_params={'n_estimators': 2500,\n",
    " 'num_leaves': 310,\n",
    " 'min_child_samples': 10,\n",
    " 'learning_rate': 0.0012323592719526815,\n",
    " 'max_bin': 4096,\n",
    " 'colsample_bytree': 0.2582472335147579,\n",
    " 'reg_alpha': 0.0043659867548350275,\n",
    " 'reg_lambda': 0.0015015946171746538,\n",
    " 'random_state': 42}\n",
    "#lgbm_params={'n_estimators': 1854, 'max_leaves': 128, 'min_child_weight': 3.5333625498641155, 'learning_rate': 0.08942572977482938, 'subsample': 0.9037251954669168, 'colsample_bylevel': 0.5009206003669185, 'colsample_bytree': 0.5780621665144878, 'reg_alpha': 1.5610252423873467, 'reg_lambda': 923.2310556341275, 'num_leaves': 104, 'max_depth': 12}"
   ]
  },
  {
   "cell_type": "code",
   "execution_count": 151,
   "metadata": {},
   "outputs": [],
   "source": [
    "from lightgbm import LGBMClassifier\n",
    "from sklearn.model_selection import StratifiedKFold\n",
    "skf = StratifiedKFold(n_splits=5,shuffle=True,random_state=42)\n",
    "scores=[]\n",
    "for train_index, test_index in skf.split(X, y):\n",
    "    X_train, X_test = X[train_index], X[test_index]\n",
    "    y_train, y_test = y.iloc[train_index], y.iloc[test_index]\n",
    "    model = LGBMClassifier(n_jobs=-1,**lgbm_params)\n",
    "    model.fit(X_train,y_train)\n",
    "    y_pred=model.predict_proba(X_test)[:,1]\n",
    "    scores.append(roc_auc_score(y_test,y_pred))"
   ]
  },
  {
   "cell_type": "code",
   "execution_count": 152,
   "metadata": {},
   "outputs": [
    {
     "data": {
      "text/plain": [
       "([0.9807705908341653,\n",
       "  0.974673646410668,\n",
       "  0.9833201640409578,\n",
       "  0.976816619439171,\n",
       "  0.9878497814137999],\n",
       " 0.9806861604277524)"
      ]
     },
     "execution_count": 152,
     "metadata": {},
     "output_type": "execute_result"
    }
   ],
   "source": [
    "scores, np.mean(scores)"
   ]
  },
  {
   "cell_type": "code",
   "execution_count": 153,
   "metadata": {},
   "outputs": [
    {
     "data": {
      "text/html": [
       "<style>#sk-container-id-4 {color: black;background-color: white;}#sk-container-id-4 pre{padding: 0;}#sk-container-id-4 div.sk-toggleable {background-color: white;}#sk-container-id-4 label.sk-toggleable__label {cursor: pointer;display: block;width: 100%;margin-bottom: 0;padding: 0.3em;box-sizing: border-box;text-align: center;}#sk-container-id-4 label.sk-toggleable__label-arrow:before {content: \"▸\";float: left;margin-right: 0.25em;color: #696969;}#sk-container-id-4 label.sk-toggleable__label-arrow:hover:before {color: black;}#sk-container-id-4 div.sk-estimator:hover label.sk-toggleable__label-arrow:before {color: black;}#sk-container-id-4 div.sk-toggleable__content {max-height: 0;max-width: 0;overflow: hidden;text-align: left;background-color: #f0f8ff;}#sk-container-id-4 div.sk-toggleable__content pre {margin: 0.2em;color: black;border-radius: 0.25em;background-color: #f0f8ff;}#sk-container-id-4 input.sk-toggleable__control:checked~div.sk-toggleable__content {max-height: 200px;max-width: 100%;overflow: auto;}#sk-container-id-4 input.sk-toggleable__control:checked~label.sk-toggleable__label-arrow:before {content: \"▾\";}#sk-container-id-4 div.sk-estimator input.sk-toggleable__control:checked~label.sk-toggleable__label {background-color: #d4ebff;}#sk-container-id-4 div.sk-label input.sk-toggleable__control:checked~label.sk-toggleable__label {background-color: #d4ebff;}#sk-container-id-4 input.sk-hidden--visually {border: 0;clip: rect(1px 1px 1px 1px);clip: rect(1px, 1px, 1px, 1px);height: 1px;margin: -1px;overflow: hidden;padding: 0;position: absolute;width: 1px;}#sk-container-id-4 div.sk-estimator {font-family: monospace;background-color: #f0f8ff;border: 1px dotted black;border-radius: 0.25em;box-sizing: border-box;margin-bottom: 0.5em;}#sk-container-id-4 div.sk-estimator:hover {background-color: #d4ebff;}#sk-container-id-4 div.sk-parallel-item::after {content: \"\";width: 100%;border-bottom: 1px solid gray;flex-grow: 1;}#sk-container-id-4 div.sk-label:hover label.sk-toggleable__label {background-color: #d4ebff;}#sk-container-id-4 div.sk-serial::before {content: \"\";position: absolute;border-left: 1px solid gray;box-sizing: border-box;top: 0;bottom: 0;left: 50%;z-index: 0;}#sk-container-id-4 div.sk-serial {display: flex;flex-direction: column;align-items: center;background-color: white;padding-right: 0.2em;padding-left: 0.2em;position: relative;}#sk-container-id-4 div.sk-item {position: relative;z-index: 1;}#sk-container-id-4 div.sk-parallel {display: flex;align-items: stretch;justify-content: center;background-color: white;position: relative;}#sk-container-id-4 div.sk-item::before, #sk-container-id-4 div.sk-parallel-item::before {content: \"\";position: absolute;border-left: 1px solid gray;box-sizing: border-box;top: 0;bottom: 0;left: 50%;z-index: -1;}#sk-container-id-4 div.sk-parallel-item {display: flex;flex-direction: column;z-index: 1;position: relative;background-color: white;}#sk-container-id-4 div.sk-parallel-item:first-child::after {align-self: flex-end;width: 50%;}#sk-container-id-4 div.sk-parallel-item:last-child::after {align-self: flex-start;width: 50%;}#sk-container-id-4 div.sk-parallel-item:only-child::after {width: 0;}#sk-container-id-4 div.sk-dashed-wrapped {border: 1px dashed gray;margin: 0 0.4em 0.5em 0.4em;box-sizing: border-box;padding-bottom: 0.4em;background-color: white;}#sk-container-id-4 div.sk-label label {font-family: monospace;font-weight: bold;display: inline-block;line-height: 1.2em;}#sk-container-id-4 div.sk-label-container {text-align: center;}#sk-container-id-4 div.sk-container {/* jupyter's `normalize.less` sets `[hidden] { display: none; }` but bootstrap.min.css set `[hidden] { display: none !important; }` so we also need the `!important` here to be able to override the default hidden behavior on the sphinx rendered scikit-learn.org. See: https://github.com/scikit-learn/scikit-learn/issues/21755 */display: inline-block !important;position: relative;}#sk-container-id-4 div.sk-text-repr-fallback {display: none;}</style><div id=\"sk-container-id-4\" class=\"sk-top-container\"><div class=\"sk-text-repr-fallback\"><pre>LGBMClassifier(colsample_bytree=0.2582472335147579,\n",
       "               learning_rate=0.0012323592719526814, max_bin=4096,\n",
       "               min_child_samples=10, n_estimators=2500, num_leaves=310,\n",
       "               random_state=42, reg_alpha=0.0043659867548350275,\n",
       "               reg_lambda=0.0015015946171746538)</pre><b>In a Jupyter environment, please rerun this cell to show the HTML representation or trust the notebook. <br />On GitHub, the HTML representation is unable to render, please try loading this page with nbviewer.org.</b></div><div class=\"sk-container\" hidden><div class=\"sk-item\"><div class=\"sk-estimator sk-toggleable\"><input class=\"sk-toggleable__control sk-hidden--visually\" id=\"sk-estimator-id-4\" type=\"checkbox\" checked><label for=\"sk-estimator-id-4\" class=\"sk-toggleable__label sk-toggleable__label-arrow\">LGBMClassifier</label><div class=\"sk-toggleable__content\"><pre>LGBMClassifier(colsample_bytree=0.2582472335147579,\n",
       "               learning_rate=0.0012323592719526814, max_bin=4096,\n",
       "               min_child_samples=10, n_estimators=2500, num_leaves=310,\n",
       "               random_state=42, reg_alpha=0.0043659867548350275,\n",
       "               reg_lambda=0.0015015946171746538)</pre></div></div></div></div></div>"
      ],
      "text/plain": [
       "LGBMClassifier(colsample_bytree=0.2582472335147579,\n",
       "               learning_rate=0.0012323592719526814, max_bin=4096,\n",
       "               min_child_samples=10, n_estimators=2500, num_leaves=310,\n",
       "               random_state=42, reg_alpha=0.0043659867548350275,\n",
       "               reg_lambda=0.0015015946171746538)"
      ]
     },
     "execution_count": 153,
     "metadata": {},
     "output_type": "execute_result"
    }
   ],
   "source": [
    "lgbm = LGBMClassifier(n_jobs=-1,**lgbm_params)\n",
    "\n",
    "lgbm.fit(X,y)"
   ]
  },
  {
   "cell_type": "code",
   "execution_count": 154,
   "metadata": {},
   "outputs": [
    {
     "data": {
      "text/plain": [
       "0.9956570516129476"
      ]
     },
     "execution_count": 154,
     "metadata": {},
     "output_type": "execute_result"
    }
   ],
   "source": [
    "lgbm.score(X,y)"
   ]
  },
  {
   "attachments": {},
   "cell_type": "markdown",
   "metadata": {},
   "source": [
    "## HistGradientBossting"
   ]
  },
  {
   "cell_type": "code",
   "execution_count": 155,
   "metadata": {},
   "outputs": [],
   "source": [
    "hist_params={\n",
    "    'max_iter': 300,\n",
    "    'scoring': 'roc_auc',\n",
    "    'random_state': 42,\n",
    "    'interaction_cst':'pairwise'\n",
    "}"
   ]
  },
  {
   "cell_type": "code",
   "execution_count": 156,
   "metadata": {},
   "outputs": [],
   "source": [
    "from sklearn.ensemble import HistGradientBoostingClassifier\n",
    "\n",
    "\n",
    "skf = StratifiedKFold(n_splits=5,shuffle=True,random_state=42)\n",
    "scores=[]\n",
    "for train_index, test_index in skf.split(X, y):\n",
    "    X_train, X_test = X[train_index], X[test_index]\n",
    "    y_train, y_test = y.iloc[train_index], y.iloc[test_index]\n",
    "    model = HistGradientBoostingClassifier(**hist_params)\n",
    "    model.fit(X_train,y_train)\n",
    "    y_pred=model.predict_proba(X_test)[:,1]\n",
    "    scores.append(roc_auc_score(y_test,y_pred))"
   ]
  },
  {
   "cell_type": "code",
   "execution_count": 157,
   "metadata": {},
   "outputs": [
    {
     "data": {
      "text/plain": [
       "([0.9591929667448174,\n",
       "  0.9611585582599437,\n",
       "  0.9753410256174035,\n",
       "  0.9586151508835938,\n",
       "  0.9828188015731532],\n",
       " 0.9674253006157822)"
      ]
     },
     "execution_count": 157,
     "metadata": {},
     "output_type": "execute_result"
    }
   ],
   "source": [
    "scores,np.mean(scores)"
   ]
  },
  {
   "cell_type": "code",
   "execution_count": 158,
   "metadata": {},
   "outputs": [
    {
     "data": {
      "text/html": [
       "<style>#sk-container-id-5 {color: black;background-color: white;}#sk-container-id-5 pre{padding: 0;}#sk-container-id-5 div.sk-toggleable {background-color: white;}#sk-container-id-5 label.sk-toggleable__label {cursor: pointer;display: block;width: 100%;margin-bottom: 0;padding: 0.3em;box-sizing: border-box;text-align: center;}#sk-container-id-5 label.sk-toggleable__label-arrow:before {content: \"▸\";float: left;margin-right: 0.25em;color: #696969;}#sk-container-id-5 label.sk-toggleable__label-arrow:hover:before {color: black;}#sk-container-id-5 div.sk-estimator:hover label.sk-toggleable__label-arrow:before {color: black;}#sk-container-id-5 div.sk-toggleable__content {max-height: 0;max-width: 0;overflow: hidden;text-align: left;background-color: #f0f8ff;}#sk-container-id-5 div.sk-toggleable__content pre {margin: 0.2em;color: black;border-radius: 0.25em;background-color: #f0f8ff;}#sk-container-id-5 input.sk-toggleable__control:checked~div.sk-toggleable__content {max-height: 200px;max-width: 100%;overflow: auto;}#sk-container-id-5 input.sk-toggleable__control:checked~label.sk-toggleable__label-arrow:before {content: \"▾\";}#sk-container-id-5 div.sk-estimator input.sk-toggleable__control:checked~label.sk-toggleable__label {background-color: #d4ebff;}#sk-container-id-5 div.sk-label input.sk-toggleable__control:checked~label.sk-toggleable__label {background-color: #d4ebff;}#sk-container-id-5 input.sk-hidden--visually {border: 0;clip: rect(1px 1px 1px 1px);clip: rect(1px, 1px, 1px, 1px);height: 1px;margin: -1px;overflow: hidden;padding: 0;position: absolute;width: 1px;}#sk-container-id-5 div.sk-estimator {font-family: monospace;background-color: #f0f8ff;border: 1px dotted black;border-radius: 0.25em;box-sizing: border-box;margin-bottom: 0.5em;}#sk-container-id-5 div.sk-estimator:hover {background-color: #d4ebff;}#sk-container-id-5 div.sk-parallel-item::after {content: \"\";width: 100%;border-bottom: 1px solid gray;flex-grow: 1;}#sk-container-id-5 div.sk-label:hover label.sk-toggleable__label {background-color: #d4ebff;}#sk-container-id-5 div.sk-serial::before {content: \"\";position: absolute;border-left: 1px solid gray;box-sizing: border-box;top: 0;bottom: 0;left: 50%;z-index: 0;}#sk-container-id-5 div.sk-serial {display: flex;flex-direction: column;align-items: center;background-color: white;padding-right: 0.2em;padding-left: 0.2em;position: relative;}#sk-container-id-5 div.sk-item {position: relative;z-index: 1;}#sk-container-id-5 div.sk-parallel {display: flex;align-items: stretch;justify-content: center;background-color: white;position: relative;}#sk-container-id-5 div.sk-item::before, #sk-container-id-5 div.sk-parallel-item::before {content: \"\";position: absolute;border-left: 1px solid gray;box-sizing: border-box;top: 0;bottom: 0;left: 50%;z-index: -1;}#sk-container-id-5 div.sk-parallel-item {display: flex;flex-direction: column;z-index: 1;position: relative;background-color: white;}#sk-container-id-5 div.sk-parallel-item:first-child::after {align-self: flex-end;width: 50%;}#sk-container-id-5 div.sk-parallel-item:last-child::after {align-self: flex-start;width: 50%;}#sk-container-id-5 div.sk-parallel-item:only-child::after {width: 0;}#sk-container-id-5 div.sk-dashed-wrapped {border: 1px dashed gray;margin: 0 0.4em 0.5em 0.4em;box-sizing: border-box;padding-bottom: 0.4em;background-color: white;}#sk-container-id-5 div.sk-label label {font-family: monospace;font-weight: bold;display: inline-block;line-height: 1.2em;}#sk-container-id-5 div.sk-label-container {text-align: center;}#sk-container-id-5 div.sk-container {/* jupyter's `normalize.less` sets `[hidden] { display: none; }` but bootstrap.min.css set `[hidden] { display: none !important; }` so we also need the `!important` here to be able to override the default hidden behavior on the sphinx rendered scikit-learn.org. See: https://github.com/scikit-learn/scikit-learn/issues/21755 */display: inline-block !important;position: relative;}#sk-container-id-5 div.sk-text-repr-fallback {display: none;}</style><div id=\"sk-container-id-5\" class=\"sk-top-container\"><div class=\"sk-text-repr-fallback\"><pre>HistGradientBoostingClassifier(interaction_cst=&#x27;pairwise&#x27;, max_iter=300,\n",
       "                               random_state=42, scoring=&#x27;roc_auc&#x27;)</pre><b>In a Jupyter environment, please rerun this cell to show the HTML representation or trust the notebook. <br />On GitHub, the HTML representation is unable to render, please try loading this page with nbviewer.org.</b></div><div class=\"sk-container\" hidden><div class=\"sk-item\"><div class=\"sk-estimator sk-toggleable\"><input class=\"sk-toggleable__control sk-hidden--visually\" id=\"sk-estimator-id-5\" type=\"checkbox\" checked><label for=\"sk-estimator-id-5\" class=\"sk-toggleable__label sk-toggleable__label-arrow\">HistGradientBoostingClassifier</label><div class=\"sk-toggleable__content\"><pre>HistGradientBoostingClassifier(interaction_cst=&#x27;pairwise&#x27;, max_iter=300,\n",
       "                               random_state=42, scoring=&#x27;roc_auc&#x27;)</pre></div></div></div></div></div>"
      ],
      "text/plain": [
       "HistGradientBoostingClassifier(interaction_cst='pairwise', max_iter=300,\n",
       "                               random_state=42, scoring='roc_auc')"
      ]
     },
     "execution_count": 158,
     "metadata": {},
     "output_type": "execute_result"
    }
   ],
   "source": [
    "hgbc=HistGradientBoostingClassifier(**hist_params)\n",
    "\n",
    "hgbc.fit(X,y)"
   ]
  },
  {
   "attachments": {},
   "cell_type": "markdown",
   "metadata": {},
   "source": [
    "## XGBoost"
   ]
  },
  {
   "cell_type": "code",
   "execution_count": 159,
   "metadata": {},
   "outputs": [],
   "source": [
    "def auc_loss_func(y_true,y_pred):\n",
    "    \n",
    "    auc=roc_auc_score(y_true,y_pred)\n",
    "    grad=(y_pred-y_true)*(2.0*auc-1.0)\n",
    "    hess=2.0*auc*(1.0-auc)*y_pred*(1.0-y_pred)\n",
    "    \n",
    "    return grad,hess"
   ]
  },
  {
   "cell_type": "code",
   "execution_count": 160,
   "metadata": {},
   "outputs": [],
   "source": [
    "# without feature engineering and no class weights\n",
    "# xgboost_params={'n_estimators': 3697,\n",
    "#  'max_leaves': 287,\n",
    "#  'min_child_weight': 32.83638391565163,\n",
    "#  'learning_rate': 0.022020947638032907,\n",
    "#  'subsample': 1.0,\n",
    "#  'colsample_bylevel': 0.6595695471285861,\n",
    "#  'colsample_bytree': 0.7035132649686466,\n",
    "#  'reg_alpha': 0.0018885703990141817,\n",
    "#  'reg_lambda': 14.653054597011067,\n",
    "#  'tree_method': 'gpu_hist'}\n",
    "\n",
    "# xgboost_params={'n_estimators': 97,\n",
    "#  'max_leaves': 14,\n",
    "#  'min_child_weight': 45.136292363100196,\n",
    "#  'learning_rate': 0.19997653978110663,\n",
    "#  'subsample': 0.8895588746662894,\n",
    "#  'colsample_bylevel': 0.7728861115770346,\n",
    "#  'colsample_bytree': 0.7167459701136535,\n",
    "#  'reg_alpha': 0.0015245843735931768,\n",
    "#  'reg_lambda': 0.07655787774671213}\n",
    "\n",
    "# xgboost_params={'n_estimators': 316,\n",
    "#  'max_leaves': 155,\n",
    "#  'min_child_weight': 1.6740420230031532,\n",
    "#  'learning_rate': 0.01613649125193271,\n",
    "#  'subsample': 0.8877605142833445,\n",
    "#  'colsample_bylevel': 0.3024136423540494,\n",
    "#  'colsample_bytree': 0.7368703619172471,\n",
    "#  'reg_alpha': 0.01465952112151396,\n",
    "#  'reg_lambda': 0.32682646203137,\n",
    "#  'loss_function':auc_loss_func}\n",
    "\n",
    "xgboost_params={'n_estimators': 1029,\n",
    "                'learning_rate': 0.18307961385595686,\n",
    "                'max_depth': 4,\n",
    "                'subsample': 0.995605266371666,\n",
    "                'colsample_bytree': 0.9491496175407161}\n"
   ]
  },
  {
   "cell_type": "code",
   "execution_count": 161,
   "metadata": {},
   "outputs": [],
   "source": [
    "from xgboost import XGBClassifier\n",
    "\n",
    "skf = StratifiedKFold(n_splits=5,shuffle=True,random_state=42)\n",
    "\n",
    "scores=[]\n",
    "for train_index, test_index in skf.split(X, y):\n",
    "    X_train, X_test = X[train_index], X[test_index]\n",
    "    y_train, y_test = y.iloc[train_index], y.iloc[test_index]\n",
    "    model = XGBClassifier(**xgboost_params)\n",
    "    model.fit(X_train,y_train)\n",
    "    y_pred=model.predict_proba(X_test)[:,1]\n",
    "    scores.append(roc_auc_score(y_test,y_pred))"
   ]
  },
  {
   "cell_type": "code",
   "execution_count": 162,
   "metadata": {},
   "outputs": [
    {
     "data": {
      "text/plain": [
       "([0.9616723323476085,\n",
       "  0.9568547638655807,\n",
       "  0.9689862810225418,\n",
       "  0.9549670176803979,\n",
       "  0.9731414314671105],\n",
       " 0.9631243652766479)"
      ]
     },
     "execution_count": 162,
     "metadata": {},
     "output_type": "execute_result"
    }
   ],
   "source": [
    "# old  0.958956644689253 from no feature engineering and no class weights\n",
    "# 0.9662774120054027 from no feature engineering and no class weights\n",
    "scores, np.mean(scores)"
   ]
  },
  {
   "attachments": {},
   "cell_type": "markdown",
   "metadata": {},
   "source": [
    "## Voting"
   ]
  },
  {
   "cell_type": "code",
   "execution_count": 163,
   "metadata": {},
   "outputs": [],
   "source": [
    "from catboost import CatBoostClassifier\n",
    "from sklearn.ensemble import RandomForestClassifier\n",
    "from xgboost import XGBClassifier\n",
    "from sklearn.ensemble import HistGradientBoostingClassifier\n",
    "from lightgbm import LGBMClassifier\n",
    "estimators = [\n",
    "    ('cat', CatBoostClassifier(**cat_params)),\n",
    "    ('lgbm', LGBMClassifier(n_jobs=-1,**lgbm_params))\n",
    "]"
   ]
  },
  {
   "cell_type": "code",
   "execution_count": 470,
   "metadata": {},
   "outputs": [],
   "source": [
    "class VotingClassifierMod():\n",
    "    def __init__(self, estimators, voting='soft', weights=None):\n",
    "        self.estimators = estimators\n",
    "        self.voting = voting\n",
    "        self.weights = weights\n",
    "    \n",
    "    def fit(self,trainx,trainy,traincat):\n",
    "        for name,estimator in self.estimators:\n",
    "            if name=='cat':\n",
    "                estimator.fit(traincat)\n",
    "            else:\n",
    "                estimator.fit(trainx,trainy)\n",
    "                \n",
    "    def predict_proba(self,testx,testcat):\n",
    "        probas=[]\n",
    "        for name,estimator in self.estimators:\n",
    "            if name=='cat':\n",
    "                probas.append(estimator.predict_proba(testcat)[:,1])\n",
    "            else:\n",
    "                probas.append(estimator.predict_proba(testx)[:,1])\n",
    "        if self.voting=='soft':\n",
    "            return np.average(probas,axis=0,weights=self.weights)\n",
    "        else:\n",
    "            return np.argmax(probas,axis=0)\n",
    "                \n",
    "    "
   ]
  },
  {
   "cell_type": "code",
   "execution_count": 471,
   "metadata": {},
   "outputs": [],
   "source": [
    "from sklearn.model_selection import StratifiedKFold\n",
    "from catboost import Pool\n",
    "skf = StratifiedKFold(n_splits=5,shuffle=True,random_state=42)\n",
    "\n",
    "scores=[]\n",
    "for train_index, test_index in skf.split(X, y):\n",
    "    trainx, testx = X[train_index], X[test_index]\n",
    "    trainy, testy = y.iloc[train_index], y.iloc[test_index]\n",
    "    # create catboost pool\n",
    "    trainx_cat,testx_cat=train_cat_X.iloc[train_index],train_cat_X.iloc[test_index]\n",
    "    trainy_cat,testy_cat=train_cat_y.iloc[train_index],train_cat_y.iloc[test_index]\n",
    "    traincat = Pool(data=trainx_cat,label=trainy_cat,cat_features=categorical_features,feature_names=feature_names)\n",
    "    testcat = Pool(data=testx_cat,label=testy_cat,cat_features=categorical_features,feature_names=feature_names)\n",
    "    model = VotingClassifierMod(estimators=estimators,voting='soft',weights=[0.5,0.5])\n",
    "    model.fit(trainx,trainy,traincat)\n",
    "    y_pred=model.predict_proba(testx,testcat)\n",
    "    scores.append(roc_auc_score(testy,y_pred))"
   ]
  },
  {
   "cell_type": "code",
   "execution_count": 472,
   "metadata": {},
   "outputs": [
    {
     "data": {
      "text/plain": [
       "([0.9776553894124264,\n",
       "  0.9785468873974492,\n",
       "  0.9912627709655725,\n",
       "  0.9826837052535604,\n",
       "  0.9769331111670513],\n",
       " 0.981416372839212)"
      ]
     },
     "execution_count": 472,
     "metadata": {},
     "output_type": "execute_result"
    }
   ],
   "source": [
    "# 0.9805112500800615 4 estimators with 0.6, 0.2,0.2,0.6 weights\n",
    "# 0.9816249107171352 2 estimators with 0.5, 0.5 weights lgbm and catboost lgbm max_bin=4096\n",
    "scores, np.mean(scores)"
   ]
  },
  {
   "cell_type": "code",
   "execution_count": 473,
   "metadata": {},
   "outputs": [],
   "source": [
    "vc=VotingClassifierMod(estimators=estimators,voting='soft',weights=[0.5,0.5])\n",
    "traincat=Pool(data=train_cat_X,label=train_cat_y,cat_features=categorical_features,feature_names=feature_names)\n",
    "vc.fit(X,y,traincat)"
   ]
  },
  {
   "attachments": {},
   "cell_type": "markdown",
   "metadata": {},
   "source": [
    "## Stacking Classifier"
   ]
  },
  {
   "attachments": {},
   "cell_type": "markdown",
   "metadata": {},
   "source": [
    "## Hyper parameter tuning using optuna"
   ]
  },
  {
   "cell_type": "code",
   "execution_count": 139,
   "metadata": {},
   "outputs": [],
   "source": [
    "# define the hyperparameter space for lgbm\n",
    "from optuna.samplers import TPESampler\n",
    "import optuna\n",
    "from lightgbm import LGBMClassifier\n",
    "from optuna import Trial, visualization\n",
    "from optuna.pruners import SuccessiveHalvingPruner\n",
    "from sklearn.model_selection import StratifiedKFold\n",
    "\n",
    "def objective(trial: Trial):\n",
    "    params={\n",
    "        'n_estimators': trial.suggest_int('n_estimators', 100, 5000),\n",
    "        'max_leaves': trial.suggest_int('max_leaves', 10, 200),\n",
    "        'min_child_weight': trial.suggest_float('min_child_weight', 1e-3, 1e3),\n",
    "        'learning_rate': trial.suggest_float('learning_rate', 1e-3, 1e-1),\n",
    "        'subsample': trial.suggest_float('subsample', 0.5, 1.0),\n",
    "        'colsample_bylevel': trial.suggest_float('colsample_bylevel', 0.5, 1.0),\n",
    "        'colsample_bytree': trial.suggest_float('colsample_bytree', 0.5, 1.0),\n",
    "        'reg_alpha': trial.suggest_float('reg_alpha', 1e-3, 1e3),\n",
    "        'reg_lambda': trial.suggest_float('reg_lambda', 1e-3, 1e3),\n",
    "        'num_leaves': trial.suggest_int('num_leaves', 10, 200),\n",
    "        'max_depth': trial.suggest_int('max_depth', 0, 20),\n",
    "        'random_state': 42,\n",
    "        'n_jobs': -1,\n",
    "    }\n",
    "    skf=StratifiedKFold(n_splits=5,shuffle=True,random_state=42)\n",
    "    scores=[]\n",
    "    i=0\n",
    "    for train_index, test_index in skf.split(X, y):\n",
    "        X_train, X_test = X[train_index], X[test_index]\n",
    "        y_train, y_test = y.iloc[train_index], y.iloc[test_index]\n",
    "        model=LGBMClassifier(**params)\n",
    "        model.fit(X_train,y_train)\n",
    "        y_pred=model.predict_proba(X_test)[:,1]\n",
    "        trial.report(roc_auc_score(y_test,y_pred), i)\n",
    "        if trial.should_prune():\n",
    "            raise optuna.TrialPruned()\n",
    "        scores.append(roc_auc_score(y_test,y_pred))\n",
    "        i+=1\n",
    "    return np.mean(scores)\n",
    "\n",
    "sampler = optuna.samplers.TPESampler(seed=42)\n",
    "pruner = SuccessiveHalvingPruner(min_resource=1, reduction_factor=2, min_early_stopping_rate=0)\n",
    "study = optuna.create_study(pruner=pruner,sampler=sampler,direction='maximize')\n",
    "study.optimize(objective, n_trials=100,n_jobs=-1,show_progress_bar=True)"
   ]
  },
  {
   "cell_type": "code",
   "execution_count": 140,
   "metadata": {},
   "outputs": [],
   "source": [
    "study.optimize(objective, n_trials=100,n_jobs=-1,show_progress_bar=True)"
   ]
  },
  {
   "cell_type": "code",
   "execution_count": 141,
   "metadata": {},
   "outputs": [],
   "source": [
    "    # Define the hyperparameter space\n",
    "    params = {\n",
    "        'n_estimators': trial.suggest_int('n_estimators', 100, 1000),\n",
    "        'max_leaves': trial.suggest_int('max_leaves', 10, 200),\n",
    "        'min_child_weight': trial.suggest_float('min_child_weight', 1e-3, 1e3),\n",
    "        'learning_rate': trial.suggest_float('learning_rate', 1e-3, 1e0),\n",
    "        'subsample': trial.suggest_float('subsample', 0.5, 1.0),\n",
    "        'colsample_bylevel': trial.suggest_float('colsample_bylevel', 0.5, 1.0),\n",
    "        'colsample_bytree': trial.suggest_float('colsample_bytree', 0.5, 1.0),\n",
    "        'reg_alpha': trial.suggest_float('reg_alpha', 1e-3, 1e3),\n",
    "        'reg_lambda': trial.suggest_float('reg_lambda', 1e-3, 1e3),\n",
    "    }\n",
    "    \n",
    "    model = XGBClassifier(**params,loss_function=auc_loss_func)\n",
    "    \n",
    "    skf = StratifiedKFold(n_splits=5,shuffle=True,random_state=42)\n",
    "    scores=[]\n",
    "    i=0\n",
    "    for train_index, test_index in skf.split(X, y):\n",
    "        X_train, X_test = X[train_index], X[test_index]\n",
    "        y_train, y_test = y.iloc[train_index], y.iloc[test_index]\n",
    "        model.fit(X_train,y_train)\n",
    "        y_pred=model.predict_proba(X_test)[:,1]\n",
    "        trial.report(roc_auc_score(y_test,y_pred), step=i)\n",
    "        scores.append(roc_auc_score(y_test,y_pred))\n",
    "        if trial.should_prune():\n",
    "            raise optuna.TrialPruned()\n",
    "        i+=1\n",
    "    return np.mean(scores)"
   ]
  },
  {
   "cell_type": "code",
   "execution_count": 142,
   "metadata": {},
   "outputs": [],
   "source": [
    "import optuna\n",
    "from optuna.pruners import SuccessiveHalvingPruner\n",
    "# tune the weights of the voting classifier\n",
    "def objective(trial: optuna.Trial):\n",
    "    w1 = trial.suggest_float(\"w1\", 0.0, 1.0)\n",
    "    w2 = trial.suggest_float(\"w2\", 0.0, 1.0)\n",
    "    w3 = trial.suggest_float(\"w3\", 0.0, 1.0)\n",
    "    w4 = trial.suggest_float(\"w4\", 0.0, 1.0)\n",
    "    w5 = trial.suggest_float(\"w5\", 0.0, 1.0)\n",
    "    weights=[w1,w2,w3,w4,w5]\n",
    "    skf = StratifiedKFold(n_splits=5,shuffle=True,random_state=42)\n",
    "    scores=[]\n",
    "    i=0\n",
    "    for train_index, test_index in skf.split(X, y):\n",
    "        X_train, X_test = X[train_index], X[test_index]\n",
    "        y_train, y_test = y.iloc[train_index], y.iloc[test_index]\n",
    "        vc=VotingClassifier(estimators=estimators,n_jobs=-1,voting='soft',weights=weights)\n",
    "        vc.fit(X_train,y_train)\n",
    "        y_pred=vc.predict_proba(X_test)[:,1]\n",
    "        scores.append(roc_auc_score(y_test,y_pred))\n",
    "        i+=1\n",
    "        \n",
    "    return np.mean(scores)\n",
    "        \n",
    "\n",
    "        \n",
    "        \n",
    "sampler = optuna.samplers.TPESampler(seed=42)\n",
    "pruner = SuccessiveHalvingPruner(min_resource=1, reduction_factor=2, min_early_stopping_rate=0)\n",
    "study = optuna.create_study(pruner=pruner,sampler=sampler,direction='maximize')\n",
    "study.optimize(objective, n_trials=100,n_jobs=-1,show_progress_bar=True)"
   ]
  },
  {
   "attachments": {},
   "cell_type": "markdown",
   "metadata": {},
   "source": [
    "## AutoML"
   ]
  },
  {
   "cell_type": "code",
   "execution_count": 71,
   "metadata": {},
   "outputs": [],
   "source": [
    "from flaml import AutoML\n",
    "\n",
    "automl=AutoML()\n",
    "\n",
    "automl_settings={\n",
    "    'time_budget':3000,\n",
    "    'metric':'roc_auc',\n",
    "    'task':'classification',\n",
    "    'ensemble':True,\n",
    "    'n_jobs':-1,\n",
    "    'log_file_name':'automl.log',\n",
    "    \"eval_method\":'cv',\n",
    "    'n_splits':5,\n",
    "    'split_type':'stratified',\n",
    "    'verbose':3\n",
    "}\n",
    "\n",
    "automl.fit(X_train=X,y_train=y,**automl_settings)"
   ]
  },
  {
   "attachments": {},
   "cell_type": "markdown",
   "metadata": {},
   "source": [
    "## Submission"
   ]
  },
  {
   "cell_type": "code",
   "execution_count": 275,
   "metadata": {},
   "outputs": [],
   "source": [
    "test=pd.read_csv('test.csv')"
   ]
  },
  {
   "cell_type": "code",
   "execution_count": 276,
   "metadata": {},
   "outputs": [
    {
     "data": {
      "text/plain": [
       "id                         0\n",
       "Product ID                 0\n",
       "Type                       0\n",
       "Air temperature [K]        0\n",
       "Process temperature [K]    0\n",
       "Rotational speed [rpm]     0\n",
       "Torque [Nm]                0\n",
       "Tool wear [min]            0\n",
       "TWF                        0\n",
       "HDF                        0\n",
       "PWF                        0\n",
       "OSF                        0\n",
       "RNF                        0\n",
       "dtype: int64"
      ]
     },
     "execution_count": 276,
     "metadata": {},
     "output_type": "execute_result"
    }
   ],
   "source": [
    "test.isnull().sum()"
   ]
  },
  {
   "cell_type": "code",
   "execution_count": 277,
   "metadata": {},
   "outputs": [],
   "source": [
    "test_id=test['id']\n",
    "test_data=test.drop(['id'],axis=1)\n",
    "#test_data=test.drop(['id','Product ID'],axis=1)"
   ]
  },
  {
   "cell_type": "code",
   "execution_count": 278,
   "metadata": {},
   "outputs": [],
   "source": [
    "test_data=create_features(test_data)"
   ]
  },
  {
   "cell_type": "code",
   "execution_count": 279,
   "metadata": {},
   "outputs": [],
   "source": [
    "test_X=ct.transform(test_data)"
   ]
  },
  {
   "cell_type": "code",
   "execution_count": 280,
   "metadata": {},
   "outputs": [],
   "source": [
    "test_pool=Pool(data=test_data,feature_names=test_data.columns.to_list(),cat_features=categorical_features)"
   ]
  },
  {
   "cell_type": "code",
   "execution_count": 281,
   "metadata": {},
   "outputs": [],
   "source": [
    "preds=cat_boost.predict_proba(test_pool)"
   ]
  },
  {
   "cell_type": "code",
   "execution_count": 282,
   "metadata": {},
   "outputs": [],
   "source": [
    "preds=preds[:,1]\n"
   ]
  },
  {
   "cell_type": "code",
   "execution_count": 283,
   "metadata": {},
   "outputs": [],
   "source": [
    "# preds2=lgbm.predict_proba(test_X)"
   ]
  },
  {
   "cell_type": "code",
   "execution_count": 284,
   "metadata": {},
   "outputs": [],
   "source": [
    "# preds3=naive_bayes.predict_proba(test_X)\n",
    "# pred4=rfc.predict_proba(test_X)"
   ]
  },
  {
   "cell_type": "code",
   "execution_count": 285,
   "metadata": {},
   "outputs": [],
   "source": [
    "# preds1=preds1[:,1]\n",
    "# preds2=preds2[:,1]\n",
    "# preds3=preds3[:,1]\n",
    "# pred4=pred4[:,1]\n"
   ]
  },
  {
   "cell_type": "code",
   "execution_count": 286,
   "metadata": {},
   "outputs": [],
   "source": [
    "# # where the lgbm value is greater than 0.5 use the lgbm value else use the catboost value\n",
    "\n",
    "# preds=np.where(preds2>0.5,preds2,preds1)\n",
    "\n",
    "# ## where the value is less than 0.001 replace it with 0\n",
    "\n",
    "# preds=np.where(preds<0.001,0,preds)"
   ]
  },
  {
   "cell_type": "code",
   "execution_count": 287,
   "metadata": {},
   "outputs": [],
   "source": [
    "# # catboost weight 0.6, lgbm weight 0.2, naive bayes weight 0.1, rfc weight 0.1\n",
    "\n",
    "# preds=0.5*preds1+0.5*preds2"
   ]
  },
  {
   "cell_type": "code",
   "execution_count": 288,
   "metadata": {},
   "outputs": [],
   "source": [
    "# # where the value is greater than 0.5 in for all pred1,pred2,pred3,pred4 use the value \n",
    "\n",
    "# preds=np.where((preds1>=0.5) & (preds2>=0.5) & (preds3>=0.5) & (pred4>=0.5),1,preds)\n",
    "\n",
    "# # where the value is less than 0.5 for all pred1,pred2,pred3,pred4 use the value\n",
    "\n",
    "# preds=np.where((preds1<0.5) & (preds2<0.5) & (preds3<0.5) & (pred4<0.5),0,preds)\n"
   ]
  },
  {
   "cell_type": "code",
   "execution_count": 289,
   "metadata": {},
   "outputs": [],
   "source": [
    "# preds=np.mean([preds,preds2],axis=0)"
   ]
  },
  {
   "cell_type": "code",
   "execution_count": 290,
   "metadata": {},
   "outputs": [],
   "source": [
    "# preds=preds[:,1]"
   ]
  },
  {
   "cell_type": "code",
   "execution_count": 291,
   "metadata": {},
   "outputs": [],
   "source": [
    "sub=pd.DataFrame({'id':test_id,'Machine failure':preds})"
   ]
  },
  {
   "cell_type": "code",
   "execution_count": 292,
   "metadata": {},
   "outputs": [],
   "source": [
    "# ## where prob of failure is less than 0.01, set to 0\n",
    "# sub.loc[sub['Machine failure']<0.01,'Machine failure']=0\n",
    "# # where prob of failure is greater than 0.90, set to 1\n",
    "\n",
    "# sub.loc[sub['Machine failure']>0.90,'Machine failure']=1"
   ]
  },
  {
   "cell_type": "code",
   "execution_count": 293,
   "metadata": {},
   "outputs": [],
   "source": [
    "sub.to_csv('sub.csv',index=False)"
   ]
  },
  {
   "cell_type": "code",
   "execution_count": 294,
   "metadata": {},
   "outputs": [
    {
     "data": {
      "text/plain": [
       "(1133, 2)"
      ]
     },
     "execution_count": 294,
     "metadata": {},
     "output_type": "execute_result"
    }
   ],
   "source": [
    "sub[sub['Machine failure']>=0.5].shape"
   ]
  },
  {
   "cell_type": "code",
   "execution_count": 295,
   "metadata": {},
   "outputs": [
    {
     "data": {
      "text/plain": [
       "0.007057    16\n",
       "0.002272    13\n",
       "0.002033     8\n",
       "0.000920     5\n",
       "0.317021     5\n",
       "            ..\n",
       "0.000382     1\n",
       "0.000438     1\n",
       "0.000835     1\n",
       "0.000550     1\n",
       "0.000504     1\n",
       "Name: Machine failure, Length: 90290, dtype: int64"
      ]
     },
     "execution_count": 295,
     "metadata": {},
     "output_type": "execute_result"
    }
   ],
   "source": [
    "sub['Machine failure'].value_counts()"
   ]
  },
  {
   "cell_type": "code",
   "execution_count": 296,
   "metadata": {},
   "outputs": [
    {
     "name": "stdout",
     "output_type": "stream",
     "text": [
      "Successfully submitted to Binary Classification of Machine Failures"
     ]
    },
    {
     "name": "stderr",
     "output_type": "stream",
     "text": [
      "\n",
      "  0%|          | 0.00/2.58M [00:00<?, ?B/s]\n",
      "  0%|          | 8.00k/2.58M [00:00<01:48, 24.8kB/s]\n",
      "  4%|▎         | 96.0k/2.58M [00:00<00:09, 265kB/s] \n",
      "  5%|▌         | 144k/2.58M [00:00<00:15, 167kB/s] \n",
      "  7%|▋         | 176k/2.58M [00:01<00:18, 137kB/s]\n",
      "  8%|▊         | 200k/2.58M [00:01<00:19, 126kB/s]\n",
      "  8%|▊         | 224k/2.58M [00:01<00:20, 122kB/s]\n",
      "  9%|▉         | 240k/2.58M [00:01<00:20, 119kB/s]\n",
      " 10%|▉         | 256k/2.58M [00:02<00:20, 119kB/s]\n",
      " 10%|█         | 272k/2.58M [00:02<00:21, 115kB/s]\n",
      " 11%|█         | 288k/2.58M [00:02<00:21, 112kB/s]\n",
      " 11%|█▏        | 304k/2.58M [00:02<00:21, 112kB/s]\n",
      " 12%|█▏        | 320k/2.58M [00:02<00:21, 112kB/s]\n",
      " 13%|█▎        | 336k/2.58M [00:02<00:21, 110kB/s]\n",
      " 13%|█▎        | 352k/2.58M [00:02<00:21, 108kB/s]\n",
      " 14%|█▍        | 368k/2.58M [00:03<00:51, 44.9kB/s]\n",
      " 15%|█▍        | 384k/2.58M [00:04<00:44, 51.6kB/s]\n",
      " 15%|█▍        | 392k/2.58M [00:04<00:42, 54.4kB/s]\n",
      " 18%|█▊        | 480k/2.58M [00:04<00:13, 166kB/s] \n",
      " 19%|█▉        | 512k/2.58M [00:04<00:14, 147kB/s]\n",
      " 20%|██        | 536k/2.58M [00:04<00:15, 137kB/s]\n",
      " 21%|██        | 560k/2.58M [00:04<00:16, 130kB/s]\n",
      " 22%|██▏       | 576k/2.58M [00:05<00:16, 125kB/s]\n",
      " 22%|██▏       | 592k/2.58M [00:05<00:17, 121kB/s]\n",
      " 23%|██▎       | 608k/2.58M [00:05<00:17, 121kB/s]\n",
      " 24%|██▎       | 624k/2.58M [00:05<00:17, 118kB/s]\n",
      " 24%|██▍       | 640k/2.58M [00:05<00:18, 111kB/s]\n",
      " 25%|██▍       | 656k/2.58M [00:05<00:18, 111kB/s]\n",
      " 25%|██▌       | 672k/2.58M [00:06<00:20, 101kB/s]\n",
      " 26%|██▌       | 688k/2.58M [00:06<00:19, 101kB/s]\n",
      " 27%|██▋       | 704k/2.58M [00:06<00:19, 104kB/s]\n",
      " 27%|██▋       | 720k/2.58M [00:06<00:19, 103kB/s]\n",
      " 28%|██▊       | 736k/2.58M [00:06<00:18, 103kB/s]\n",
      " 28%|██▊       | 752k/2.58M [00:06<00:18, 107kB/s]\n",
      " 29%|██▉       | 768k/2.58M [00:07<00:17, 107kB/s]\n",
      " 30%|██▉       | 784k/2.58M [00:07<00:17, 107kB/s]\n",
      " 30%|███       | 800k/2.58M [00:07<00:17, 106kB/s]\n",
      " 31%|███       | 816k/2.58M [00:07<00:17, 105kB/s]\n",
      " 31%|███▏      | 832k/2.58M [00:08<00:35, 53.0kB/s]\n",
      " 32%|███▏      | 848k/2.58M [00:08<00:29, 63.1kB/s]\n",
      " 33%|███▎      | 880k/2.58M [00:08<00:19, 92.6kB/s]\n",
      " 34%|███▍      | 896k/2.58M [00:08<00:18, 95.0kB/s]\n",
      " 36%|███▌      | 952k/2.58M [00:08<00:11, 157kB/s] \n",
      " 37%|███▋      | 976k/2.58M [00:09<00:12, 134kB/s]\n",
      " 38%|███▊      | 992k/2.58M [00:09<00:13, 129kB/s]\n",
      " 38%|███▊      | 0.98M/2.58M [00:09<00:13, 124kB/s]\n",
      " 39%|███▊      | 1.00M/2.58M [00:09<00:13, 120kB/s]\n",
      " 39%|███▉      | 1.02M/2.58M [00:09<00:14, 111kB/s]\n",
      " 40%|███▉      | 1.03M/2.58M [00:10<00:29, 54.9kB/s]\n",
      " 41%|████      | 1.05M/2.58M [00:10<00:23, 69.2kB/s]\n",
      " 42%|████▏     | 1.09M/2.58M [00:10<00:16, 92.0kB/s]\n",
      " 44%|████▍     | 1.14M/2.58M [00:11<00:11, 130kB/s] \n",
      " 45%|████▍     | 1.16M/2.58M [00:11<00:12, 121kB/s]\n",
      " 45%|████▌     | 1.17M/2.58M [00:11<00:12, 120kB/s]\n",
      " 46%|████▌     | 1.19M/2.58M [00:11<00:13, 112kB/s]\n",
      " 47%|████▋     | 1.20M/2.58M [00:11<00:13, 107kB/s]\n",
      " 47%|████▋     | 1.22M/2.58M [00:11<00:13, 106kB/s]\n",
      " 48%|████▊     | 1.23M/2.58M [00:12<00:13, 105kB/s]\n",
      " 48%|████▊     | 1.25M/2.58M [00:12<00:13, 101kB/s]\n",
      " 49%|████▉     | 1.27M/2.58M [00:12<00:13, 102kB/s]\n",
      " 50%|████▉     | 1.28M/2.58M [00:12<00:13, 97.8kB/s]\n",
      " 50%|█████     | 1.30M/2.58M [00:12<00:13, 101kB/s] \n",
      " 51%|█████     | 1.31M/2.58M [00:12<00:13, 98.0kB/s]\n",
      " 51%|█████▏    | 1.33M/2.58M [00:13<00:13, 97.1kB/s]\n",
      " 52%|█████▏    | 1.34M/2.58M [00:13<00:13, 97.2kB/s]\n",
      " 53%|█████▎    | 1.36M/2.58M [00:13<00:13, 95.8kB/s]\n",
      " 53%|█████▎    | 1.38M/2.58M [00:13<00:12, 98.3kB/s]\n",
      " 54%|█████▍    | 1.39M/2.58M [00:13<00:12, 96.5kB/s]\n",
      " 54%|█████▍    | 1.41M/2.58M [00:13<00:13, 90.7kB/s]\n",
      " 55%|█████▌    | 1.42M/2.58M [00:14<00:12, 95.5kB/s]\n",
      " 56%|█████▌    | 1.44M/2.58M [00:14<00:12, 96.9kB/s]\n",
      " 56%|█████▋    | 1.45M/2.58M [00:14<00:12, 98.2kB/s]\n",
      " 57%|█████▋    | 1.47M/2.58M [00:14<00:11, 101kB/s] \n",
      " 57%|█████▋    | 1.48M/2.58M [00:14<00:12, 91.7kB/s]\n",
      " 58%|█████▊    | 1.50M/2.58M [00:14<00:11, 96.8kB/s]\n",
      " 59%|█████▊    | 1.52M/2.58M [00:15<00:11, 98.0kB/s]\n",
      " 59%|█████▉    | 1.53M/2.58M [00:15<00:10, 101kB/s] \n",
      " 60%|█████▉    | 1.55M/2.58M [00:15<00:10, 105kB/s]\n",
      " 60%|██████    | 1.56M/2.58M [00:15<00:10, 97.8kB/s]\n",
      " 61%|██████    | 1.58M/2.58M [00:15<00:11, 95.1kB/s]\n",
      " 62%|██████▏   | 1.59M/2.58M [00:16<00:20, 49.6kB/s]\n",
      " 63%|██████▎   | 1.63M/2.58M [00:16<00:13, 74.4kB/s]\n",
      " 65%|██████▌   | 1.69M/2.58M [00:16<00:07, 127kB/s] \n",
      " 66%|██████▌   | 1.71M/2.58M [00:17<00:07, 122kB/s]\n",
      " 67%|██████▋   | 1.73M/2.58M [00:17<00:07, 118kB/s]\n",
      " 67%|██████▋   | 1.74M/2.58M [00:17<00:07, 115kB/s]\n",
      " 68%|██████▊   | 1.76M/2.58M [00:17<00:07, 114kB/s]\n",
      " 69%|██████▊   | 1.77M/2.58M [00:17<00:07, 113kB/s]\n",
      " 69%|██████▉   | 1.79M/2.58M [00:17<00:07, 111kB/s]\n",
      " 70%|██████▉   | 1.80M/2.58M [00:18<00:07, 109kB/s]\n",
      " 70%|███████   | 1.82M/2.58M [00:18<00:07, 110kB/s]\n",
      " 71%|███████   | 1.84M/2.58M [00:18<00:07, 110kB/s]\n",
      " 72%|███████▏  | 1.85M/2.58M [00:18<00:07, 104kB/s]\n",
      " 72%|███████▏  | 1.87M/2.58M [00:18<00:06, 107kB/s]\n",
      " 73%|███████▎  | 1.88M/2.58M [00:18<00:07, 103kB/s]\n",
      " 73%|███████▎  | 1.90M/2.58M [00:19<00:06, 105kB/s]\n",
      " 74%|███████▍  | 1.91M/2.58M [00:19<00:06, 103kB/s]\n",
      " 75%|███████▍  | 1.93M/2.58M [00:19<00:06, 104kB/s]\n",
      " 75%|███████▌  | 1.95M/2.58M [00:19<00:06, 105kB/s]\n",
      " 76%|███████▌  | 1.96M/2.58M [00:19<00:06, 107kB/s]\n",
      " 77%|███████▋  | 1.98M/2.58M [00:19<00:05, 107kB/s]\n",
      " 77%|███████▋  | 1.99M/2.58M [00:19<00:05, 105kB/s]\n",
      " 78%|███████▊  | 2.01M/2.58M [00:20<00:05, 108kB/s]\n",
      " 78%|███████▊  | 2.02M/2.58M [00:20<00:05, 107kB/s]\n",
      " 79%|███████▉  | 2.04M/2.58M [00:20<00:05, 107kB/s]\n",
      " 80%|███████▉  | 2.05M/2.58M [00:20<00:05, 103kB/s]\n",
      " 80%|████████  | 2.07M/2.58M [00:20<00:07, 73.4kB/s]\n",
      " 81%|████████▏ | 2.10M/2.58M [00:21<00:04, 109kB/s] \n",
      " 82%|████████▏ | 2.12M/2.58M [00:21<00:04, 108kB/s]\n",
      " 83%|████████▎ | 2.13M/2.58M [00:21<00:04, 110kB/s]\n",
      " 83%|████████▎ | 2.15M/2.58M [00:21<00:04, 109kB/s]\n",
      " 84%|████████▍ | 2.16M/2.58M [00:21<00:04, 109kB/s]\n",
      " 84%|████████▍ | 2.18M/2.58M [00:21<00:03, 110kB/s]\n",
      " 85%|████████▍ | 2.20M/2.58M [00:21<00:03, 108kB/s]\n",
      " 86%|████████▌ | 2.21M/2.58M [00:22<00:03, 107kB/s]\n",
      " 86%|████████▌ | 2.23M/2.58M [00:22<00:03, 98.8kB/s]\n",
      " 87%|████████▋ | 2.24M/2.58M [00:22<00:03, 103kB/s] \n",
      " 87%|████████▋ | 2.26M/2.58M [00:22<00:03, 104kB/s]\n",
      " 88%|████████▊ | 2.27M/2.58M [00:22<00:03, 105kB/s]\n",
      " 89%|████████▊ | 2.29M/2.58M [00:22<00:03, 103kB/s]\n",
      " 89%|████████▉ | 2.30M/2.58M [00:23<00:02, 103kB/s]\n",
      " 90%|████████▉ | 2.32M/2.58M [00:23<00:05, 49.6kB/s]\n",
      " 91%|█████████ | 2.34M/2.58M [00:23<00:03, 69.8kB/s]\n",
      " 91%|█████████▏| 2.36M/2.58M [00:24<00:02, 82.2kB/s]\n",
      " 92%|█████████▏| 2.38M/2.58M [00:24<00:02, 88.6kB/s]\n",
      " 93%|█████████▎| 2.39M/2.58M [00:24<00:02, 96.7kB/s]\n",
      " 95%|█████████▍| 2.45M/2.58M [00:24<00:00, 166kB/s] \n",
      " 96%|█████████▌| 2.47M/2.58M [00:24<00:00, 144kB/s]\n",
      " 96%|█████████▌| 2.48M/2.58M [00:24<00:00, 135kB/s]\n",
      " 97%|█████████▋| 2.50M/2.58M [00:25<00:00, 127kB/s]\n",
      " 97%|█████████▋| 2.52M/2.58M [00:25<00:00, 125kB/s]\n",
      " 98%|█████████▊| 2.53M/2.58M [00:25<00:00, 116kB/s]\n",
      " 99%|█████████▊| 2.55M/2.58M [00:25<00:00, 114kB/s]\n",
      " 99%|█████████▉| 2.56M/2.58M [00:25<00:00, 111kB/s]\n",
      "100%|█████████▉| 2.58M/2.58M [00:25<00:00, 111kB/s]\n",
      "100%|██████████| 2.58M/2.58M [00:27<00:00, 97.4kB/s]\n"
     ]
    },
    {
     "name": "stdout",
     "output_type": "stream",
     "text": [
      "\n"
     ]
    }
   ],
   "source": [
    "!kaggle competitions submit -c playground-series-s3e17 -f sub.csv -m \"lol\""
   ]
  },
  {
   "cell_type": "code",
   "execution_count": 10,
   "metadata": {},
   "outputs": [
    {
     "data": {
      "text/plain": [
       "array([[ 27,  33,  39],\n",
       "       [ 43,  56,  69],\n",
       "       [ 80,  94, 108]])"
      ]
     },
     "execution_count": 10,
     "metadata": {},
     "output_type": "execute_result"
    }
   ],
   "source": [
    "import numpy as np \n",
    "\n",
    "# matrix A\n",
    "A=np.array([[1,3,2],[6,4,3],[1,4,9]])\n",
    "B=  np.array([[1,2,3],[4,5,6],[7,8,9]])\n",
    "\n",
    "np.einsum('ij,jk->ik',A,B)"
   ]
  },
  {
   "cell_type": "code",
   "execution_count": null,
   "metadata": {},
   "outputs": [],
   "source": [
    "# Q: what does np.einsum('il,lj',A,B) do?\n",
    "# A: it does matrix multiplication"
   ]
  },
  {
   "cell_type": "code",
   "execution_count": 2,
   "metadata": {},
   "outputs": [
    {
     "data": {
      "text/plain": [
       "array([[ 27,  33,  39],\n",
       "       [ 43,  56,  69],\n",
       "       [ 80,  94, 108]])"
      ]
     },
     "execution_count": 2,
     "metadata": {},
     "output_type": "execute_result"
    }
   ],
   "source": [
    "# multiply A and B\n",
    "\n",
    "# matrix multiplication\n",
    "\n",
    "A=np.array([[1,3,2],[6,4,3],[1,4,9]])\n",
    "B=  np.array([[1,2,3],[4,5,6],[7,8,9]])\n",
    "\n",
    "np.matmul(A,B)"
   ]
  },
  {
   "cell_type": "code",
   "execution_count": null,
   "metadata": {},
   "outputs": [],
   "source": []
  }
 ],
 "metadata": {
  "kernelspec": {
   "display_name": "base",
   "language": "python",
   "name": "python3"
  },
  "language_info": {
   "codemirror_mode": {
    "name": "ipython",
    "version": 3
   },
   "file_extension": ".py",
   "mimetype": "text/x-python",
   "name": "python",
   "nbconvert_exporter": "python",
   "pygments_lexer": "ipython3",
   "version": "3.9.16"
  },
  "orig_nbformat": 4
 },
 "nbformat": 4,
 "nbformat_minor": 2
}
