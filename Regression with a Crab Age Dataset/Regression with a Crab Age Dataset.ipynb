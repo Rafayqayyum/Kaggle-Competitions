{
 "cells": [
  {
   "attachments": {},
   "cell_type": "markdown",
   "metadata": {},
   "source": [
    "# Regression with a Crab Age Dataset"
   ]
  },
  {
   "attachments": {},
   "cell_type": "markdown",
   "metadata": {},
   "source": [
    "## importing Libaries"
   ]
  },
  {
   "cell_type": "code",
   "execution_count": 64,
   "metadata": {},
   "outputs": [],
   "source": [
    "import pandas as pd\n",
    "import numpy as np\n",
    "import matplotlib.pyplot as plt\n",
    "import seaborn as sns\n",
    "from sklearn.model_selection import train_test_split"
   ]
  },
  {
   "cell_type": "code",
   "execution_count": null,
   "metadata": {},
   "outputs": [],
   "source": [
    "%matplotlib inline"
   ]
  },
  {
   "attachments": {},
   "cell_type": "markdown",
   "metadata": {},
   "source": [
    "## Download the dataset"
   ]
  },
  {
   "cell_type": "code",
   "execution_count": 251,
   "metadata": {},
   "outputs": [
    {
     "name": "stderr",
     "output_type": "stream",
     "text": [
      "2023-06-08 01:32:30,361 WARNING Retrying (Retry(total=2, connect=None, read=None, redirect=None, status=None)) after connection broken by 'NewConnectionError('<urllib3.connection.HTTPSConnection object at 0x00000178C11133D0>: Failed to establish a new connection: [Errno 11001] getaddrinfo failed')': /api/v1/competitions/data/download-all/playground-series-s3e16\n",
      "2023-06-08 01:32:30,362 WARNING Retrying (Retry(total=1, connect=None, read=None, redirect=None, status=None)) after connection broken by 'NewConnectionError('<urllib3.connection.HTTPSConnection object at 0x00000178C10FFDC0>: Failed to establish a new connection: [Errno 11001] getaddrinfo failed')': /api/v1/competitions/data/download-all/playground-series-s3e16\n",
      "2023-06-08 01:32:30,363 WARNING Retrying (Retry(total=0, connect=None, read=None, redirect=None, status=None)) after connection broken by 'NewConnectionError('<urllib3.connection.HTTPSConnection object at 0x00000178C10FF850>: Failed to establish a new connection: [Errno 11001] getaddrinfo failed')': /api/v1/competitions/data/download-all/playground-series-s3e16\n",
      "Traceback (most recent call last):\n",
      "  File \"C:\\Users\\rafay\\anaconda3\\lib\\site-packages\\urllib3\\connection.py\", line 174, in _new_conn\n",
      "    conn = connection.create_connection(\n",
      "  File \"C:\\Users\\rafay\\anaconda3\\lib\\site-packages\\urllib3\\util\\connection.py\", line 72, in create_connection\n",
      "    for res in socket.getaddrinfo(host, port, family, socket.SOCK_STREAM):\n",
      "  File \"C:\\Users\\rafay\\anaconda3\\lib\\socket.py\", line 954, in getaddrinfo\n",
      "    for res in _socket.getaddrinfo(host, port, family, type, proto, flags):\n",
      "socket.gaierror: [Errno 11001] getaddrinfo failed\n",
      "\n",
      "During handling of the above exception, another exception occurred:\n",
      "\n",
      "Traceback (most recent call last):\n",
      "  File \"C:\\Users\\rafay\\anaconda3\\lib\\site-packages\\urllib3\\connectionpool.py\", line 703, in urlopen\n",
      "    httplib_response = self._make_request(\n",
      "  File \"C:\\Users\\rafay\\anaconda3\\lib\\site-packages\\urllib3\\connectionpool.py\", line 386, in _make_request\n",
      "    self._validate_conn(conn)\n",
      "  File \"C:\\Users\\rafay\\anaconda3\\lib\\site-packages\\urllib3\\connectionpool.py\", line 1042, in _validate_conn\n",
      "    conn.connect()\n",
      "  File \"C:\\Users\\rafay\\anaconda3\\lib\\site-packages\\urllib3\\connection.py\", line 358, in connect\n",
      "    self.sock = conn = self._new_conn()\n",
      "  File \"C:\\Users\\rafay\\anaconda3\\lib\\site-packages\\urllib3\\connection.py\", line 186, in _new_conn\n",
      "    raise NewConnectionError(\n",
      "urllib3.exceptions.NewConnectionError: <urllib3.connection.HTTPSConnection object at 0x00000178C10FF130>: Failed to establish a new connection: [Errno 11001] getaddrinfo failed\n",
      "\n",
      "During handling of the above exception, another exception occurred:\n",
      "\n",
      "Traceback (most recent call last):\n",
      "  File \"C:\\Users\\rafay\\anaconda3\\lib\\runpy.py\", line 197, in _run_module_as_main\n",
      "    return _run_code(code, main_globals, None,\n",
      "  File \"C:\\Users\\rafay\\anaconda3\\lib\\runpy.py\", line 87, in _run_code\n",
      "    exec(code, run_globals)\n",
      "  File \"C:\\Users\\rafay\\anaconda3\\Scripts\\kaggle.exe\\__main__.py\", line 7, in <module>\n",
      "  File \"C:\\Users\\rafay\\anaconda3\\lib\\site-packages\\kaggle\\cli.py\", line 67, in main\n",
      "    out = args.func(**command_args)\n",
      "  File \"C:\\Users\\rafay\\anaconda3\\lib\\site-packages\\kaggle\\api\\kaggle_api_extended.py\", line 757, in competition_download_cli\n",
      "    self.competition_download_files(competition, path, force,\n",
      "  File \"C:\\Users\\rafay\\anaconda3\\lib\\site-packages\\kaggle\\api\\kaggle_api_extended.py\", line 718, in competition_download_files\n",
      "    self.competitions_data_download_files_with_http_info(\n",
      "  File \"C:\\Users\\rafay\\anaconda3\\lib\\site-packages\\kaggle\\api\\kaggle_api.py\", line 400, in competitions_data_download_files_with_http_info\n",
      "    return self.api_client.call_api(\n",
      "  File \"C:\\Users\\rafay\\anaconda3\\lib\\site-packages\\kaggle\\api_client.py\", line 329, in call_api\n",
      "    return self.__call_api(resource_path, method,\n",
      "  File \"C:\\Users\\rafay\\anaconda3\\lib\\site-packages\\kaggle\\api_client.py\", line 161, in __call_api\n",
      "    response_data = self.request(\n",
      "  File \"C:\\Users\\rafay\\anaconda3\\lib\\site-packages\\kaggle\\api_client.py\", line 351, in request\n",
      "    return self.rest_client.GET(url,\n",
      "  File \"C:\\Users\\rafay\\anaconda3\\lib\\site-packages\\kaggle\\rest.py\", line 247, in GET\n",
      "    return self.request(\"GET\", url,\n",
      "  File \"C:\\Users\\rafay\\anaconda3\\lib\\site-packages\\kaggle\\rest.py\", line 220, in request\n",
      "    r = self.pool_manager.request(method, url,\n",
      "  File \"C:\\Users\\rafay\\anaconda3\\lib\\site-packages\\urllib3\\request.py\", line 74, in request\n",
      "    return self.request_encode_url(\n",
      "  File \"C:\\Users\\rafay\\anaconda3\\lib\\site-packages\\urllib3\\request.py\", line 96, in request_encode_url\n",
      "    return self.urlopen(method, url, **extra_kw)\n",
      "  File \"C:\\Users\\rafay\\anaconda3\\lib\\site-packages\\urllib3\\poolmanager.py\", line 376, in urlopen\n",
      "    response = conn.urlopen(method, u.request_uri, **kw)\n",
      "  File \"C:\\Users\\rafay\\anaconda3\\lib\\site-packages\\urllib3\\connectionpool.py\", line 815, in urlopen\n",
      "    return self.urlopen(\n",
      "  File \"C:\\Users\\rafay\\anaconda3\\lib\\site-packages\\urllib3\\connectionpool.py\", line 815, in urlopen\n",
      "    return self.urlopen(\n",
      "  File \"C:\\Users\\rafay\\anaconda3\\lib\\site-packages\\urllib3\\connectionpool.py\", line 815, in urlopen\n",
      "    return self.urlopen(\n",
      "  File \"C:\\Users\\rafay\\anaconda3\\lib\\site-packages\\urllib3\\connectionpool.py\", line 787, in urlopen\n",
      "    retries = retries.increment(\n",
      "  File \"C:\\Users\\rafay\\anaconda3\\lib\\site-packages\\urllib3\\util\\retry.py\", line 592, in increment\n",
      "    raise MaxRetryError(_pool, url, error or ResponseError(cause))\n",
      "urllib3.exceptions.MaxRetryError: HTTPSConnectionPool(host='www.kaggle.com', port=443): Max retries exceeded with url: /api/v1/competitions/data/download-all/playground-series-s3e16 (Caused by NewConnectionError('<urllib3.connection.HTTPSConnection object at 0x00000178C10FF130>: Failed to establish a new connection: [Errno 11001] getaddrinfo failed'))\n"
     ]
    }
   ],
   "source": [
    "!kaggle competitions download -c playground-series-s3e16"
   ]
  },
  {
   "attachments": {},
   "cell_type": "markdown",
   "metadata": {},
   "source": [
    "## Loading the dataset "
   ]
  },
  {
   "cell_type": "code",
   "execution_count": 120,
   "metadata": {},
   "outputs": [],
   "source": [
    "df = pd.read_csv('train.csv')"
   ]
  },
  {
   "cell_type": "code",
   "execution_count": 121,
   "metadata": {},
   "outputs": [
    {
     "data": {
      "text/html": [
       "<div>\n",
       "<style scoped>\n",
       "    .dataframe tbody tr th:only-of-type {\n",
       "        vertical-align: middle;\n",
       "    }\n",
       "\n",
       "    .dataframe tbody tr th {\n",
       "        vertical-align: top;\n",
       "    }\n",
       "\n",
       "    .dataframe thead th {\n",
       "        text-align: right;\n",
       "    }\n",
       "</style>\n",
       "<table border=\"1\" class=\"dataframe\">\n",
       "  <thead>\n",
       "    <tr style=\"text-align: right;\">\n",
       "      <th></th>\n",
       "      <th>id</th>\n",
       "      <th>Sex</th>\n",
       "      <th>Length</th>\n",
       "      <th>Diameter</th>\n",
       "      <th>Height</th>\n",
       "      <th>Weight</th>\n",
       "      <th>Shucked Weight</th>\n",
       "      <th>Viscera Weight</th>\n",
       "      <th>Shell Weight</th>\n",
       "      <th>Age</th>\n",
       "    </tr>\n",
       "  </thead>\n",
       "  <tbody>\n",
       "    <tr>\n",
       "      <th>0</th>\n",
       "      <td>0</td>\n",
       "      <td>I</td>\n",
       "      <td>1.5250</td>\n",
       "      <td>1.1750</td>\n",
       "      <td>0.3750</td>\n",
       "      <td>28.973189</td>\n",
       "      <td>12.728926</td>\n",
       "      <td>6.647958</td>\n",
       "      <td>8.348928</td>\n",
       "      <td>9</td>\n",
       "    </tr>\n",
       "    <tr>\n",
       "      <th>1</th>\n",
       "      <td>1</td>\n",
       "      <td>I</td>\n",
       "      <td>1.1000</td>\n",
       "      <td>0.8250</td>\n",
       "      <td>0.2750</td>\n",
       "      <td>10.418441</td>\n",
       "      <td>4.521745</td>\n",
       "      <td>2.324659</td>\n",
       "      <td>3.401940</td>\n",
       "      <td>8</td>\n",
       "    </tr>\n",
       "    <tr>\n",
       "      <th>2</th>\n",
       "      <td>2</td>\n",
       "      <td>M</td>\n",
       "      <td>1.3875</td>\n",
       "      <td>1.1125</td>\n",
       "      <td>0.3750</td>\n",
       "      <td>24.777463</td>\n",
       "      <td>11.339800</td>\n",
       "      <td>5.556502</td>\n",
       "      <td>6.662133</td>\n",
       "      <td>9</td>\n",
       "    </tr>\n",
       "    <tr>\n",
       "      <th>3</th>\n",
       "      <td>3</td>\n",
       "      <td>F</td>\n",
       "      <td>1.7000</td>\n",
       "      <td>1.4125</td>\n",
       "      <td>0.5000</td>\n",
       "      <td>50.660556</td>\n",
       "      <td>20.354941</td>\n",
       "      <td>10.991839</td>\n",
       "      <td>14.996885</td>\n",
       "      <td>11</td>\n",
       "    </tr>\n",
       "    <tr>\n",
       "      <th>4</th>\n",
       "      <td>4</td>\n",
       "      <td>I</td>\n",
       "      <td>1.2500</td>\n",
       "      <td>1.0125</td>\n",
       "      <td>0.3375</td>\n",
       "      <td>23.289114</td>\n",
       "      <td>11.977664</td>\n",
       "      <td>4.507570</td>\n",
       "      <td>5.953395</td>\n",
       "      <td>8</td>\n",
       "    </tr>\n",
       "  </tbody>\n",
       "</table>\n",
       "</div>"
      ],
      "text/plain": [
       "   id Sex  Length  Diameter  Height     Weight  Shucked Weight  \\\n",
       "0   0   I  1.5250    1.1750  0.3750  28.973189       12.728926   \n",
       "1   1   I  1.1000    0.8250  0.2750  10.418441        4.521745   \n",
       "2   2   M  1.3875    1.1125  0.3750  24.777463       11.339800   \n",
       "3   3   F  1.7000    1.4125  0.5000  50.660556       20.354941   \n",
       "4   4   I  1.2500    1.0125  0.3375  23.289114       11.977664   \n",
       "\n",
       "   Viscera Weight  Shell Weight  Age  \n",
       "0        6.647958      8.348928    9  \n",
       "1        2.324659      3.401940    8  \n",
       "2        5.556502      6.662133    9  \n",
       "3       10.991839     14.996885   11  \n",
       "4        4.507570      5.953395    8  "
      ]
     },
     "execution_count": 121,
     "metadata": {},
     "output_type": "execute_result"
    }
   ],
   "source": [
    "df.head(5)"
   ]
  },
  {
   "cell_type": "code",
   "execution_count": null,
   "metadata": {},
   "outputs": [],
   "source": [
    "df=df.reset_index(drop=True).set_index('id')\n",
    "df.head(5)"
   ]
  },
  {
   "attachments": {},
   "cell_type": "markdown",
   "metadata": {},
   "source": [
    "## Splitting the data into train and test sets"
   ]
  },
  {
   "cell_type": "code",
   "execution_count": 130,
   "metadata": {},
   "outputs": [],
   "source": [
    "xtrain, xtest, ytrain, ytest = train_test_split(df.drop('Age',axis=1), df['Age'], test_size=0.15, random_state=42)"
   ]
  },
  {
   "attachments": {},
   "cell_type": "markdown",
   "metadata": {},
   "source": [
    "## EDA"
   ]
  },
  {
   "cell_type": "code",
   "execution_count": 131,
   "metadata": {},
   "outputs": [],
   "source": [
    "# from pandas_profiling import ProfileReport\n",
    "# profile = ProfileReport(df, title='Pandas Profiling Report', explorative=True)\n",
    "# profile.to_notebook_iframe()"
   ]
  },
  {
   "cell_type": "code",
   "execution_count": null,
   "metadata": {},
   "outputs": [],
   "source": [
    "df['Sex'].value_counts()"
   ]
  },
  {
   "cell_type": "code",
   "execution_count": 132,
   "metadata": {},
   "outputs": [
    {
     "name": "stdout",
     "output_type": "stream",
     "text": [
      "<class 'pandas.core.frame.DataFrame'>\n",
      "Int64Index: 62943 entries, 28654 to 15795\n",
      "Data columns (total 8 columns):\n",
      " #   Column          Non-Null Count  Dtype  \n",
      "---  ------          --------------  -----  \n",
      " 0   Sex             62943 non-null  object \n",
      " 1   Length          62943 non-null  float64\n",
      " 2   Diameter        62943 non-null  float64\n",
      " 3   Height          62943 non-null  float64\n",
      " 4   Weight          62943 non-null  float64\n",
      " 5   Shucked Weight  62943 non-null  float64\n",
      " 6   Viscera Weight  62943 non-null  float64\n",
      " 7   Shell Weight    62943 non-null  float64\n",
      "dtypes: float64(7), object(1)\n",
      "memory usage: 4.3+ MB\n"
     ]
    }
   ],
   "source": [
    "xtrain.info()"
   ]
  },
  {
   "cell_type": "code",
   "execution_count": 134,
   "metadata": {},
   "outputs": [
    {
     "data": {
      "text/plain": [
       "Sex               0\n",
       "Length            0\n",
       "Diameter          0\n",
       "Height            0\n",
       "Weight            0\n",
       "Shucked Weight    0\n",
       "Viscera Weight    0\n",
       "Shell Weight      0\n",
       "dtype: int64"
      ]
     },
     "execution_count": 134,
     "metadata": {},
     "output_type": "execute_result"
    }
   ],
   "source": [
    "xtrain.isna().sum()"
   ]
  },
  {
   "cell_type": "code",
   "execution_count": 136,
   "metadata": {},
   "outputs": [
    {
     "data": {
      "text/plain": [
       "0"
      ]
     },
     "execution_count": 136,
     "metadata": {},
     "output_type": "execute_result"
    }
   ],
   "source": [
    "xtrain.duplicated().sum()"
   ]
  },
  {
   "cell_type": "code",
   "execution_count": 137,
   "metadata": {},
   "outputs": [],
   "source": [
    "# sns.pairplot(xtrain)"
   ]
  },
  {
   "cell_type": "code",
   "execution_count": 139,
   "metadata": {},
   "outputs": [
    {
     "data": {
      "text/plain": [
       "Index(['Sex', 'Length', 'Diameter', 'Height', 'Weight', 'Shucked Weight',\n",
       "       'Viscera Weight', 'Shell Weight'],\n",
       "      dtype='object')"
      ]
     },
     "execution_count": 139,
     "metadata": {},
     "output_type": "execute_result"
    }
   ],
   "source": [
    "xtrain.columns"
   ]
  },
  {
   "cell_type": "code",
   "execution_count": 21,
   "metadata": {},
   "outputs": [
    {
     "name": "stderr",
     "output_type": "stream",
     "text": [
      "C:\\Users\\rafay\\AppData\\Local\\Temp\\ipykernel_8468\\349080965.py:3: FutureWarning: The default value of numeric_only in DataFrame.corr is deprecated. In a future version, it will default to False. Select only valid columns or specify the value of numeric_only to silence this warning.\n",
      "  corr = xtrain.corr()\n"
     ]
    },
    {
     "data": {
      "text/plain": [
       "<Axes: >"
      ]
     },
     "execution_count": 21,
     "metadata": {},
     "output_type": "execute_result"
    },
    {
     "data": {
      "image/png": "[encoded data removed]",
      "text/plain": [
       "<Figure size 1000x1000 with 2 Axes>"
      ]
     },
     "metadata": {},
     "output_type": "display_data"
    }
   ],
   "source": [
    "## Correlation Matrix\n",
    "corr = xtrain.corr()\n",
    "plt.figure(figsize=(10,10))\n",
    "sns.heatmap(corr, annot=True, cmap='coolwarm')"
   ]
  },
  {
   "cell_type": "code",
   "execution_count": 22,
   "metadata": {},
   "outputs": [
    {
     "data": {
      "text/plain": [
       "Index(['Sex', 'Length', 'Diameter', 'Height', 'Weight', 'Shucked Weight',\n",
       "       'Viscera Weight', 'Shell Weight'],\n",
       "      dtype='object')"
      ]
     },
     "execution_count": 22,
     "metadata": {},
     "output_type": "execute_result"
    }
   ],
   "source": [
    "xtrain.columns"
   ]
  },
  {
   "cell_type": "code",
   "execution_count": 23,
   "metadata": {},
   "outputs": [
    {
     "data": {
      "image/png": "[encoded data removed]",
      "text/plain": [
       "<Figure size 1000x500 with 7 Axes>"
      ]
     },
     "metadata": {},
     "output_type": "display_data"
    }
   ],
   "source": [
    "# creating hist plot for all the columns\n",
    "plt.figure(figsize=(10,5))\n",
    "cols=xtrain.columns[1:]\n",
    "for i in cols:\n",
    "    plt.subplot(3,3,cols.get_loc(i)+1)\n",
    "    plt.title(i)\n",
    "    plt.hist(xtrain[i],bins=30)\n",
    "    plt.tight_layout()\n",
    "\n"
   ]
  },
  {
   "cell_type": "code",
   "execution_count": 170,
   "metadata": {},
   "outputs": [
    {
     "data": {
      "image/png": "[encoded data removed]",
      "text/plain": [
       "<Figure size 1000x500 with 1 Axes>"
      ]
     },
     "metadata": {},
     "output_type": "display_data"
    }
   ],
   "source": [
    "## plot y train\n",
    "plt.figure(figsize=(10,5))\n",
    "plt.title('Age')\n",
    "plt.hist(ytrain,bins=40)\n",
    "plt.tight_layout()\n"
   ]
  },
  {
   "cell_type": "code",
   "execution_count": 110,
   "metadata": {},
   "outputs": [
    {
     "data": {
      "text/html": [
       "<style>#sk-container-id-17 {color: black;background-color: white;}#sk-container-id-17 pre{padding: 0;}#sk-container-id-17 div.sk-toggleable {background-color: white;}#sk-container-id-17 label.sk-toggleable__label {cursor: pointer;display: block;width: 100%;margin-bottom: 0;padding: 0.3em;box-sizing: border-box;text-align: center;}#sk-container-id-17 label.sk-toggleable__label-arrow:before {content: \"▸\";float: left;margin-right: 0.25em;color: #696969;}#sk-container-id-17 label.sk-toggleable__label-arrow:hover:before {color: black;}#sk-container-id-17 div.sk-estimator:hover label.sk-toggleable__label-arrow:before {color: black;}#sk-container-id-17 div.sk-toggleable__content {max-height: 0;max-width: 0;overflow: hidden;text-align: left;background-color: #f0f8ff;}#sk-container-id-17 div.sk-toggleable__content pre {margin: 0.2em;color: black;border-radius: 0.25em;background-color: #f0f8ff;}#sk-container-id-17 input.sk-toggleable__control:checked~div.sk-toggleable__content {max-height: 200px;max-width: 100%;overflow: auto;}#sk-container-id-17 input.sk-toggleable__control:checked~label.sk-toggleable__label-arrow:before {content: \"▾\";}#sk-container-id-17 div.sk-estimator input.sk-toggleable__control:checked~label.sk-toggleable__label {background-color: #d4ebff;}#sk-container-id-17 div.sk-label input.sk-toggleable__control:checked~label.sk-toggleable__label {background-color: #d4ebff;}#sk-container-id-17 input.sk-hidden--visually {border: 0;clip: rect(1px 1px 1px 1px);clip: rect(1px, 1px, 1px, 1px);height: 1px;margin: -1px;overflow: hidden;padding: 0;position: absolute;width: 1px;}#sk-container-id-17 div.sk-estimator {font-family: monospace;background-color: #f0f8ff;border: 1px dotted black;border-radius: 0.25em;box-sizing: border-box;margin-bottom: 0.5em;}#sk-container-id-17 div.sk-estimator:hover {background-color: #d4ebff;}#sk-container-id-17 div.sk-parallel-item::after {content: \"\";width: 100%;border-bottom: 1px solid gray;flex-grow: 1;}#sk-container-id-17 div.sk-label:hover label.sk-toggleable__label {background-color: #d4ebff;}#sk-container-id-17 div.sk-serial::before {content: \"\";position: absolute;border-left: 1px solid gray;box-sizing: border-box;top: 0;bottom: 0;left: 50%;z-index: 0;}#sk-container-id-17 div.sk-serial {display: flex;flex-direction: column;align-items: center;background-color: white;padding-right: 0.2em;padding-left: 0.2em;position: relative;}#sk-container-id-17 div.sk-item {position: relative;z-index: 1;}#sk-container-id-17 div.sk-parallel {display: flex;align-items: stretch;justify-content: center;background-color: white;position: relative;}#sk-container-id-17 div.sk-item::before, #sk-container-id-17 div.sk-parallel-item::before {content: \"\";position: absolute;border-left: 1px solid gray;box-sizing: border-box;top: 0;bottom: 0;left: 50%;z-index: -1;}#sk-container-id-17 div.sk-parallel-item {display: flex;flex-direction: column;z-index: 1;position: relative;background-color: white;}#sk-container-id-17 div.sk-parallel-item:first-child::after {align-self: flex-end;width: 50%;}#sk-container-id-17 div.sk-parallel-item:last-child::after {align-self: flex-start;width: 50%;}#sk-container-id-17 div.sk-parallel-item:only-child::after {width: 0;}#sk-container-id-17 div.sk-dashed-wrapped {border: 1px dashed gray;margin: 0 0.4em 0.5em 0.4em;box-sizing: border-box;padding-bottom: 0.4em;background-color: white;}#sk-container-id-17 div.sk-label label {font-family: monospace;font-weight: bold;display: inline-block;line-height: 1.2em;}#sk-container-id-17 div.sk-label-container {text-align: center;}#sk-container-id-17 div.sk-container {/* jupyter's `normalize.less` sets `[hidden] { display: none; }` but bootstrap.min.css set `[hidden] { display: none !important; }` so we also need the `!important` here to be able to override the default hidden behavior on the sphinx rendered scikit-learn.org. See: https://github.com/scikit-learn/scikit-learn/issues/21755 */display: inline-block !important;position: relative;}#sk-container-id-17 div.sk-text-repr-fallback {display: none;}</style><div id=\"sk-container-id-17\" class=\"sk-top-container\"><div class=\"sk-text-repr-fallback\"><pre>RandomForestRegressor()</pre><b>In a Jupyter environment, please rerun this cell to show the HTML representation or trust the notebook. <br />On GitHub, the HTML representation is unable to render, please try loading this page with nbviewer.org.</b></div><div class=\"sk-container\" hidden><div class=\"sk-item\"><div class=\"sk-estimator sk-toggleable\"><input class=\"sk-toggleable__control sk-hidden--visually\" id=\"sk-estimator-id-17\" type=\"checkbox\" checked><label for=\"sk-estimator-id-17\" class=\"sk-toggleable__label sk-toggleable__label-arrow\">RandomForestRegressor</label><div class=\"sk-toggleable__content\"><pre>RandomForestRegressor()</pre></div></div></div></div></div>"
      ],
      "text/plain": [
       "RandomForestRegressor()"
      ]
     },
     "execution_count": 110,
     "metadata": {},
     "output_type": "execute_result"
    }
   ],
   "source": [
    "# feature importance\n",
    "from sklearn.ensemble import RandomForestRegressor\n",
    "\n",
    "# convert categorical to numerical\n",
    "ft_train=pd.get_dummies(xtrain)\n",
    "    \n",
    "feat_model = RandomForestRegressor()\n",
    "\n",
    "feat_model.fit(ft_train,ytrain)\n"
   ]
  },
  {
   "cell_type": "code",
   "execution_count": 111,
   "metadata": {},
   "outputs": [
    {
     "data": {
      "text/plain": [
       "<Axes: ylabel='Features'>"
      ]
     },
     "execution_count": 111,
     "metadata": {},
     "output_type": "execute_result"
    },
    {
     "data": {
      "image/png": "[encoded data removed]",
      "text/plain": [
       "<Figure size 1000x1000 with 1 Axes>"
      ]
     },
     "metadata": {},
     "output_type": "display_data"
    }
   ],
   "source": [
    "# extract feature importance\n",
    "feat_imp = pd.DataFrame({'Features':ft_train.columns,'Importance':feat_model.feature_importances_})\n",
    "feat_imp.sort_values(by='Importance').reset_index(drop=True).set_index('Features').plot(kind='barh',figsize=(10,10))"
   ]
  },
  {
   "cell_type": "code",
   "execution_count": 24,
   "metadata": {},
   "outputs": [
    {
     "ename": "NameError",
     "evalue": "name 'feat_imp' is not defined",
     "output_type": "error",
     "traceback": [
      "\u001b[1;31m---------------------------------------------------------------------------\u001b[0m",
      "\u001b[1;31mNameError\u001b[0m                                 Traceback (most recent call last)",
      "Cell \u001b[1;32mIn[24], line 1\u001b[0m\n\u001b[1;32m----> 1\u001b[0m feat_imp\u001b[39m.\u001b[39msort_values(by\u001b[39m=\u001b[39m\u001b[39m'\u001b[39m\u001b[39mImportance\u001b[39m\u001b[39m'\u001b[39m,ascending\u001b[39m=\u001b[39m\u001b[39mFalse\u001b[39;00m)\n",
      "\u001b[1;31mNameError\u001b[0m: name 'feat_imp' is not defined"
     ]
    }
   ],
   "source": [
    "feat_imp.sort_values(by='Importance',ascending=False)"
   ]
  },
  {
   "attachments": {},
   "cell_type": "markdown",
   "metadata": {},
   "source": [
    "## Preprocessing"
   ]
  },
  {
   "cell_type": "code",
   "execution_count": 82,
   "metadata": {},
   "outputs": [
    {
     "data": {
      "text/html": [
       "<div>\n",
       "<style scoped>\n",
       "    .dataframe tbody tr th:only-of-type {\n",
       "        vertical-align: middle;\n",
       "    }\n",
       "\n",
       "    .dataframe tbody tr th {\n",
       "        vertical-align: top;\n",
       "    }\n",
       "\n",
       "    .dataframe thead th {\n",
       "        text-align: right;\n",
       "    }\n",
       "</style>\n",
       "<table border=\"1\" class=\"dataframe\">\n",
       "  <thead>\n",
       "    <tr style=\"text-align: right;\">\n",
       "      <th></th>\n",
       "      <th>Sex</th>\n",
       "      <th>Length</th>\n",
       "      <th>Diameter</th>\n",
       "      <th>Height</th>\n",
       "      <th>Weight</th>\n",
       "      <th>Shucked Weight</th>\n",
       "      <th>Viscera Weight</th>\n",
       "      <th>Shell Weight</th>\n",
       "    </tr>\n",
       "    <tr>\n",
       "      <th>id</th>\n",
       "      <th></th>\n",
       "      <th></th>\n",
       "      <th></th>\n",
       "      <th></th>\n",
       "      <th></th>\n",
       "      <th></th>\n",
       "      <th></th>\n",
       "      <th></th>\n",
       "    </tr>\n",
       "  </thead>\n",
       "  <tbody>\n",
       "    <tr>\n",
       "      <th>33184</th>\n",
       "      <td>I</td>\n",
       "      <td>1.1875</td>\n",
       "      <td>0.8875</td>\n",
       "      <td>0.325</td>\n",
       "      <td>14.004653</td>\n",
       "      <td>6.562909</td>\n",
       "      <td>3.175144</td>\n",
       "      <td>4.394172</td>\n",
       "    </tr>\n",
       "    <tr>\n",
       "      <th>42716</th>\n",
       "      <td>F</td>\n",
       "      <td>1.6750</td>\n",
       "      <td>1.3000</td>\n",
       "      <td>0.325</td>\n",
       "      <td>44.111822</td>\n",
       "      <td>19.065039</td>\n",
       "      <td>10.602713</td>\n",
       "      <td>12.757275</td>\n",
       "    </tr>\n",
       "    <tr>\n",
       "      <th>32282</th>\n",
       "      <td>M</td>\n",
       "      <td>1.3750</td>\n",
       "      <td>1.0375</td>\n",
       "      <td>0.350</td>\n",
       "      <td>18.710670</td>\n",
       "      <td>7.796112</td>\n",
       "      <td>4.890289</td>\n",
       "      <td>5.386405</td>\n",
       "    </tr>\n",
       "    <tr>\n",
       "      <th>23307</th>\n",
       "      <td>F</td>\n",
       "      <td>1.4375</td>\n",
       "      <td>1.1250</td>\n",
       "      <td>0.375</td>\n",
       "      <td>22.920571</td>\n",
       "      <td>10.716111</td>\n",
       "      <td>4.422522</td>\n",
       "      <td>6.236890</td>\n",
       "    </tr>\n",
       "    <tr>\n",
       "      <th>68173</th>\n",
       "      <td>M</td>\n",
       "      <td>1.5125</td>\n",
       "      <td>1.1750</td>\n",
       "      <td>0.375</td>\n",
       "      <td>30.872605</td>\n",
       "      <td>13.919605</td>\n",
       "      <td>6.321938</td>\n",
       "      <td>8.646598</td>\n",
       "    </tr>\n",
       "  </tbody>\n",
       "</table>\n",
       "</div>"
      ],
      "text/plain": [
       "      Sex  Length  Diameter  Height     Weight  Shucked Weight  \\\n",
       "id                                                               \n",
       "33184   I  1.1875    0.8875   0.325  14.004653        6.562909   \n",
       "42716   F  1.6750    1.3000   0.325  44.111822       19.065039   \n",
       "32282   M  1.3750    1.0375   0.350  18.710670        7.796112   \n",
       "23307   F  1.4375    1.1250   0.375  22.920571       10.716111   \n",
       "68173   M  1.5125    1.1750   0.375  30.872605       13.919605   \n",
       "\n",
       "       Viscera Weight  Shell Weight  \n",
       "id                                   \n",
       "33184        3.175144      4.394172  \n",
       "42716       10.602713     12.757275  \n",
       "32282        4.890289      5.386405  \n",
       "23307        4.422522      6.236890  \n",
       "68173        6.321938      8.646598  "
      ]
     },
     "execution_count": 82,
     "metadata": {},
     "output_type": "execute_result"
    }
   ],
   "source": [
    "xtrain.head(5)"
   ]
  },
  {
   "cell_type": "code",
   "execution_count": 140,
   "metadata": {},
   "outputs": [],
   "source": [
    "# creating new features\n",
    "def create_features(data):\n",
    "    data[\"volume\"] = data[\"Height\"] * data[\"Diameter\"] * data[\"Length\"]\n",
    "    data[\"dim1\"] = data[\"Height\"] * data[\"Diameter\"] \n",
    "    data[\"dim2\"] = data[\"Height\"] * data[\"Length\"] \n",
    "    data[\"dim3\"] = data[\"Diameter\"] * data[\"Length\"]\n",
    "    data[\"total_weight\"] = data[\"Shell Weight\"] + data[\"Viscera Weight\"] + data[\"Shucked Weight\"]\n",
    "    data[\"weight_volume_ratio\"] = data[\"Weight\"] / (data[\"Diameter\"] + 1e-8 )\n",
    "    data[\"shell_to_total_weight\"] = data[\"Shell Weight\"] / data[\"Weight\"]\n",
    "    data[\"viscera_to_total_weight\"] = data[\"Viscera Weight\"] / data[\"Weight\"]\n",
    "    data[\"shucked_to_total_weight\"] = data[\"Shucked Weight\"] / data[\"Weight\"]\n",
    "    \n",
    "    # convert the features to float\n",
    "    data[\"volume\"] = data[\"volume\"].astype(float)\n",
    "    data[\"dim1\"] = data[\"dim1\"].astype(float)\n",
    "    data[\"dim2\"] = data[\"dim2\"].astype(float)\n",
    "    data[\"dim3\"] = data[\"dim3\"].astype(float)\n",
    "    data[\"total_weight\"] = data[\"total_weight\"].astype(float)\n",
    "    data[\"weight_volume_ratio\"] = data[\"weight_volume_ratio\"].astype(float)\n",
    "    data[\"shell_to_total_weight\"] = data[\"shell_to_total_weight\"].astype(float)\n",
    "    data[\"viscera_to_total_weight\"] = data[\"viscera_to_total_weight\"].astype(float)\n",
    "    data[\"shucked_to_total_weight\"] = data[\"shucked_to_total_weight\"].astype(float)\n",
    "\n",
    "    \n",
    "    return data\n",
    "\n",
    "xtrain = create_features(xtrain)\n",
    "xtest = create_features(xtest)\n",
    "    "
   ]
  },
  {
   "cell_type": "code",
   "execution_count": 142,
   "metadata": {},
   "outputs": [],
   "source": [
    "# getting categorical columns\n",
    "categorical_columns=xtrain.select_dtypes(include='object').columns"
   ]
  },
  {
   "cell_type": "code",
   "execution_count": 144,
   "metadata": {},
   "outputs": [
    {
     "data": {
      "text/plain": [
       "Index(['Sex'], dtype='object')"
      ]
     },
     "execution_count": 144,
     "metadata": {},
     "output_type": "execute_result"
    }
   ],
   "source": [
    "categorical_columns"
   ]
  },
  {
   "cell_type": "code",
   "execution_count": 145,
   "metadata": {},
   "outputs": [
    {
     "data": {
      "text/plain": [
       "['Length',\n",
       " 'Diameter',\n",
       " 'Height',\n",
       " 'Weight',\n",
       " 'Shucked Weight',\n",
       " 'Viscera Weight',\n",
       " 'Shell Weight',\n",
       " 'volume',\n",
       " 'dim1',\n",
       " 'dim2',\n",
       " 'dim3',\n",
       " 'total_weight',\n",
       " 'weight_volume_ratio',\n",
       " 'shell_to_total_weight',\n",
       " 'viscera_to_total_weight',\n",
       " 'shucked_to_total_weight']"
      ]
     },
     "execution_count": 145,
     "metadata": {},
     "output_type": "execute_result"
    }
   ],
   "source": [
    "# getting numerical columns\n",
    "numerical_columns=xtrain.select_dtypes(exclude='object').columns\n",
    "numerical_columns=numerical_columns.to_list()\n",
    "numerical_columns"
   ]
  },
  {
   "cell_type": "code",
   "execution_count": 149,
   "metadata": {},
   "outputs": [],
   "source": [
    "# scaling and encoding the data\n",
    "from sklearn.compose import make_column_transformer\n",
    "from sklearn.preprocessing import OneHotEncoder, StandardScaler,MinMaxScaler,RobustScaler\n",
    "\n",
    "mct=make_column_transformer( \n",
    "                            (MinMaxScaler(),numerical_columns),\n",
    "                            (OneHotEncoder(sparse=False,handle_unknown='ignore'),categorical_columns))"
   ]
  },
  {
   "cell_type": "code",
   "execution_count": 150,
   "metadata": {},
   "outputs": [
    {
     "name": "stderr",
     "output_type": "stream",
     "text": [
      "c:\\Users\\rafay\\anaconda3\\lib\\site-packages\\sklearn\\preprocessing\\_encoders.py:828: FutureWarning: `sparse` was renamed to `sparse_output` in version 1.2 and will be removed in 1.4. `sparse_output` is ignored unless you leave `sparse` to its default value.\n",
      "  warnings.warn(\n"
     ]
    }
   ],
   "source": [
    "mct.fit(xtrain)\n",
    "xtrain=mct.transform(xtrain)\n",
    "xtest=mct.transform(xtest)"
   ]
  },
  {
   "cell_type": "code",
   "execution_count": 151,
   "metadata": {},
   "outputs": [
    {
     "data": {
      "text/plain": [
       "((62943, 19), (62943,))"
      ]
     },
     "execution_count": 151,
     "metadata": {},
     "output_type": "execute_result"
    }
   ],
   "source": [
    "xtrain.shape,ytrain.shape"
   ]
  },
  {
   "cell_type": "code",
   "execution_count": 155,
   "metadata": {},
   "outputs": [],
   "source": [
    "def mae(x_test,y_test,model):\n",
    "    return {'simple: ':np.mean(abs(model.predict(x_test)-y_test)),\n",
    "\"Rounded: \":np.mean(abs(model.predict(x_test).round()-y_test)),\n",
    "\"truncated: \":np.mean(abs(np.trunc(model.predict(x_test))-y_test))}"
   ]
  },
  {
   "attachments": {},
   "cell_type": "markdown",
   "metadata": {},
   "source": [
    "## XGBoost"
   ]
  },
  {
   "cell_type": "code",
   "execution_count": 35,
   "metadata": {},
   "outputs": [
    {
     "data": {
      "text/html": [
       "<style>#sk-container-id-1 {color: black;background-color: white;}#sk-container-id-1 pre{padding: 0;}#sk-container-id-1 div.sk-toggleable {background-color: white;}#sk-container-id-1 label.sk-toggleable__label {cursor: pointer;display: block;width: 100%;margin-bottom: 0;padding: 0.3em;box-sizing: border-box;text-align: center;}#sk-container-id-1 label.sk-toggleable__label-arrow:before {content: \"▸\";float: left;margin-right: 0.25em;color: #696969;}#sk-container-id-1 label.sk-toggleable__label-arrow:hover:before {color: black;}#sk-container-id-1 div.sk-estimator:hover label.sk-toggleable__label-arrow:before {color: black;}#sk-container-id-1 div.sk-toggleable__content {max-height: 0;max-width: 0;overflow: hidden;text-align: left;background-color: #f0f8ff;}#sk-container-id-1 div.sk-toggleable__content pre {margin: 0.2em;color: black;border-radius: 0.25em;background-color: #f0f8ff;}#sk-container-id-1 input.sk-toggleable__control:checked~div.sk-toggleable__content {max-height: 200px;max-width: 100%;overflow: auto;}#sk-container-id-1 input.sk-toggleable__control:checked~label.sk-toggleable__label-arrow:before {content: \"▾\";}#sk-container-id-1 div.sk-estimator input.sk-toggleable__control:checked~label.sk-toggleable__label {background-color: #d4ebff;}#sk-container-id-1 div.sk-label input.sk-toggleable__control:checked~label.sk-toggleable__label {background-color: #d4ebff;}#sk-container-id-1 input.sk-hidden--visually {border: 0;clip: rect(1px 1px 1px 1px);clip: rect(1px, 1px, 1px, 1px);height: 1px;margin: -1px;overflow: hidden;padding: 0;position: absolute;width: 1px;}#sk-container-id-1 div.sk-estimator {font-family: monospace;background-color: #f0f8ff;border: 1px dotted black;border-radius: 0.25em;box-sizing: border-box;margin-bottom: 0.5em;}#sk-container-id-1 div.sk-estimator:hover {background-color: #d4ebff;}#sk-container-id-1 div.sk-parallel-item::after {content: \"\";width: 100%;border-bottom: 1px solid gray;flex-grow: 1;}#sk-container-id-1 div.sk-label:hover label.sk-toggleable__label {background-color: #d4ebff;}#sk-container-id-1 div.sk-serial::before {content: \"\";position: absolute;border-left: 1px solid gray;box-sizing: border-box;top: 0;bottom: 0;left: 50%;z-index: 0;}#sk-container-id-1 div.sk-serial {display: flex;flex-direction: column;align-items: center;background-color: white;padding-right: 0.2em;padding-left: 0.2em;position: relative;}#sk-container-id-1 div.sk-item {position: relative;z-index: 1;}#sk-container-id-1 div.sk-parallel {display: flex;align-items: stretch;justify-content: center;background-color: white;position: relative;}#sk-container-id-1 div.sk-item::before, #sk-container-id-1 div.sk-parallel-item::before {content: \"\";position: absolute;border-left: 1px solid gray;box-sizing: border-box;top: 0;bottom: 0;left: 50%;z-index: -1;}#sk-container-id-1 div.sk-parallel-item {display: flex;flex-direction: column;z-index: 1;position: relative;background-color: white;}#sk-container-id-1 div.sk-parallel-item:first-child::after {align-self: flex-end;width: 50%;}#sk-container-id-1 div.sk-parallel-item:last-child::after {align-self: flex-start;width: 50%;}#sk-container-id-1 div.sk-parallel-item:only-child::after {width: 0;}#sk-container-id-1 div.sk-dashed-wrapped {border: 1px dashed gray;margin: 0 0.4em 0.5em 0.4em;box-sizing: border-box;padding-bottom: 0.4em;background-color: white;}#sk-container-id-1 div.sk-label label {font-family: monospace;font-weight: bold;display: inline-block;line-height: 1.2em;}#sk-container-id-1 div.sk-label-container {text-align: center;}#sk-container-id-1 div.sk-container {/* jupyter's `normalize.less` sets `[hidden] { display: none; }` but bootstrap.min.css set `[hidden] { display: none !important; }` so we also need the `!important` here to be able to override the default hidden behavior on the sphinx rendered scikit-learn.org. See: https://github.com/scikit-learn/scikit-learn/issues/21755 */display: inline-block !important;position: relative;}#sk-container-id-1 div.sk-text-repr-fallback {display: none;}</style><div id=\"sk-container-id-1\" class=\"sk-top-container\"><div class=\"sk-text-repr-fallback\"><pre>XGBRegressor(base_score=None, booster=None, callbacks=None,\n",
       "             colsample_bylevel=None, colsample_bynode=None,\n",
       "             colsample_bytree=0.9, early_stopping_rounds=None,\n",
       "             enable_categorical=False, eval_metric=None, feature_types=None,\n",
       "             gamma=0.65, gpu_id=None, grow_policy=None, importance_type=None,\n",
       "             interaction_constraints=None, learning_rate=0.01, max_bin=None,\n",
       "             max_cat_threshold=None, max_cat_to_onehot=None,\n",
       "             max_delta_step=None, max_depth=7, max_leaves=None,\n",
       "             min_child_weight=20, missing=nan, monotone_constraints=None,\n",
       "             n_estimators=1500, n_jobs=-1, num_parallel_tree=None,\n",
       "             objective=&#x27;reg:pseudohubererror&#x27;, predictor=None, ...)</pre><b>In a Jupyter environment, please rerun this cell to show the HTML representation or trust the notebook. <br />On GitHub, the HTML representation is unable to render, please try loading this page with nbviewer.org.</b></div><div class=\"sk-container\" hidden><div class=\"sk-item\"><div class=\"sk-estimator sk-toggleable\"><input class=\"sk-toggleable__control sk-hidden--visually\" id=\"sk-estimator-id-1\" type=\"checkbox\" checked><label for=\"sk-estimator-id-1\" class=\"sk-toggleable__label sk-toggleable__label-arrow\">XGBRegressor</label><div class=\"sk-toggleable__content\"><pre>XGBRegressor(base_score=None, booster=None, callbacks=None,\n",
       "             colsample_bylevel=None, colsample_bynode=None,\n",
       "             colsample_bytree=0.9, early_stopping_rounds=None,\n",
       "             enable_categorical=False, eval_metric=None, feature_types=None,\n",
       "             gamma=0.65, gpu_id=None, grow_policy=None, importance_type=None,\n",
       "             interaction_constraints=None, learning_rate=0.01, max_bin=None,\n",
       "             max_cat_threshold=None, max_cat_to_onehot=None,\n",
       "             max_delta_step=None, max_depth=7, max_leaves=None,\n",
       "             min_child_weight=20, missing=nan, monotone_constraints=None,\n",
       "             n_estimators=1500, n_jobs=-1, num_parallel_tree=None,\n",
       "             objective=&#x27;reg:pseudohubererror&#x27;, predictor=None, ...)</pre></div></div></div></div></div>"
      ],
      "text/plain": [
       "XGBRegressor(base_score=None, booster=None, callbacks=None,\n",
       "             colsample_bylevel=None, colsample_bynode=None,\n",
       "             colsample_bytree=0.9, early_stopping_rounds=None,\n",
       "             enable_categorical=False, eval_metric=None, feature_types=None,\n",
       "             gamma=0.65, gpu_id=None, grow_policy=None, importance_type=None,\n",
       "             interaction_constraints=None, learning_rate=0.01, max_bin=None,\n",
       "             max_cat_threshold=None, max_cat_to_onehot=None,\n",
       "             max_delta_step=None, max_depth=7, max_leaves=None,\n",
       "             min_child_weight=20, missing=nan, monotone_constraints=None,\n",
       "             n_estimators=1500, n_jobs=-1, num_parallel_tree=None,\n",
       "             objective='reg:pseudohubererror', predictor=None, ...)"
      ]
     },
     "execution_count": 35,
     "metadata": {},
     "output_type": "execute_result"
    }
   ],
   "source": [
    "from xgboost import XGBRegressor\n",
    "\n",
    "\n",
    "xgb_params = {'objective': 'reg:pseudohubererror',\n",
    "                'tree_method': 'hist',\n",
    "                'colsample_bytree': 0.9,\n",
    "                'gamma': 0.65,\n",
    "                'learning_rate': 0.01,\n",
    "                'max_depth': 7,\n",
    "                'min_child_weight': 20,\n",
    "                'n_estimators': 1500,\n",
    "                'subsample': 0.7,\n",
    "                'random_state': 42,\n",
    "                'n_jobs': -1}\n",
    "    \n",
    "\n",
    "model = XGBRegressor(**xgb_params)\n",
    "\n",
    "model.fit(xtrain,ytrain)"
   ]
  },
  {
   "cell_type": "code",
   "execution_count": 36,
   "metadata": {},
   "outputs": [
    {
     "data": {
      "text/plain": [
       "0.6231249046860545"
      ]
     },
     "execution_count": 36,
     "metadata": {},
     "output_type": "execute_result"
    }
   ],
   "source": [
    "model.score(xtrain,ytrain)"
   ]
  },
  {
   "cell_type": "code",
   "execution_count": 37,
   "metadata": {},
   "outputs": [
    {
     "data": {
      "text/plain": [
       "0.583724649890967"
      ]
     },
     "execution_count": 37,
     "metadata": {},
     "output_type": "execute_result"
    }
   ],
   "source": [
    "model.score(xtest,ytest)"
   ]
  },
  {
   "cell_type": "code",
   "execution_count": 38,
   "metadata": {},
   "outputs": [
    {
     "data": {
      "text/plain": [
       "{'simple: ': 1.367521306873441,\n",
       " 'Rounded: ': 1.3407454087144401,\n",
       " 'truncated: ': 1.3953006841915736}"
      ]
     },
     "execution_count": 38,
     "metadata": {},
     "output_type": "execute_result"
    }
   ],
   "source": [
    "mae(xtest,ytest,model)"
   ]
  },
  {
   "attachments": {},
   "cell_type": "markdown",
   "metadata": {},
   "source": [
    "## Random Forest"
   ]
  },
  {
   "cell_type": "code",
   "execution_count": 118,
   "metadata": {},
   "outputs": [
    {
     "data": {
      "text/html": [
       "<style>#sk-container-id-2 {color: black;background-color: white;}#sk-container-id-2 pre{padding: 0;}#sk-container-id-2 div.sk-toggleable {background-color: white;}#sk-container-id-2 label.sk-toggleable__label {cursor: pointer;display: block;width: 100%;margin-bottom: 0;padding: 0.3em;box-sizing: border-box;text-align: center;}#sk-container-id-2 label.sk-toggleable__label-arrow:before {content: \"▸\";float: left;margin-right: 0.25em;color: #696969;}#sk-container-id-2 label.sk-toggleable__label-arrow:hover:before {color: black;}#sk-container-id-2 div.sk-estimator:hover label.sk-toggleable__label-arrow:before {color: black;}#sk-container-id-2 div.sk-toggleable__content {max-height: 0;max-width: 0;overflow: hidden;text-align: left;background-color: #f0f8ff;}#sk-container-id-2 div.sk-toggleable__content pre {margin: 0.2em;color: black;border-radius: 0.25em;background-color: #f0f8ff;}#sk-container-id-2 input.sk-toggleable__control:checked~div.sk-toggleable__content {max-height: 200px;max-width: 100%;overflow: auto;}#sk-container-id-2 input.sk-toggleable__control:checked~label.sk-toggleable__label-arrow:before {content: \"▾\";}#sk-container-id-2 div.sk-estimator input.sk-toggleable__control:checked~label.sk-toggleable__label {background-color: #d4ebff;}#sk-container-id-2 div.sk-label input.sk-toggleable__control:checked~label.sk-toggleable__label {background-color: #d4ebff;}#sk-container-id-2 input.sk-hidden--visually {border: 0;clip: rect(1px 1px 1px 1px);clip: rect(1px, 1px, 1px, 1px);height: 1px;margin: -1px;overflow: hidden;padding: 0;position: absolute;width: 1px;}#sk-container-id-2 div.sk-estimator {font-family: monospace;background-color: #f0f8ff;border: 1px dotted black;border-radius: 0.25em;box-sizing: border-box;margin-bottom: 0.5em;}#sk-container-id-2 div.sk-estimator:hover {background-color: #d4ebff;}#sk-container-id-2 div.sk-parallel-item::after {content: \"\";width: 100%;border-bottom: 1px solid gray;flex-grow: 1;}#sk-container-id-2 div.sk-label:hover label.sk-toggleable__label {background-color: #d4ebff;}#sk-container-id-2 div.sk-serial::before {content: \"\";position: absolute;border-left: 1px solid gray;box-sizing: border-box;top: 0;bottom: 0;left: 50%;z-index: 0;}#sk-container-id-2 div.sk-serial {display: flex;flex-direction: column;align-items: center;background-color: white;padding-right: 0.2em;padding-left: 0.2em;position: relative;}#sk-container-id-2 div.sk-item {position: relative;z-index: 1;}#sk-container-id-2 div.sk-parallel {display: flex;align-items: stretch;justify-content: center;background-color: white;position: relative;}#sk-container-id-2 div.sk-item::before, #sk-container-id-2 div.sk-parallel-item::before {content: \"\";position: absolute;border-left: 1px solid gray;box-sizing: border-box;top: 0;bottom: 0;left: 50%;z-index: -1;}#sk-container-id-2 div.sk-parallel-item {display: flex;flex-direction: column;z-index: 1;position: relative;background-color: white;}#sk-container-id-2 div.sk-parallel-item:first-child::after {align-self: flex-end;width: 50%;}#sk-container-id-2 div.sk-parallel-item:last-child::after {align-self: flex-start;width: 50%;}#sk-container-id-2 div.sk-parallel-item:only-child::after {width: 0;}#sk-container-id-2 div.sk-dashed-wrapped {border: 1px dashed gray;margin: 0 0.4em 0.5em 0.4em;box-sizing: border-box;padding-bottom: 0.4em;background-color: white;}#sk-container-id-2 div.sk-label label {font-family: monospace;font-weight: bold;display: inline-block;line-height: 1.2em;}#sk-container-id-2 div.sk-label-container {text-align: center;}#sk-container-id-2 div.sk-container {/* jupyter's `normalize.less` sets `[hidden] { display: none; }` but bootstrap.min.css set `[hidden] { display: none !important; }` so we also need the `!important` here to be able to override the default hidden behavior on the sphinx rendered scikit-learn.org. See: https://github.com/scikit-learn/scikit-learn/issues/21755 */display: inline-block !important;position: relative;}#sk-container-id-2 div.sk-text-repr-fallback {display: none;}</style><div id=\"sk-container-id-2\" class=\"sk-top-container\"><div class=\"sk-text-repr-fallback\"><pre>RandomForestRegressor(n_estimators=500, n_jobs=-1, random_state=42)</pre><b>In a Jupyter environment, please rerun this cell to show the HTML representation or trust the notebook. <br />On GitHub, the HTML representation is unable to render, please try loading this page with nbviewer.org.</b></div><div class=\"sk-container\" hidden><div class=\"sk-item\"><div class=\"sk-estimator sk-toggleable\"><input class=\"sk-toggleable__control sk-hidden--visually\" id=\"sk-estimator-id-2\" type=\"checkbox\" checked><label for=\"sk-estimator-id-2\" class=\"sk-toggleable__label sk-toggleable__label-arrow\">RandomForestRegressor</label><div class=\"sk-toggleable__content\"><pre>RandomForestRegressor(n_estimators=500, n_jobs=-1, random_state=42)</pre></div></div></div></div></div>"
      ],
      "text/plain": [
       "RandomForestRegressor(n_estimators=500, n_jobs=-1, random_state=42)"
      ]
     },
     "execution_count": 118,
     "metadata": {},
     "output_type": "execute_result"
    }
   ],
   "source": [
    "from sklearn.ensemble import RandomForestRegressor\n",
    "\n",
    "model = RandomForestRegressor(random_state=42,n_estimators=500, n_jobs=-1)\n",
    "\n",
    "model.fit(xtrain,ytrain)\n"
   ]
  },
  {
   "cell_type": "code",
   "execution_count": 120,
   "metadata": {},
   "outputs": [
    {
     "name": "stdout",
     "output_type": "stream",
     "text": [
      "0.9405447747592026\n"
     ]
    }
   ],
   "source": [
    "print(model.score(xtrain,ytrain))\n"
   ]
  },
  {
   "cell_type": "code",
   "execution_count": 121,
   "metadata": {},
   "outputs": [
    {
     "name": "stdout",
     "output_type": "stream",
     "text": [
      "0.57511481331422\n"
     ]
    }
   ],
   "source": [
    "print(model.score(xtest,ytest))"
   ]
  },
  {
   "cell_type": "code",
   "execution_count": 122,
   "metadata": {},
   "outputs": [
    {
     "data": {
      "text/plain": [
       "{'simple: ': 1.4531765579636755,\n",
       " 'Rounded: ': 1.4306934035514145,\n",
       " 'truncated: ': 1.4095604618189184}"
      ]
     },
     "execution_count": 122,
     "metadata": {},
     "output_type": "execute_result"
    }
   ],
   "source": [
    "mae(xtest,ytest,model)"
   ]
  },
  {
   "attachments": {},
   "cell_type": "markdown",
   "metadata": {},
   "source": [
    "## Logistic Regression"
   ]
  },
  {
   "cell_type": "code",
   "execution_count": 317,
   "metadata": {},
   "outputs": [
    {
     "data": {
      "text/html": [
       "<style>#sk-container-id-26 {color: black;background-color: white;}#sk-container-id-26 pre{padding: 0;}#sk-container-id-26 div.sk-toggleable {background-color: white;}#sk-container-id-26 label.sk-toggleable__label {cursor: pointer;display: block;width: 100%;margin-bottom: 0;padding: 0.3em;box-sizing: border-box;text-align: center;}#sk-container-id-26 label.sk-toggleable__label-arrow:before {content: \"▸\";float: left;margin-right: 0.25em;color: #696969;}#sk-container-id-26 label.sk-toggleable__label-arrow:hover:before {color: black;}#sk-container-id-26 div.sk-estimator:hover label.sk-toggleable__label-arrow:before {color: black;}#sk-container-id-26 div.sk-toggleable__content {max-height: 0;max-width: 0;overflow: hidden;text-align: left;background-color: #f0f8ff;}#sk-container-id-26 div.sk-toggleable__content pre {margin: 0.2em;color: black;border-radius: 0.25em;background-color: #f0f8ff;}#sk-container-id-26 input.sk-toggleable__control:checked~div.sk-toggleable__content {max-height: 200px;max-width: 100%;overflow: auto;}#sk-container-id-26 input.sk-toggleable__control:checked~label.sk-toggleable__label-arrow:before {content: \"▾\";}#sk-container-id-26 div.sk-estimator input.sk-toggleable__control:checked~label.sk-toggleable__label {background-color: #d4ebff;}#sk-container-id-26 div.sk-label input.sk-toggleable__control:checked~label.sk-toggleable__label {background-color: #d4ebff;}#sk-container-id-26 input.sk-hidden--visually {border: 0;clip: rect(1px 1px 1px 1px);clip: rect(1px, 1px, 1px, 1px);height: 1px;margin: -1px;overflow: hidden;padding: 0;position: absolute;width: 1px;}#sk-container-id-26 div.sk-estimator {font-family: monospace;background-color: #f0f8ff;border: 1px dotted black;border-radius: 0.25em;box-sizing: border-box;margin-bottom: 0.5em;}#sk-container-id-26 div.sk-estimator:hover {background-color: #d4ebff;}#sk-container-id-26 div.sk-parallel-item::after {content: \"\";width: 100%;border-bottom: 1px solid gray;flex-grow: 1;}#sk-container-id-26 div.sk-label:hover label.sk-toggleable__label {background-color: #d4ebff;}#sk-container-id-26 div.sk-serial::before {content: \"\";position: absolute;border-left: 1px solid gray;box-sizing: border-box;top: 0;bottom: 0;left: 50%;z-index: 0;}#sk-container-id-26 div.sk-serial {display: flex;flex-direction: column;align-items: center;background-color: white;padding-right: 0.2em;padding-left: 0.2em;position: relative;}#sk-container-id-26 div.sk-item {position: relative;z-index: 1;}#sk-container-id-26 div.sk-parallel {display: flex;align-items: stretch;justify-content: center;background-color: white;position: relative;}#sk-container-id-26 div.sk-item::before, #sk-container-id-26 div.sk-parallel-item::before {content: \"\";position: absolute;border-left: 1px solid gray;box-sizing: border-box;top: 0;bottom: 0;left: 50%;z-index: -1;}#sk-container-id-26 div.sk-parallel-item {display: flex;flex-direction: column;z-index: 1;position: relative;background-color: white;}#sk-container-id-26 div.sk-parallel-item:first-child::after {align-self: flex-end;width: 50%;}#sk-container-id-26 div.sk-parallel-item:last-child::after {align-self: flex-start;width: 50%;}#sk-container-id-26 div.sk-parallel-item:only-child::after {width: 0;}#sk-container-id-26 div.sk-dashed-wrapped {border: 1px dashed gray;margin: 0 0.4em 0.5em 0.4em;box-sizing: border-box;padding-bottom: 0.4em;background-color: white;}#sk-container-id-26 div.sk-label label {font-family: monospace;font-weight: bold;display: inline-block;line-height: 1.2em;}#sk-container-id-26 div.sk-label-container {text-align: center;}#sk-container-id-26 div.sk-container {/* jupyter's `normalize.less` sets `[hidden] { display: none; }` but bootstrap.min.css set `[hidden] { display: none !important; }` so we also need the `!important` here to be able to override the default hidden behavior on the sphinx rendered scikit-learn.org. See: https://github.com/scikit-learn/scikit-learn/issues/21755 */display: inline-block !important;position: relative;}#sk-container-id-26 div.sk-text-repr-fallback {display: none;}</style><div id=\"sk-container-id-26\" class=\"sk-top-container\"><div class=\"sk-text-repr-fallback\"><pre>LinearRegression()</pre><b>In a Jupyter environment, please rerun this cell to show the HTML representation or trust the notebook. <br />On GitHub, the HTML representation is unable to render, please try loading this page with nbviewer.org.</b></div><div class=\"sk-container\" hidden><div class=\"sk-item\"><div class=\"sk-estimator sk-toggleable\"><input class=\"sk-toggleable__control sk-hidden--visually\" id=\"sk-estimator-id-32\" type=\"checkbox\" checked><label for=\"sk-estimator-id-32\" class=\"sk-toggleable__label sk-toggleable__label-arrow\">LinearRegression</label><div class=\"sk-toggleable__content\"><pre>LinearRegression()</pre></div></div></div></div></div>"
      ],
      "text/plain": [
       "LinearRegression()"
      ]
     },
     "execution_count": 317,
     "metadata": {},
     "output_type": "execute_result"
    }
   ],
   "source": [
    "from sklearn.linear_model import LinearRegression\n",
    "\n",
    "lr = LinearRegression()\n",
    "\n",
    "lr.fit(xtrain,ytrain)"
   ]
  },
  {
   "cell_type": "code",
   "execution_count": 318,
   "metadata": {},
   "outputs": [
    {
     "data": {
      "text/plain": [
       "0.5400522076784898"
      ]
     },
     "execution_count": 318,
     "metadata": {},
     "output_type": "execute_result"
    }
   ],
   "source": [
    "lr.score(xtrain,ytrain)"
   ]
  },
  {
   "cell_type": "code",
   "execution_count": 319,
   "metadata": {},
   "outputs": [
    {
     "data": {
      "text/plain": [
       "0.5568646401179169"
      ]
     },
     "execution_count": 319,
     "metadata": {},
     "output_type": "execute_result"
    }
   ],
   "source": [
    "lr.score(xtest,ytest)"
   ]
  },
  {
   "cell_type": "code",
   "execution_count": 320,
   "metadata": {},
   "outputs": [
    {
     "data": {
      "text/plain": [
       "1.4919881600071332"
      ]
     },
     "execution_count": 320,
     "metadata": {},
     "output_type": "execute_result"
    }
   ],
   "source": [
    "lr_mae=np.mean(abs(lr.predict(xtest)-ytest))\n",
    "\n",
    "lr_mae"
   ]
  },
  {
   "attachments": {},
   "cell_type": "markdown",
   "metadata": {},
   "source": [
    "## LAD Regression"
   ]
  },
  {
   "cell_type": "code",
   "execution_count": 123,
   "metadata": {},
   "outputs": [],
   "source": [
    "from sklego.linear_model import LADRegression"
   ]
  },
  {
   "cell_type": "code",
   "execution_count": 137,
   "metadata": {},
   "outputs": [
    {
     "data": {
      "text/html": [
       "<style>#sk-container-id-5 {color: black;background-color: white;}#sk-container-id-5 pre{padding: 0;}#sk-container-id-5 div.sk-toggleable {background-color: white;}#sk-container-id-5 label.sk-toggleable__label {cursor: pointer;display: block;width: 100%;margin-bottom: 0;padding: 0.3em;box-sizing: border-box;text-align: center;}#sk-container-id-5 label.sk-toggleable__label-arrow:before {content: \"▸\";float: left;margin-right: 0.25em;color: #696969;}#sk-container-id-5 label.sk-toggleable__label-arrow:hover:before {color: black;}#sk-container-id-5 div.sk-estimator:hover label.sk-toggleable__label-arrow:before {color: black;}#sk-container-id-5 div.sk-toggleable__content {max-height: 0;max-width: 0;overflow: hidden;text-align: left;background-color: #f0f8ff;}#sk-container-id-5 div.sk-toggleable__content pre {margin: 0.2em;color: black;border-radius: 0.25em;background-color: #f0f8ff;}#sk-container-id-5 input.sk-toggleable__control:checked~div.sk-toggleable__content {max-height: 200px;max-width: 100%;overflow: auto;}#sk-container-id-5 input.sk-toggleable__control:checked~label.sk-toggleable__label-arrow:before {content: \"▾\";}#sk-container-id-5 div.sk-estimator input.sk-toggleable__control:checked~label.sk-toggleable__label {background-color: #d4ebff;}#sk-container-id-5 div.sk-label input.sk-toggleable__control:checked~label.sk-toggleable__label {background-color: #d4ebff;}#sk-container-id-5 input.sk-hidden--visually {border: 0;clip: rect(1px 1px 1px 1px);clip: rect(1px, 1px, 1px, 1px);height: 1px;margin: -1px;overflow: hidden;padding: 0;position: absolute;width: 1px;}#sk-container-id-5 div.sk-estimator {font-family: monospace;background-color: #f0f8ff;border: 1px dotted black;border-radius: 0.25em;box-sizing: border-box;margin-bottom: 0.5em;}#sk-container-id-5 div.sk-estimator:hover {background-color: #d4ebff;}#sk-container-id-5 div.sk-parallel-item::after {content: \"\";width: 100%;border-bottom: 1px solid gray;flex-grow: 1;}#sk-container-id-5 div.sk-label:hover label.sk-toggleable__label {background-color: #d4ebff;}#sk-container-id-5 div.sk-serial::before {content: \"\";position: absolute;border-left: 1px solid gray;box-sizing: border-box;top: 0;bottom: 0;left: 50%;z-index: 0;}#sk-container-id-5 div.sk-serial {display: flex;flex-direction: column;align-items: center;background-color: white;padding-right: 0.2em;padding-left: 0.2em;position: relative;}#sk-container-id-5 div.sk-item {position: relative;z-index: 1;}#sk-container-id-5 div.sk-parallel {display: flex;align-items: stretch;justify-content: center;background-color: white;position: relative;}#sk-container-id-5 div.sk-item::before, #sk-container-id-5 div.sk-parallel-item::before {content: \"\";position: absolute;border-left: 1px solid gray;box-sizing: border-box;top: 0;bottom: 0;left: 50%;z-index: -1;}#sk-container-id-5 div.sk-parallel-item {display: flex;flex-direction: column;z-index: 1;position: relative;background-color: white;}#sk-container-id-5 div.sk-parallel-item:first-child::after {align-self: flex-end;width: 50%;}#sk-container-id-5 div.sk-parallel-item:last-child::after {align-self: flex-start;width: 50%;}#sk-container-id-5 div.sk-parallel-item:only-child::after {width: 0;}#sk-container-id-5 div.sk-dashed-wrapped {border: 1px dashed gray;margin: 0 0.4em 0.5em 0.4em;box-sizing: border-box;padding-bottom: 0.4em;background-color: white;}#sk-container-id-5 div.sk-label label {font-family: monospace;font-weight: bold;display: inline-block;line-height: 1.2em;}#sk-container-id-5 div.sk-label-container {text-align: center;}#sk-container-id-5 div.sk-container {/* jupyter's `normalize.less` sets `[hidden] { display: none; }` but bootstrap.min.css set `[hidden] { display: none !important; }` so we also need the `!important` here to be able to override the default hidden behavior on the sphinx rendered scikit-learn.org. See: https://github.com/scikit-learn/scikit-learn/issues/21755 */display: inline-block !important;position: relative;}#sk-container-id-5 div.sk-text-repr-fallback {display: none;}</style><div id=\"sk-container-id-5\" class=\"sk-top-container\"><div class=\"sk-text-repr-fallback\"><pre>LADRegression()</pre><b>In a Jupyter environment, please rerun this cell to show the HTML representation or trust the notebook. <br />On GitHub, the HTML representation is unable to render, please try loading this page with nbviewer.org.</b></div><div class=\"sk-container\" hidden><div class=\"sk-item\"><div class=\"sk-estimator sk-toggleable\"><input class=\"sk-toggleable__control sk-hidden--visually\" id=\"sk-estimator-id-5\" type=\"checkbox\" checked><label for=\"sk-estimator-id-5\" class=\"sk-toggleable__label sk-toggleable__label-arrow\">LADRegression</label><div class=\"sk-toggleable__content\"><pre>LADRegression()</pre></div></div></div></div></div>"
      ],
      "text/plain": [
       "LADRegression()"
      ]
     },
     "execution_count": 137,
     "metadata": {},
     "output_type": "execute_result"
    }
   ],
   "source": [
    "lad = LADRegression()\n",
    "\n",
    "lad.fit(xtrain,ytrain)"
   ]
  },
  {
   "cell_type": "code",
   "execution_count": 138,
   "metadata": {},
   "outputs": [
    {
     "data": {
      "text/plain": [
       "0.5349506428193911"
      ]
     },
     "execution_count": 138,
     "metadata": {},
     "output_type": "execute_result"
    }
   ],
   "source": [
    "lad.score(xtrain,ytrain)"
   ]
  },
  {
   "cell_type": "code",
   "execution_count": 139,
   "metadata": {},
   "outputs": [
    {
     "data": {
      "text/plain": [
       "0.5430228702349532"
      ]
     },
     "execution_count": 139,
     "metadata": {},
     "output_type": "execute_result"
    }
   ],
   "source": [
    "lad.score(xtest,ytest)"
   ]
  },
  {
   "cell_type": "code",
   "execution_count": 140,
   "metadata": {},
   "outputs": [
    {
     "data": {
      "text/plain": [
       "{'simple: ': 1.4320999820807119,\n",
       " 'Rounded: ': 1.405847005603943,\n",
       " 'truncated: ': 1.4820066167038013}"
      ]
     },
     "execution_count": 140,
     "metadata": {},
     "output_type": "execute_result"
    }
   ],
   "source": [
    "mae(xtest,ytest,lad)"
   ]
  },
  {
   "attachments": {},
   "cell_type": "markdown",
   "metadata": {},
   "source": [
    "## CatBoost"
   ]
  },
  {
   "cell_type": "code",
   "execution_count": 42,
   "metadata": {},
   "outputs": [
    {
     "name": "stdout",
     "output_type": "stream",
     "text": [
      "0:\tlearn: 2.2307595\ttotal: 247ms\tremaining: 4m 6s\n",
      "1:\tlearn: 2.1444171\ttotal: 293ms\tremaining: 2m 26s\n",
      "2:\tlearn: 2.0682985\ttotal: 329ms\tremaining: 1m 49s\n",
      "3:\tlearn: 1.9941062\ttotal: 364ms\tremaining: 1m 30s\n",
      "4:\tlearn: 1.9315803\ttotal: 399ms\tremaining: 1m 19s\n",
      "5:\tlearn: 1.8831688\ttotal: 435ms\tremaining: 1m 12s\n",
      "6:\tlearn: 1.8368904\ttotal: 472ms\tremaining: 1m 6s\n",
      "7:\tlearn: 1.7950824\ttotal: 515ms\tremaining: 1m 3s\n",
      "8:\tlearn: 1.7575624\ttotal: 558ms\tremaining: 1m 1s\n",
      "9:\tlearn: 1.7227875\ttotal: 595ms\tremaining: 58.9s\n",
      "10:\tlearn: 1.6924093\ttotal: 628ms\tremaining: 56.5s\n",
      "11:\tlearn: 1.6640629\ttotal: 662ms\tremaining: 54.5s\n",
      "12:\tlearn: 1.6387683\ttotal: 698ms\tremaining: 53s\n",
      "13:\tlearn: 1.6224998\ttotal: 740ms\tremaining: 52.1s\n",
      "14:\tlearn: 1.5971377\ttotal: 780ms\tremaining: 51.2s\n",
      "15:\tlearn: 1.5765421\ttotal: 814ms\tremaining: 50.1s\n",
      "16:\tlearn: 1.5553791\ttotal: 851ms\tremaining: 49.2s\n",
      "17:\tlearn: 1.5365165\ttotal: 884ms\tremaining: 48.2s\n",
      "18:\tlearn: 1.5195011\ttotal: 923ms\tremaining: 47.6s\n",
      "19:\tlearn: 1.5035945\ttotal: 971ms\tremaining: 47.6s\n",
      "20:\tlearn: 1.4888007\ttotal: 1.01s\tremaining: 47.1s\n",
      "21:\tlearn: 1.4757256\ttotal: 1.05s\tremaining: 46.7s\n",
      "22:\tlearn: 1.4638350\ttotal: 1.09s\tremaining: 46.2s\n",
      "23:\tlearn: 1.4559455\ttotal: 1.12s\tremaining: 45.6s\n",
      "24:\tlearn: 1.4458261\ttotal: 1.18s\tremaining: 46s\n",
      "25:\tlearn: 1.4363877\ttotal: 1.24s\tremaining: 46.5s\n",
      "26:\tlearn: 1.4278826\ttotal: 1.28s\tremaining: 46.3s\n",
      "27:\tlearn: 1.4201193\ttotal: 1.32s\tremaining: 46s\n",
      "28:\tlearn: 1.4122673\ttotal: 1.37s\tremaining: 45.8s\n",
      "29:\tlearn: 1.4054685\ttotal: 1.41s\tremaining: 45.5s\n",
      "30:\tlearn: 1.3995016\ttotal: 1.45s\tremaining: 45.4s\n",
      "31:\tlearn: 1.3953135\ttotal: 1.49s\tremaining: 45.2s\n",
      "32:\tlearn: 1.3920597\ttotal: 1.53s\tremaining: 44.9s\n",
      "33:\tlearn: 1.3880304\ttotal: 1.57s\tremaining: 44.7s\n",
      "34:\tlearn: 1.3857135\ttotal: 1.61s\tremaining: 44.4s\n",
      "35:\tlearn: 1.3832313\ttotal: 1.65s\tremaining: 44.1s\n",
      "36:\tlearn: 1.3795116\ttotal: 1.69s\tremaining: 44s\n",
      "37:\tlearn: 1.3771444\ttotal: 1.73s\tremaining: 43.8s\n",
      "38:\tlearn: 1.3737073\ttotal: 1.77s\tremaining: 43.6s\n",
      "39:\tlearn: 1.3715513\ttotal: 1.8s\tremaining: 43.3s\n",
      "40:\tlearn: 1.3695822\ttotal: 1.84s\tremaining: 43s\n",
      "41:\tlearn: 1.3677925\ttotal: 1.88s\tremaining: 42.9s\n",
      "42:\tlearn: 1.3649410\ttotal: 1.92s\tremaining: 42.8s\n",
      "43:\tlearn: 1.3627704\ttotal: 1.96s\tremaining: 42.6s\n",
      "44:\tlearn: 1.3616102\ttotal: 2s\tremaining: 42.5s\n",
      "45:\tlearn: 1.3604096\ttotal: 2.03s\tremaining: 42.2s\n",
      "46:\tlearn: 1.3592722\ttotal: 2.07s\tremaining: 42s\n",
      "47:\tlearn: 1.3583163\ttotal: 2.11s\tremaining: 41.9s\n",
      "48:\tlearn: 1.3571869\ttotal: 2.15s\tremaining: 41.8s\n",
      "49:\tlearn: 1.3560178\ttotal: 2.19s\tremaining: 41.6s\n",
      "50:\tlearn: 1.3553133\ttotal: 2.22s\tremaining: 41.4s\n",
      "51:\tlearn: 1.3542898\ttotal: 2.26s\tremaining: 41.2s\n",
      "52:\tlearn: 1.3535177\ttotal: 2.29s\tremaining: 41s\n",
      "53:\tlearn: 1.3528036\ttotal: 2.33s\tremaining: 40.9s\n",
      "54:\tlearn: 1.3521865\ttotal: 2.37s\tremaining: 40.8s\n",
      "55:\tlearn: 1.3514416\ttotal: 2.42s\tremaining: 40.7s\n",
      "56:\tlearn: 1.3507348\ttotal: 2.45s\tremaining: 40.6s\n",
      "57:\tlearn: 1.3501804\ttotal: 2.49s\tremaining: 40.5s\n",
      "58:\tlearn: 1.3497879\ttotal: 2.53s\tremaining: 40.3s\n",
      "59:\tlearn: 1.3492203\ttotal: 2.58s\tremaining: 40.5s\n",
      "60:\tlearn: 1.3487133\ttotal: 2.62s\tremaining: 40.3s\n",
      "61:\tlearn: 1.3482336\ttotal: 2.66s\tremaining: 40.2s\n",
      "62:\tlearn: 1.3477963\ttotal: 2.7s\tremaining: 40.2s\n",
      "63:\tlearn: 1.3472502\ttotal: 2.74s\tremaining: 40.1s\n",
      "64:\tlearn: 1.3466945\ttotal: 2.77s\tremaining: 39.9s\n",
      "65:\tlearn: 1.3462369\ttotal: 2.81s\tremaining: 39.8s\n",
      "66:\tlearn: 1.3458708\ttotal: 2.85s\tremaining: 39.8s\n",
      "67:\tlearn: 1.3454373\ttotal: 2.89s\tremaining: 39.6s\n",
      "68:\tlearn: 1.3449367\ttotal: 2.93s\tremaining: 39.5s\n",
      "69:\tlearn: 1.3446506\ttotal: 2.97s\tremaining: 39.4s\n",
      "70:\tlearn: 1.3442628\ttotal: 3s\tremaining: 39.3s\n",
      "71:\tlearn: 1.3438097\ttotal: 3.04s\tremaining: 39.2s\n",
      "72:\tlearn: 1.3433022\ttotal: 3.08s\tremaining: 39.2s\n",
      "73:\tlearn: 1.3429942\ttotal: 3.12s\tremaining: 39.1s\n",
      "74:\tlearn: 1.3427529\ttotal: 3.16s\tremaining: 39s\n",
      "75:\tlearn: 1.3423256\ttotal: 3.2s\tremaining: 38.9s\n",
      "76:\tlearn: 1.3420240\ttotal: 3.24s\tremaining: 38.9s\n",
      "77:\tlearn: 1.3416681\ttotal: 3.28s\tremaining: 38.8s\n",
      "78:\tlearn: 1.3414769\ttotal: 3.33s\tremaining: 38.8s\n",
      "79:\tlearn: 1.3410682\ttotal: 3.36s\tremaining: 38.7s\n",
      "80:\tlearn: 1.3408452\ttotal: 3.4s\tremaining: 38.6s\n",
      "81:\tlearn: 1.3406867\ttotal: 3.44s\tremaining: 38.5s\n",
      "82:\tlearn: 1.3403017\ttotal: 3.48s\tremaining: 38.4s\n",
      "83:\tlearn: 1.3401490\ttotal: 3.52s\tremaining: 38.3s\n",
      "84:\tlearn: 1.3400075\ttotal: 3.55s\tremaining: 38.2s\n",
      "85:\tlearn: 1.3398663\ttotal: 3.59s\tremaining: 38.2s\n",
      "86:\tlearn: 1.3396244\ttotal: 3.63s\tremaining: 38.1s\n",
      "87:\tlearn: 1.3394749\ttotal: 3.67s\tremaining: 38s\n",
      "88:\tlearn: 1.3391426\ttotal: 3.71s\tremaining: 37.9s\n",
      "89:\tlearn: 1.3390247\ttotal: 3.74s\tremaining: 37.8s\n",
      "90:\tlearn: 1.3389453\ttotal: 3.78s\tremaining: 37.8s\n",
      "91:\tlearn: 1.3387084\ttotal: 3.82s\tremaining: 37.7s\n",
      "92:\tlearn: 1.3385183\ttotal: 3.85s\tremaining: 37.6s\n",
      "93:\tlearn: 1.3382904\ttotal: 3.89s\tremaining: 37.5s\n",
      "94:\tlearn: 1.3381543\ttotal: 3.93s\tremaining: 37.5s\n",
      "95:\tlearn: 1.3380807\ttotal: 3.98s\tremaining: 37.4s\n",
      "96:\tlearn: 1.3376753\ttotal: 4.02s\tremaining: 37.4s\n",
      "97:\tlearn: 1.3372612\ttotal: 4.05s\tremaining: 37.3s\n",
      "98:\tlearn: 1.3371477\ttotal: 4.09s\tremaining: 37.2s\n",
      "99:\tlearn: 1.3368904\ttotal: 4.13s\tremaining: 37.2s\n",
      "100:\tlearn: 1.3364832\ttotal: 4.17s\tremaining: 37.1s\n",
      "101:\tlearn: 1.3363172\ttotal: 4.21s\tremaining: 37.1s\n",
      "102:\tlearn: 1.3361896\ttotal: 4.25s\tremaining: 37s\n",
      "103:\tlearn: 1.3360665\ttotal: 4.29s\tremaining: 36.9s\n",
      "104:\tlearn: 1.3355715\ttotal: 4.32s\tremaining: 36.9s\n",
      "105:\tlearn: 1.3354003\ttotal: 4.36s\tremaining: 36.8s\n",
      "106:\tlearn: 1.3352602\ttotal: 4.4s\tremaining: 36.7s\n",
      "107:\tlearn: 1.3350955\ttotal: 4.44s\tremaining: 36.7s\n",
      "108:\tlearn: 1.3349662\ttotal: 4.48s\tremaining: 36.6s\n",
      "109:\tlearn: 1.3348366\ttotal: 4.52s\tremaining: 36.6s\n",
      "110:\tlearn: 1.3345062\ttotal: 4.56s\tremaining: 36.5s\n",
      "111:\tlearn: 1.3343965\ttotal: 4.6s\tremaining: 36.4s\n",
      "112:\tlearn: 1.3341893\ttotal: 4.63s\tremaining: 36.4s\n",
      "113:\tlearn: 1.3340010\ttotal: 4.68s\tremaining: 36.3s\n",
      "114:\tlearn: 1.3337741\ttotal: 4.72s\tremaining: 36.3s\n",
      "115:\tlearn: 1.3335055\ttotal: 4.75s\tremaining: 36.2s\n",
      "116:\tlearn: 1.3331717\ttotal: 4.8s\tremaining: 36.2s\n",
      "117:\tlearn: 1.3330512\ttotal: 4.85s\tremaining: 36.2s\n",
      "118:\tlearn: 1.3327999\ttotal: 4.91s\tremaining: 36.3s\n",
      "119:\tlearn: 1.3325992\ttotal: 4.97s\tremaining: 36.4s\n",
      "120:\tlearn: 1.3324786\ttotal: 5.09s\tremaining: 37s\n",
      "121:\tlearn: 1.3323243\ttotal: 5.15s\tremaining: 37s\n",
      "122:\tlearn: 1.3319792\ttotal: 5.19s\tremaining: 37s\n",
      "123:\tlearn: 1.3318657\ttotal: 5.23s\tremaining: 36.9s\n",
      "124:\tlearn: 1.3316309\ttotal: 5.27s\tremaining: 36.9s\n",
      "125:\tlearn: 1.3312571\ttotal: 5.31s\tremaining: 36.8s\n",
      "126:\tlearn: 1.3311702\ttotal: 5.34s\tremaining: 36.7s\n",
      "127:\tlearn: 1.3309234\ttotal: 5.38s\tremaining: 36.6s\n",
      "128:\tlearn: 1.3305596\ttotal: 5.42s\tremaining: 36.6s\n",
      "129:\tlearn: 1.3304081\ttotal: 5.46s\tremaining: 36.5s\n",
      "130:\tlearn: 1.3301248\ttotal: 5.49s\tremaining: 36.4s\n",
      "131:\tlearn: 1.3299308\ttotal: 5.53s\tremaining: 36.4s\n",
      "132:\tlearn: 1.3293566\ttotal: 5.58s\tremaining: 36.3s\n",
      "133:\tlearn: 1.3289241\ttotal: 5.63s\tremaining: 36.4s\n",
      "134:\tlearn: 1.3286088\ttotal: 5.67s\tremaining: 36.3s\n",
      "135:\tlearn: 1.3283503\ttotal: 5.71s\tremaining: 36.3s\n",
      "136:\tlearn: 1.3280722\ttotal: 5.76s\tremaining: 36.3s\n",
      "137:\tlearn: 1.3278748\ttotal: 5.81s\tremaining: 36.3s\n",
      "138:\tlearn: 1.3277175\ttotal: 5.86s\tremaining: 36.3s\n",
      "139:\tlearn: 1.3275777\ttotal: 5.91s\tremaining: 36.3s\n",
      "140:\tlearn: 1.3272886\ttotal: 5.95s\tremaining: 36.2s\n",
      "141:\tlearn: 1.3271369\ttotal: 6s\tremaining: 36.2s\n",
      "142:\tlearn: 1.3267215\ttotal: 6.04s\tremaining: 36.2s\n",
      "143:\tlearn: 1.3264061\ttotal: 6.09s\tremaining: 36.2s\n",
      "144:\tlearn: 1.3262240\ttotal: 6.13s\tremaining: 36.2s\n",
      "145:\tlearn: 1.3259568\ttotal: 6.18s\tremaining: 36.2s\n",
      "146:\tlearn: 1.3258693\ttotal: 6.23s\tremaining: 36.1s\n",
      "147:\tlearn: 1.3254837\ttotal: 6.27s\tremaining: 36.1s\n",
      "148:\tlearn: 1.3253820\ttotal: 6.32s\tremaining: 36.1s\n",
      "149:\tlearn: 1.3253132\ttotal: 6.36s\tremaining: 36s\n",
      "150:\tlearn: 1.3250858\ttotal: 6.4s\tremaining: 36s\n",
      "151:\tlearn: 1.3248613\ttotal: 6.44s\tremaining: 35.9s\n",
      "152:\tlearn: 1.3246320\ttotal: 6.48s\tremaining: 35.9s\n",
      "153:\tlearn: 1.3245201\ttotal: 6.51s\tremaining: 35.8s\n",
      "154:\tlearn: 1.3242284\ttotal: 6.56s\tremaining: 35.7s\n",
      "155:\tlearn: 1.3238919\ttotal: 6.6s\tremaining: 35.7s\n",
      "156:\tlearn: 1.3236116\ttotal: 6.64s\tremaining: 35.6s\n",
      "157:\tlearn: 1.3233530\ttotal: 6.67s\tremaining: 35.6s\n",
      "158:\tlearn: 1.3229264\ttotal: 6.71s\tremaining: 35.5s\n",
      "159:\tlearn: 1.3227255\ttotal: 6.75s\tremaining: 35.5s\n",
      "160:\tlearn: 1.3225647\ttotal: 6.78s\tremaining: 35.3s\n",
      "161:\tlearn: 1.3222996\ttotal: 6.82s\tremaining: 35.3s\n",
      "162:\tlearn: 1.3222098\ttotal: 6.86s\tremaining: 35.2s\n",
      "163:\tlearn: 1.3219915\ttotal: 6.91s\tremaining: 35.2s\n",
      "164:\tlearn: 1.3218254\ttotal: 6.95s\tremaining: 35.2s\n",
      "165:\tlearn: 1.3215687\ttotal: 6.99s\tremaining: 35.1s\n",
      "166:\tlearn: 1.3214753\ttotal: 7.05s\tremaining: 35.2s\n",
      "167:\tlearn: 1.3210190\ttotal: 7.09s\tremaining: 35.1s\n",
      "168:\tlearn: 1.3208133\ttotal: 7.15s\tremaining: 35.2s\n",
      "169:\tlearn: 1.3203912\ttotal: 7.2s\tremaining: 35.2s\n",
      "170:\tlearn: 1.3202471\ttotal: 7.23s\tremaining: 35.1s\n",
      "171:\tlearn: 1.3201815\ttotal: 7.27s\tremaining: 35s\n",
      "172:\tlearn: 1.3200833\ttotal: 7.31s\tremaining: 34.9s\n",
      "173:\tlearn: 1.3198015\ttotal: 7.34s\tremaining: 34.9s\n",
      "174:\tlearn: 1.3195384\ttotal: 7.38s\tremaining: 34.8s\n",
      "175:\tlearn: 1.3192129\ttotal: 7.42s\tremaining: 34.7s\n",
      "176:\tlearn: 1.3189947\ttotal: 7.46s\tremaining: 34.7s\n",
      "177:\tlearn: 1.3187026\ttotal: 7.5s\tremaining: 34.7s\n",
      "178:\tlearn: 1.3182958\ttotal: 7.54s\tremaining: 34.6s\n",
      "179:\tlearn: 1.3181079\ttotal: 7.57s\tremaining: 34.5s\n",
      "180:\tlearn: 1.3179382\ttotal: 7.61s\tremaining: 34.5s\n",
      "181:\tlearn: 1.3177357\ttotal: 7.65s\tremaining: 34.4s\n",
      "182:\tlearn: 1.3174808\ttotal: 7.71s\tremaining: 34.4s\n",
      "183:\tlearn: 1.3172959\ttotal: 7.74s\tremaining: 34.3s\n",
      "184:\tlearn: 1.3171672\ttotal: 7.78s\tremaining: 34.3s\n",
      "185:\tlearn: 1.3170406\ttotal: 7.82s\tremaining: 34.2s\n",
      "186:\tlearn: 1.3169692\ttotal: 7.86s\tremaining: 34.2s\n",
      "187:\tlearn: 1.3168020\ttotal: 7.9s\tremaining: 34.1s\n",
      "188:\tlearn: 1.3166140\ttotal: 7.93s\tremaining: 34s\n",
      "189:\tlearn: 1.3164274\ttotal: 7.97s\tremaining: 34s\n",
      "190:\tlearn: 1.3163629\ttotal: 8.02s\tremaining: 34s\n",
      "191:\tlearn: 1.3161100\ttotal: 8.06s\tremaining: 33.9s\n",
      "192:\tlearn: 1.3159713\ttotal: 8.11s\tremaining: 33.9s\n",
      "193:\tlearn: 1.3157037\ttotal: 8.15s\tremaining: 33.9s\n",
      "194:\tlearn: 1.3155518\ttotal: 8.2s\tremaining: 33.9s\n",
      "195:\tlearn: 1.3154579\ttotal: 8.25s\tremaining: 33.8s\n",
      "196:\tlearn: 1.3152212\ttotal: 8.3s\tremaining: 33.8s\n",
      "197:\tlearn: 1.3151841\ttotal: 8.35s\tremaining: 33.8s\n",
      "198:\tlearn: 1.3149630\ttotal: 8.4s\tremaining: 33.8s\n",
      "199:\tlearn: 1.3146354\ttotal: 8.45s\tremaining: 33.8s\n",
      "200:\tlearn: 1.3145470\ttotal: 8.49s\tremaining: 33.8s\n",
      "201:\tlearn: 1.3143949\ttotal: 8.54s\tremaining: 33.7s\n",
      "202:\tlearn: 1.3141144\ttotal: 8.59s\tremaining: 33.7s\n",
      "203:\tlearn: 1.3140617\ttotal: 8.63s\tremaining: 33.7s\n",
      "204:\tlearn: 1.3138765\ttotal: 8.67s\tremaining: 33.6s\n",
      "205:\tlearn: 1.3134919\ttotal: 8.72s\tremaining: 33.6s\n",
      "206:\tlearn: 1.3133022\ttotal: 8.76s\tremaining: 33.5s\n",
      "207:\tlearn: 1.3131878\ttotal: 8.8s\tremaining: 33.5s\n",
      "208:\tlearn: 1.3129184\ttotal: 8.88s\tremaining: 33.6s\n",
      "209:\tlearn: 1.3124739\ttotal: 8.93s\tremaining: 33.6s\n",
      "210:\tlearn: 1.3123544\ttotal: 8.98s\tremaining: 33.6s\n",
      "211:\tlearn: 1.3120216\ttotal: 9.02s\tremaining: 33.5s\n",
      "212:\tlearn: 1.3117379\ttotal: 9.06s\tremaining: 33.5s\n",
      "213:\tlearn: 1.3116636\ttotal: 9.11s\tremaining: 33.4s\n",
      "214:\tlearn: 1.3116264\ttotal: 9.14s\tremaining: 33.4s\n",
      "215:\tlearn: 1.3115937\ttotal: 9.19s\tremaining: 33.3s\n",
      "216:\tlearn: 1.3115344\ttotal: 9.23s\tremaining: 33.3s\n",
      "217:\tlearn: 1.3114191\ttotal: 9.27s\tremaining: 33.3s\n",
      "218:\tlearn: 1.3112401\ttotal: 9.32s\tremaining: 33.2s\n",
      "219:\tlearn: 1.3111112\ttotal: 9.36s\tremaining: 33.2s\n",
      "220:\tlearn: 1.3110247\ttotal: 9.4s\tremaining: 33.1s\n",
      "221:\tlearn: 1.3108680\ttotal: 9.44s\tremaining: 33.1s\n",
      "222:\tlearn: 1.3107456\ttotal: 9.48s\tremaining: 33s\n",
      "223:\tlearn: 1.3106402\ttotal: 9.53s\tremaining: 33s\n",
      "224:\tlearn: 1.3104896\ttotal: 9.57s\tremaining: 33s\n",
      "225:\tlearn: 1.3103209\ttotal: 9.61s\tremaining: 32.9s\n",
      "226:\tlearn: 1.3101539\ttotal: 9.65s\tremaining: 32.9s\n",
      "227:\tlearn: 1.3100353\ttotal: 9.69s\tremaining: 32.8s\n",
      "228:\tlearn: 1.3098321\ttotal: 9.73s\tremaining: 32.8s\n",
      "229:\tlearn: 1.3097823\ttotal: 9.77s\tremaining: 32.7s\n",
      "230:\tlearn: 1.3097391\ttotal: 9.81s\tremaining: 32.7s\n",
      "231:\tlearn: 1.3095230\ttotal: 9.86s\tremaining: 32.6s\n",
      "232:\tlearn: 1.3094012\ttotal: 9.89s\tremaining: 32.6s\n",
      "233:\tlearn: 1.3091491\ttotal: 9.94s\tremaining: 32.5s\n",
      "234:\tlearn: 1.3090589\ttotal: 9.98s\tremaining: 32.5s\n",
      "235:\tlearn: 1.3089653\ttotal: 10s\tremaining: 32.4s\n",
      "236:\tlearn: 1.3088656\ttotal: 10.1s\tremaining: 32.4s\n",
      "237:\tlearn: 1.3084883\ttotal: 10.1s\tremaining: 32.3s\n",
      "238:\tlearn: 1.3083705\ttotal: 10.1s\tremaining: 32.3s\n",
      "239:\tlearn: 1.3082303\ttotal: 10.2s\tremaining: 32.2s\n",
      "240:\tlearn: 1.3080254\ttotal: 10.2s\tremaining: 32.2s\n",
      "241:\tlearn: 1.3077808\ttotal: 10.3s\tremaining: 32.2s\n",
      "242:\tlearn: 1.3077107\ttotal: 10.3s\tremaining: 32.1s\n",
      "243:\tlearn: 1.3074639\ttotal: 10.3s\tremaining: 32.1s\n",
      "244:\tlearn: 1.3073707\ttotal: 10.4s\tremaining: 32s\n",
      "245:\tlearn: 1.3072572\ttotal: 10.4s\tremaining: 32s\n",
      "246:\tlearn: 1.3070829\ttotal: 10.5s\tremaining: 31.9s\n",
      "247:\tlearn: 1.3070112\ttotal: 10.5s\tremaining: 31.9s\n",
      "248:\tlearn: 1.3068988\ttotal: 10.6s\tremaining: 31.8s\n",
      "249:\tlearn: 1.3067526\ttotal: 10.6s\tremaining: 31.8s\n",
      "250:\tlearn: 1.3065400\ttotal: 10.6s\tremaining: 31.7s\n",
      "251:\tlearn: 1.3064282\ttotal: 10.7s\tremaining: 31.7s\n",
      "252:\tlearn: 1.3063845\ttotal: 10.7s\tremaining: 31.6s\n",
      "253:\tlearn: 1.3063238\ttotal: 10.7s\tremaining: 31.6s\n",
      "254:\tlearn: 1.3062628\ttotal: 10.8s\tremaining: 31.5s\n",
      "255:\tlearn: 1.3059871\ttotal: 10.8s\tremaining: 31.5s\n",
      "256:\tlearn: 1.3058211\ttotal: 10.9s\tremaining: 31.4s\n",
      "257:\tlearn: 1.3055670\ttotal: 10.9s\tremaining: 31.4s\n",
      "258:\tlearn: 1.3054081\ttotal: 10.9s\tremaining: 31.3s\n",
      "259:\tlearn: 1.3051816\ttotal: 11s\tremaining: 31.3s\n",
      "260:\tlearn: 1.3051467\ttotal: 11s\tremaining: 31.2s\n",
      "261:\tlearn: 1.3049329\ttotal: 11.1s\tremaining: 31.2s\n",
      "262:\tlearn: 1.3048821\ttotal: 11.1s\tremaining: 31.1s\n",
      "263:\tlearn: 1.3046910\ttotal: 11.2s\tremaining: 31.1s\n",
      "264:\tlearn: 1.3045167\ttotal: 11.2s\tremaining: 31s\n",
      "265:\tlearn: 1.3044755\ttotal: 11.2s\tremaining: 31s\n",
      "266:\tlearn: 1.3042971\ttotal: 11.3s\tremaining: 30.9s\n",
      "267:\tlearn: 1.3040686\ttotal: 11.3s\tremaining: 30.9s\n",
      "268:\tlearn: 1.3039722\ttotal: 11.4s\tremaining: 30.9s\n",
      "269:\tlearn: 1.3038601\ttotal: 11.4s\tremaining: 30.9s\n",
      "270:\tlearn: 1.3035325\ttotal: 11.5s\tremaining: 30.9s\n",
      "271:\tlearn: 1.3033692\ttotal: 11.5s\tremaining: 30.9s\n",
      "272:\tlearn: 1.3032150\ttotal: 11.6s\tremaining: 30.8s\n",
      "273:\tlearn: 1.3031235\ttotal: 11.6s\tremaining: 30.9s\n",
      "274:\tlearn: 1.3029457\ttotal: 11.7s\tremaining: 30.8s\n",
      "275:\tlearn: 1.3028035\ttotal: 11.8s\tremaining: 30.9s\n",
      "276:\tlearn: 1.3025335\ttotal: 11.8s\tremaining: 30.8s\n",
      "277:\tlearn: 1.3023436\ttotal: 11.9s\tremaining: 30.8s\n",
      "278:\tlearn: 1.3021234\ttotal: 11.9s\tremaining: 30.7s\n",
      "279:\tlearn: 1.3019405\ttotal: 11.9s\tremaining: 30.7s\n",
      "280:\tlearn: 1.3017603\ttotal: 12s\tremaining: 30.7s\n",
      "281:\tlearn: 1.3015590\ttotal: 12s\tremaining: 30.6s\n",
      "282:\tlearn: 1.3011030\ttotal: 12.1s\tremaining: 30.6s\n",
      "283:\tlearn: 1.3009746\ttotal: 12.1s\tremaining: 30.5s\n",
      "284:\tlearn: 1.3006963\ttotal: 12.2s\tremaining: 30.5s\n",
      "285:\tlearn: 1.3005734\ttotal: 12.2s\tremaining: 30.5s\n",
      "286:\tlearn: 1.3004891\ttotal: 12.2s\tremaining: 30.4s\n",
      "287:\tlearn: 1.3003694\ttotal: 12.3s\tremaining: 30.4s\n",
      "288:\tlearn: 1.3003368\ttotal: 12.4s\tremaining: 30.4s\n",
      "289:\tlearn: 1.3001526\ttotal: 12.4s\tremaining: 30.4s\n",
      "290:\tlearn: 1.3000411\ttotal: 12.5s\tremaining: 30.4s\n",
      "291:\tlearn: 1.2998708\ttotal: 12.5s\tremaining: 30.4s\n",
      "292:\tlearn: 1.2996332\ttotal: 12.6s\tremaining: 30.3s\n",
      "293:\tlearn: 1.2994877\ttotal: 12.6s\tremaining: 30.4s\n",
      "294:\tlearn: 1.2992405\ttotal: 12.7s\tremaining: 30.4s\n",
      "295:\tlearn: 1.2990849\ttotal: 12.8s\tremaining: 30.3s\n",
      "296:\tlearn: 1.2989822\ttotal: 12.8s\tremaining: 30.3s\n",
      "297:\tlearn: 1.2988304\ttotal: 12.8s\tremaining: 30.2s\n",
      "298:\tlearn: 1.2987373\ttotal: 12.9s\tremaining: 30.2s\n",
      "299:\tlearn: 1.2984789\ttotal: 12.9s\tremaining: 30.1s\n",
      "300:\tlearn: 1.2983794\ttotal: 13s\tremaining: 30.1s\n",
      "301:\tlearn: 1.2981636\ttotal: 13s\tremaining: 30s\n",
      "302:\tlearn: 1.2979851\ttotal: 13s\tremaining: 30s\n",
      "303:\tlearn: 1.2978841\ttotal: 13.1s\tremaining: 29.9s\n",
      "304:\tlearn: 1.2977458\ttotal: 13.1s\tremaining: 29.9s\n",
      "305:\tlearn: 1.2975917\ttotal: 13.1s\tremaining: 29.8s\n",
      "306:\tlearn: 1.2974704\ttotal: 13.2s\tremaining: 29.8s\n",
      "307:\tlearn: 1.2973264\ttotal: 13.2s\tremaining: 29.7s\n",
      "308:\tlearn: 1.2970706\ttotal: 13.3s\tremaining: 29.7s\n",
      "309:\tlearn: 1.2969480\ttotal: 13.3s\tremaining: 29.6s\n",
      "310:\tlearn: 1.2967246\ttotal: 13.4s\tremaining: 29.6s\n",
      "311:\tlearn: 1.2966699\ttotal: 13.4s\tremaining: 29.5s\n",
      "312:\tlearn: 1.2965831\ttotal: 13.4s\tremaining: 29.5s\n",
      "313:\tlearn: 1.2964370\ttotal: 13.5s\tremaining: 29.4s\n",
      "314:\tlearn: 1.2961813\ttotal: 13.5s\tremaining: 29.3s\n",
      "315:\tlearn: 1.2961208\ttotal: 13.5s\tremaining: 29.3s\n",
      "316:\tlearn: 1.2959159\ttotal: 13.6s\tremaining: 29.2s\n",
      "317:\tlearn: 1.2957259\ttotal: 13.6s\tremaining: 29.2s\n",
      "318:\tlearn: 1.2956371\ttotal: 13.7s\tremaining: 29.2s\n",
      "319:\tlearn: 1.2954401\ttotal: 13.7s\tremaining: 29.1s\n",
      "320:\tlearn: 1.2952985\ttotal: 13.7s\tremaining: 29s\n",
      "321:\tlearn: 1.2952039\ttotal: 13.8s\tremaining: 29s\n",
      "322:\tlearn: 1.2949503\ttotal: 13.8s\tremaining: 28.9s\n",
      "323:\tlearn: 1.2948486\ttotal: 13.8s\tremaining: 28.9s\n",
      "324:\tlearn: 1.2947157\ttotal: 13.9s\tremaining: 28.8s\n",
      "325:\tlearn: 1.2946437\ttotal: 13.9s\tremaining: 28.8s\n",
      "326:\tlearn: 1.2945133\ttotal: 14s\tremaining: 28.7s\n",
      "327:\tlearn: 1.2943780\ttotal: 14s\tremaining: 28.6s\n",
      "328:\tlearn: 1.2941727\ttotal: 14s\tremaining: 28.6s\n",
      "329:\tlearn: 1.2941092\ttotal: 14s\tremaining: 28.5s\n",
      "330:\tlearn: 1.2940634\ttotal: 14.1s\tremaining: 28.4s\n",
      "331:\tlearn: 1.2940218\ttotal: 14.1s\tremaining: 28.4s\n",
      "332:\tlearn: 1.2937136\ttotal: 14.1s\tremaining: 28.3s\n",
      "333:\tlearn: 1.2935001\ttotal: 14.2s\tremaining: 28.2s\n",
      "334:\tlearn: 1.2934148\ttotal: 14.2s\tremaining: 28.2s\n",
      "335:\tlearn: 1.2933019\ttotal: 14.2s\tremaining: 28.1s\n",
      "336:\tlearn: 1.2932581\ttotal: 14.2s\tremaining: 28s\n",
      "337:\tlearn: 1.2930879\ttotal: 14.3s\tremaining: 28s\n",
      "338:\tlearn: 1.2930247\ttotal: 14.3s\tremaining: 27.9s\n",
      "339:\tlearn: 1.2928910\ttotal: 14.3s\tremaining: 27.8s\n",
      "340:\tlearn: 1.2927611\ttotal: 14.3s\tremaining: 27.7s\n",
      "341:\tlearn: 1.2926914\ttotal: 14.4s\tremaining: 27.7s\n",
      "342:\tlearn: 1.2925394\ttotal: 14.4s\tremaining: 27.6s\n",
      "343:\tlearn: 1.2924466\ttotal: 14.4s\tremaining: 27.5s\n",
      "344:\tlearn: 1.2922412\ttotal: 14.5s\tremaining: 27.5s\n",
      "345:\tlearn: 1.2921682\ttotal: 14.5s\tremaining: 27.4s\n",
      "346:\tlearn: 1.2920169\ttotal: 14.5s\tremaining: 27.3s\n",
      "347:\tlearn: 1.2918898\ttotal: 14.6s\tremaining: 27.3s\n",
      "348:\tlearn: 1.2917428\ttotal: 14.6s\tremaining: 27.2s\n",
      "349:\tlearn: 1.2916186\ttotal: 14.6s\tremaining: 27.1s\n",
      "350:\tlearn: 1.2915322\ttotal: 14.6s\tremaining: 27.1s\n",
      "351:\tlearn: 1.2913739\ttotal: 14.7s\tremaining: 27s\n",
      "352:\tlearn: 1.2912263\ttotal: 14.7s\tremaining: 27s\n",
      "353:\tlearn: 1.2911016\ttotal: 14.7s\tremaining: 26.9s\n",
      "354:\tlearn: 1.2910694\ttotal: 14.8s\tremaining: 26.8s\n",
      "355:\tlearn: 1.2908873\ttotal: 14.8s\tremaining: 26.8s\n",
      "356:\tlearn: 1.2908490\ttotal: 14.8s\tremaining: 26.7s\n",
      "357:\tlearn: 1.2907130\ttotal: 14.9s\tremaining: 26.6s\n",
      "358:\tlearn: 1.2905592\ttotal: 14.9s\tremaining: 26.6s\n",
      "359:\tlearn: 1.2904256\ttotal: 14.9s\tremaining: 26.5s\n",
      "360:\tlearn: 1.2903368\ttotal: 15s\tremaining: 26.5s\n",
      "361:\tlearn: 1.2902034\ttotal: 15s\tremaining: 26.4s\n",
      "362:\tlearn: 1.2901102\ttotal: 15s\tremaining: 26.3s\n",
      "363:\tlearn: 1.2900058\ttotal: 15s\tremaining: 26.3s\n",
      "364:\tlearn: 1.2897970\ttotal: 15.1s\tremaining: 26.2s\n",
      "365:\tlearn: 1.2897054\ttotal: 15.1s\tremaining: 26.2s\n",
      "366:\tlearn: 1.2896524\ttotal: 15.1s\tremaining: 26.1s\n",
      "367:\tlearn: 1.2895448\ttotal: 15.2s\tremaining: 26s\n",
      "368:\tlearn: 1.2893917\ttotal: 15.2s\tremaining: 26s\n",
      "369:\tlearn: 1.2892612\ttotal: 15.2s\tremaining: 25.9s\n",
      "370:\tlearn: 1.2891066\ttotal: 15.3s\tremaining: 25.9s\n",
      "371:\tlearn: 1.2890553\ttotal: 15.3s\tremaining: 25.8s\n",
      "372:\tlearn: 1.2889694\ttotal: 15.3s\tremaining: 25.7s\n",
      "373:\tlearn: 1.2888720\ttotal: 15.3s\tremaining: 25.7s\n",
      "374:\tlearn: 1.2887863\ttotal: 15.4s\tremaining: 25.6s\n",
      "375:\tlearn: 1.2886769\ttotal: 15.4s\tremaining: 25.6s\n",
      "376:\tlearn: 1.2885108\ttotal: 15.5s\tremaining: 25.6s\n",
      "377:\tlearn: 1.2883553\ttotal: 15.6s\tremaining: 25.6s\n",
      "378:\tlearn: 1.2880974\ttotal: 15.6s\tremaining: 25.6s\n",
      "379:\tlearn: 1.2878828\ttotal: 15.7s\tremaining: 25.6s\n",
      "380:\tlearn: 1.2877924\ttotal: 15.7s\tremaining: 25.5s\n",
      "381:\tlearn: 1.2874850\ttotal: 15.7s\tremaining: 25.4s\n",
      "382:\tlearn: 1.2872298\ttotal: 15.8s\tremaining: 25.4s\n",
      "383:\tlearn: 1.2870016\ttotal: 15.8s\tremaining: 25.3s\n",
      "384:\tlearn: 1.2868943\ttotal: 15.8s\tremaining: 25.3s\n",
      "385:\tlearn: 1.2867024\ttotal: 15.9s\tremaining: 25.2s\n",
      "386:\tlearn: 1.2866062\ttotal: 15.9s\tremaining: 25.2s\n",
      "387:\tlearn: 1.2865166\ttotal: 15.9s\tremaining: 25.1s\n",
      "388:\tlearn: 1.2863852\ttotal: 15.9s\tremaining: 25s\n",
      "389:\tlearn: 1.2863144\ttotal: 16s\tremaining: 25s\n",
      "390:\tlearn: 1.2861143\ttotal: 16s\tremaining: 24.9s\n",
      "391:\tlearn: 1.2859140\ttotal: 16s\tremaining: 24.8s\n",
      "392:\tlearn: 1.2857315\ttotal: 16.1s\tremaining: 24.8s\n",
      "393:\tlearn: 1.2855729\ttotal: 16.1s\tremaining: 24.7s\n",
      "394:\tlearn: 1.2853952\ttotal: 16.1s\tremaining: 24.7s\n",
      "395:\tlearn: 1.2852898\ttotal: 16.1s\tremaining: 24.6s\n",
      "396:\tlearn: 1.2849783\ttotal: 16.2s\tremaining: 24.5s\n",
      "397:\tlearn: 1.2849110\ttotal: 16.2s\tremaining: 24.5s\n",
      "398:\tlearn: 1.2848327\ttotal: 16.2s\tremaining: 24.4s\n",
      "399:\tlearn: 1.2845941\ttotal: 16.2s\tremaining: 24.4s\n",
      "400:\tlearn: 1.2844234\ttotal: 16.3s\tremaining: 24.3s\n",
      "401:\tlearn: 1.2842460\ttotal: 16.3s\tremaining: 24.2s\n",
      "402:\tlearn: 1.2840771\ttotal: 16.3s\tremaining: 24.2s\n",
      "403:\tlearn: 1.2839022\ttotal: 16.4s\tremaining: 24.1s\n",
      "404:\tlearn: 1.2837473\ttotal: 16.4s\tremaining: 24.1s\n",
      "405:\tlearn: 1.2836337\ttotal: 16.4s\tremaining: 24s\n",
      "406:\tlearn: 1.2835016\ttotal: 16.4s\tremaining: 24s\n",
      "407:\tlearn: 1.2833874\ttotal: 16.5s\tremaining: 23.9s\n",
      "408:\tlearn: 1.2832499\ttotal: 16.5s\tremaining: 23.8s\n",
      "409:\tlearn: 1.2829684\ttotal: 16.5s\tremaining: 23.8s\n",
      "410:\tlearn: 1.2828253\ttotal: 16.6s\tremaining: 23.7s\n",
      "411:\tlearn: 1.2826984\ttotal: 16.6s\tremaining: 23.7s\n",
      "412:\tlearn: 1.2826533\ttotal: 16.6s\tremaining: 23.6s\n",
      "413:\tlearn: 1.2826193\ttotal: 16.6s\tremaining: 23.5s\n",
      "414:\tlearn: 1.2825296\ttotal: 16.7s\tremaining: 23.5s\n",
      "415:\tlearn: 1.2824113\ttotal: 16.7s\tremaining: 23.4s\n",
      "416:\tlearn: 1.2823309\ttotal: 16.7s\tremaining: 23.4s\n",
      "417:\tlearn: 1.2821794\ttotal: 16.7s\tremaining: 23.3s\n",
      "418:\tlearn: 1.2820138\ttotal: 16.8s\tremaining: 23.3s\n",
      "419:\tlearn: 1.2819302\ttotal: 16.8s\tremaining: 23.2s\n",
      "420:\tlearn: 1.2817797\ttotal: 16.8s\tremaining: 23.1s\n",
      "421:\tlearn: 1.2817335\ttotal: 16.9s\tremaining: 23.1s\n",
      "422:\tlearn: 1.2816446\ttotal: 16.9s\tremaining: 23s\n",
      "423:\tlearn: 1.2815692\ttotal: 16.9s\tremaining: 23s\n",
      "424:\tlearn: 1.2814761\ttotal: 16.9s\tremaining: 22.9s\n",
      "425:\tlearn: 1.2812084\ttotal: 17s\tremaining: 22.9s\n",
      "426:\tlearn: 1.2809849\ttotal: 17s\tremaining: 22.8s\n",
      "427:\tlearn: 1.2808640\ttotal: 17s\tremaining: 22.8s\n",
      "428:\tlearn: 1.2807694\ttotal: 17.1s\tremaining: 22.7s\n",
      "429:\tlearn: 1.2805573\ttotal: 17.1s\tremaining: 22.6s\n",
      "430:\tlearn: 1.2804929\ttotal: 17.1s\tremaining: 22.6s\n",
      "431:\tlearn: 1.2803412\ttotal: 17.1s\tremaining: 22.5s\n",
      "432:\tlearn: 1.2801897\ttotal: 17.2s\tremaining: 22.5s\n",
      "433:\tlearn: 1.2801485\ttotal: 17.2s\tremaining: 22.4s\n",
      "434:\tlearn: 1.2800245\ttotal: 17.2s\tremaining: 22.4s\n",
      "435:\tlearn: 1.2798410\ttotal: 17.3s\tremaining: 22.3s\n",
      "436:\tlearn: 1.2795404\ttotal: 17.3s\tremaining: 22.3s\n",
      "437:\tlearn: 1.2795018\ttotal: 17.3s\tremaining: 22.2s\n",
      "438:\tlearn: 1.2794619\ttotal: 17.3s\tremaining: 22.2s\n",
      "439:\tlearn: 1.2793085\ttotal: 17.4s\tremaining: 22.1s\n",
      "440:\tlearn: 1.2789959\ttotal: 17.4s\tremaining: 22.1s\n",
      "441:\tlearn: 1.2788838\ttotal: 17.4s\tremaining: 22s\n",
      "442:\tlearn: 1.2787291\ttotal: 17.5s\tremaining: 22s\n",
      "443:\tlearn: 1.2786812\ttotal: 17.5s\tremaining: 21.9s\n",
      "444:\tlearn: 1.2786115\ttotal: 17.5s\tremaining: 21.9s\n",
      "445:\tlearn: 1.2783931\ttotal: 17.6s\tremaining: 21.8s\n",
      "446:\tlearn: 1.2782660\ttotal: 17.6s\tremaining: 21.8s\n",
      "447:\tlearn: 1.2782005\ttotal: 17.6s\tremaining: 21.7s\n",
      "448:\tlearn: 1.2780847\ttotal: 17.7s\tremaining: 21.7s\n",
      "449:\tlearn: 1.2779002\ttotal: 17.7s\tremaining: 21.6s\n",
      "450:\tlearn: 1.2777669\ttotal: 17.7s\tremaining: 21.6s\n",
      "451:\tlearn: 1.2775951\ttotal: 17.7s\tremaining: 21.5s\n",
      "452:\tlearn: 1.2775418\ttotal: 17.8s\tremaining: 21.5s\n",
      "453:\tlearn: 1.2774051\ttotal: 17.8s\tremaining: 21.4s\n",
      "454:\tlearn: 1.2773159\ttotal: 17.8s\tremaining: 21.4s\n",
      "455:\tlearn: 1.2771716\ttotal: 17.9s\tremaining: 21.3s\n",
      "456:\tlearn: 1.2771331\ttotal: 17.9s\tremaining: 21.3s\n",
      "457:\tlearn: 1.2769663\ttotal: 17.9s\tremaining: 21.2s\n",
      "458:\tlearn: 1.2767847\ttotal: 18s\tremaining: 21.2s\n",
      "459:\tlearn: 1.2766299\ttotal: 18s\tremaining: 21.1s\n",
      "460:\tlearn: 1.2764323\ttotal: 18s\tremaining: 21.1s\n",
      "461:\tlearn: 1.2762741\ttotal: 18.1s\tremaining: 21s\n",
      "462:\tlearn: 1.2761457\ttotal: 18.1s\tremaining: 21s\n",
      "463:\tlearn: 1.2759421\ttotal: 18.1s\tremaining: 20.9s\n",
      "464:\tlearn: 1.2758778\ttotal: 18.2s\tremaining: 20.9s\n",
      "465:\tlearn: 1.2758249\ttotal: 18.2s\tremaining: 20.9s\n",
      "466:\tlearn: 1.2756871\ttotal: 18.2s\tremaining: 20.8s\n",
      "467:\tlearn: 1.2755651\ttotal: 18.2s\tremaining: 20.7s\n",
      "468:\tlearn: 1.2754019\ttotal: 18.3s\tremaining: 20.7s\n",
      "469:\tlearn: 1.2752708\ttotal: 18.3s\tremaining: 20.6s\n",
      "470:\tlearn: 1.2751636\ttotal: 18.3s\tremaining: 20.6s\n",
      "471:\tlearn: 1.2749507\ttotal: 18.4s\tremaining: 20.5s\n",
      "472:\tlearn: 1.2748259\ttotal: 18.4s\tremaining: 20.5s\n",
      "473:\tlearn: 1.2747258\ttotal: 18.4s\tremaining: 20.4s\n",
      "474:\tlearn: 1.2746413\ttotal: 18.4s\tremaining: 20.4s\n",
      "475:\tlearn: 1.2745475\ttotal: 18.5s\tremaining: 20.3s\n",
      "476:\tlearn: 1.2744418\ttotal: 18.5s\tremaining: 20.3s\n",
      "477:\tlearn: 1.2742575\ttotal: 18.6s\tremaining: 20.3s\n",
      "478:\tlearn: 1.2740502\ttotal: 18.6s\tremaining: 20.2s\n",
      "479:\tlearn: 1.2739567\ttotal: 18.6s\tremaining: 20.2s\n",
      "480:\tlearn: 1.2739328\ttotal: 18.7s\tremaining: 20.1s\n",
      "481:\tlearn: 1.2738630\ttotal: 18.7s\tremaining: 20.1s\n",
      "482:\tlearn: 1.2736961\ttotal: 18.8s\tremaining: 20.1s\n",
      "483:\tlearn: 1.2735853\ttotal: 18.8s\tremaining: 20s\n",
      "484:\tlearn: 1.2733286\ttotal: 18.8s\tremaining: 20s\n",
      "485:\tlearn: 1.2732602\ttotal: 18.9s\tremaining: 20s\n",
      "486:\tlearn: 1.2731211\ttotal: 18.9s\tremaining: 19.9s\n",
      "487:\tlearn: 1.2729985\ttotal: 18.9s\tremaining: 19.9s\n",
      "488:\tlearn: 1.2728995\ttotal: 18.9s\tremaining: 19.8s\n",
      "489:\tlearn: 1.2728439\ttotal: 19s\tremaining: 19.8s\n",
      "490:\tlearn: 1.2727463\ttotal: 19s\tremaining: 19.7s\n",
      "491:\tlearn: 1.2725594\ttotal: 19s\tremaining: 19.7s\n",
      "492:\tlearn: 1.2724162\ttotal: 19.1s\tremaining: 19.6s\n",
      "493:\tlearn: 1.2723207\ttotal: 19.1s\tremaining: 19.6s\n",
      "494:\tlearn: 1.2722642\ttotal: 19.1s\tremaining: 19.5s\n",
      "495:\tlearn: 1.2721706\ttotal: 19.1s\tremaining: 19.5s\n",
      "496:\tlearn: 1.2719308\ttotal: 19.2s\tremaining: 19.4s\n",
      "497:\tlearn: 1.2717560\ttotal: 19.2s\tremaining: 19.4s\n",
      "498:\tlearn: 1.2716738\ttotal: 19.2s\tremaining: 19.3s\n",
      "499:\tlearn: 1.2716499\ttotal: 19.3s\tremaining: 19.3s\n",
      "500:\tlearn: 1.2715376\ttotal: 19.3s\tremaining: 19.2s\n",
      "501:\tlearn: 1.2714479\ttotal: 19.3s\tremaining: 19.2s\n",
      "502:\tlearn: 1.2713034\ttotal: 19.3s\tremaining: 19.1s\n",
      "503:\tlearn: 1.2711497\ttotal: 19.4s\tremaining: 19.1s\n",
      "504:\tlearn: 1.2709862\ttotal: 19.4s\tremaining: 19s\n",
      "505:\tlearn: 1.2709020\ttotal: 19.4s\tremaining: 19s\n",
      "506:\tlearn: 1.2706369\ttotal: 19.5s\tremaining: 18.9s\n",
      "507:\tlearn: 1.2704663\ttotal: 19.5s\tremaining: 18.9s\n",
      "508:\tlearn: 1.2703484\ttotal: 19.5s\tremaining: 18.8s\n",
      "509:\tlearn: 1.2702743\ttotal: 19.6s\tremaining: 18.8s\n",
      "510:\tlearn: 1.2701259\ttotal: 19.6s\tremaining: 18.8s\n",
      "511:\tlearn: 1.2699523\ttotal: 19.6s\tremaining: 18.7s\n",
      "512:\tlearn: 1.2698427\ttotal: 19.7s\tremaining: 18.7s\n",
      "513:\tlearn: 1.2697647\ttotal: 19.7s\tremaining: 18.6s\n",
      "514:\tlearn: 1.2696687\ttotal: 19.7s\tremaining: 18.6s\n",
      "515:\tlearn: 1.2695123\ttotal: 19.7s\tremaining: 18.5s\n",
      "516:\tlearn: 1.2694604\ttotal: 19.8s\tremaining: 18.5s\n",
      "517:\tlearn: 1.2693286\ttotal: 19.8s\tremaining: 18.4s\n",
      "518:\tlearn: 1.2692704\ttotal: 19.8s\tremaining: 18.4s\n",
      "519:\tlearn: 1.2691900\ttotal: 19.8s\tremaining: 18.3s\n",
      "520:\tlearn: 1.2690302\ttotal: 19.9s\tremaining: 18.3s\n",
      "521:\tlearn: 1.2688973\ttotal: 19.9s\tremaining: 18.2s\n",
      "522:\tlearn: 1.2688009\ttotal: 19.9s\tremaining: 18.2s\n",
      "523:\tlearn: 1.2687112\ttotal: 19.9s\tremaining: 18.1s\n",
      "524:\tlearn: 1.2686029\ttotal: 20s\tremaining: 18.1s\n",
      "525:\tlearn: 1.2684994\ttotal: 20s\tremaining: 18s\n",
      "526:\tlearn: 1.2684527\ttotal: 20s\tremaining: 18s\n",
      "527:\tlearn: 1.2682747\ttotal: 20s\tremaining: 17.9s\n",
      "528:\tlearn: 1.2682158\ttotal: 20.1s\tremaining: 17.9s\n",
      "529:\tlearn: 1.2681178\ttotal: 20.1s\tremaining: 17.8s\n",
      "530:\tlearn: 1.2679063\ttotal: 20.1s\tremaining: 17.8s\n",
      "531:\tlearn: 1.2678352\ttotal: 20.2s\tremaining: 17.7s\n",
      "532:\tlearn: 1.2676502\ttotal: 20.2s\tremaining: 17.7s\n",
      "533:\tlearn: 1.2675892\ttotal: 20.2s\tremaining: 17.6s\n",
      "534:\tlearn: 1.2675216\ttotal: 20.2s\tremaining: 17.6s\n",
      "535:\tlearn: 1.2674055\ttotal: 20.3s\tremaining: 17.6s\n",
      "536:\tlearn: 1.2673024\ttotal: 20.3s\tremaining: 17.5s\n",
      "537:\tlearn: 1.2672102\ttotal: 20.3s\tremaining: 17.5s\n",
      "538:\tlearn: 1.2671721\ttotal: 20.4s\tremaining: 17.4s\n",
      "539:\tlearn: 1.2671015\ttotal: 20.4s\tremaining: 17.4s\n",
      "540:\tlearn: 1.2669859\ttotal: 20.4s\tremaining: 17.3s\n",
      "541:\tlearn: 1.2668506\ttotal: 20.4s\tremaining: 17.3s\n",
      "542:\tlearn: 1.2667057\ttotal: 20.5s\tremaining: 17.2s\n",
      "543:\tlearn: 1.2666438\ttotal: 20.5s\tremaining: 17.2s\n",
      "544:\tlearn: 1.2665826\ttotal: 20.5s\tremaining: 17.1s\n",
      "545:\tlearn: 1.2664722\ttotal: 20.6s\tremaining: 17.1s\n",
      "546:\tlearn: 1.2662387\ttotal: 20.6s\tremaining: 17.1s\n",
      "547:\tlearn: 1.2661632\ttotal: 20.7s\tremaining: 17.1s\n",
      "548:\tlearn: 1.2660733\ttotal: 20.7s\tremaining: 17s\n",
      "549:\tlearn: 1.2659861\ttotal: 20.8s\tremaining: 17s\n",
      "550:\tlearn: 1.2659030\ttotal: 20.8s\tremaining: 16.9s\n",
      "551:\tlearn: 1.2658316\ttotal: 20.8s\tremaining: 16.9s\n",
      "552:\tlearn: 1.2657415\ttotal: 20.8s\tremaining: 16.8s\n",
      "553:\tlearn: 1.2656689\ttotal: 20.9s\tremaining: 16.8s\n",
      "554:\tlearn: 1.2655309\ttotal: 20.9s\tremaining: 16.7s\n",
      "555:\tlearn: 1.2654901\ttotal: 20.9s\tremaining: 16.7s\n",
      "556:\tlearn: 1.2654382\ttotal: 20.9s\tremaining: 16.7s\n",
      "557:\tlearn: 1.2653753\ttotal: 21s\tremaining: 16.6s\n",
      "558:\tlearn: 1.2652359\ttotal: 21s\tremaining: 16.6s\n",
      "559:\tlearn: 1.2650175\ttotal: 21s\tremaining: 16.5s\n",
      "560:\tlearn: 1.2649765\ttotal: 21.1s\tremaining: 16.5s\n",
      "561:\tlearn: 1.2647850\ttotal: 21.1s\tremaining: 16.4s\n",
      "562:\tlearn: 1.2646282\ttotal: 21.1s\tremaining: 16.4s\n",
      "563:\tlearn: 1.2644701\ttotal: 21.1s\tremaining: 16.3s\n",
      "564:\tlearn: 1.2643192\ttotal: 21.2s\tremaining: 16.3s\n",
      "565:\tlearn: 1.2642462\ttotal: 21.2s\tremaining: 16.3s\n",
      "566:\tlearn: 1.2641831\ttotal: 21.2s\tremaining: 16.2s\n",
      "567:\tlearn: 1.2640861\ttotal: 21.3s\tremaining: 16.2s\n",
      "568:\tlearn: 1.2639976\ttotal: 21.3s\tremaining: 16.1s\n",
      "569:\tlearn: 1.2639405\ttotal: 21.3s\tremaining: 16.1s\n",
      "570:\tlearn: 1.2638640\ttotal: 21.4s\tremaining: 16.1s\n",
      "571:\tlearn: 1.2638386\ttotal: 21.4s\tremaining: 16s\n",
      "572:\tlearn: 1.2638224\ttotal: 21.4s\tremaining: 16s\n",
      "573:\tlearn: 1.2637710\ttotal: 21.5s\tremaining: 15.9s\n",
      "574:\tlearn: 1.2636461\ttotal: 21.5s\tremaining: 15.9s\n",
      "575:\tlearn: 1.2635633\ttotal: 21.5s\tremaining: 15.8s\n",
      "576:\tlearn: 1.2634274\ttotal: 21.5s\tremaining: 15.8s\n",
      "577:\tlearn: 1.2632781\ttotal: 21.6s\tremaining: 15.8s\n",
      "578:\tlearn: 1.2632535\ttotal: 21.6s\tremaining: 15.7s\n",
      "579:\tlearn: 1.2631845\ttotal: 21.6s\tremaining: 15.7s\n",
      "580:\tlearn: 1.2631651\ttotal: 21.7s\tremaining: 15.6s\n",
      "581:\tlearn: 1.2631131\ttotal: 21.7s\tremaining: 15.6s\n",
      "582:\tlearn: 1.2630789\ttotal: 21.7s\tremaining: 15.5s\n",
      "583:\tlearn: 1.2629198\ttotal: 21.8s\tremaining: 15.5s\n",
      "584:\tlearn: 1.2628279\ttotal: 21.8s\tremaining: 15.5s\n",
      "585:\tlearn: 1.2626541\ttotal: 21.9s\tremaining: 15.4s\n",
      "586:\tlearn: 1.2625980\ttotal: 21.9s\tremaining: 15.4s\n",
      "587:\tlearn: 1.2625241\ttotal: 21.9s\tremaining: 15.4s\n",
      "588:\tlearn: 1.2624377\ttotal: 22s\tremaining: 15.3s\n",
      "589:\tlearn: 1.2623265\ttotal: 22s\tremaining: 15.3s\n",
      "590:\tlearn: 1.2622730\ttotal: 22s\tremaining: 15.2s\n",
      "591:\tlearn: 1.2620824\ttotal: 22s\tremaining: 15.2s\n",
      "592:\tlearn: 1.2620086\ttotal: 22.1s\tremaining: 15.2s\n",
      "593:\tlearn: 1.2618134\ttotal: 22.1s\tremaining: 15.1s\n",
      "594:\tlearn: 1.2617221\ttotal: 22.1s\tremaining: 15.1s\n",
      "595:\tlearn: 1.2615289\ttotal: 22.2s\tremaining: 15s\n",
      "596:\tlearn: 1.2614665\ttotal: 22.2s\tremaining: 15s\n",
      "597:\tlearn: 1.2613912\ttotal: 22.2s\tremaining: 15s\n",
      "598:\tlearn: 1.2612846\ttotal: 22.3s\tremaining: 14.9s\n",
      "599:\tlearn: 1.2612272\ttotal: 22.3s\tremaining: 14.9s\n",
      "600:\tlearn: 1.2611488\ttotal: 22.4s\tremaining: 14.8s\n",
      "601:\tlearn: 1.2610499\ttotal: 22.4s\tremaining: 14.8s\n",
      "602:\tlearn: 1.2609801\ttotal: 22.4s\tremaining: 14.8s\n",
      "603:\tlearn: 1.2608990\ttotal: 22.4s\tremaining: 14.7s\n",
      "604:\tlearn: 1.2606893\ttotal: 22.5s\tremaining: 14.7s\n",
      "605:\tlearn: 1.2605278\ttotal: 22.5s\tremaining: 14.6s\n",
      "606:\tlearn: 1.2604318\ttotal: 22.5s\tremaining: 14.6s\n",
      "607:\tlearn: 1.2602989\ttotal: 22.6s\tremaining: 14.6s\n",
      "608:\tlearn: 1.2602556\ttotal: 22.6s\tremaining: 14.5s\n",
      "609:\tlearn: 1.2601475\ttotal: 22.6s\tremaining: 14.5s\n",
      "610:\tlearn: 1.2600901\ttotal: 22.7s\tremaining: 14.4s\n",
      "611:\tlearn: 1.2600410\ttotal: 22.7s\tremaining: 14.4s\n",
      "612:\tlearn: 1.2599350\ttotal: 22.7s\tremaining: 14.4s\n",
      "613:\tlearn: 1.2598587\ttotal: 22.8s\tremaining: 14.3s\n",
      "614:\tlearn: 1.2597474\ttotal: 22.8s\tremaining: 14.3s\n",
      "615:\tlearn: 1.2597073\ttotal: 22.8s\tremaining: 14.2s\n",
      "616:\tlearn: 1.2594825\ttotal: 22.9s\tremaining: 14.2s\n",
      "617:\tlearn: 1.2594064\ttotal: 22.9s\tremaining: 14.1s\n",
      "618:\tlearn: 1.2593128\ttotal: 22.9s\tremaining: 14.1s\n",
      "619:\tlearn: 1.2592314\ttotal: 22.9s\tremaining: 14.1s\n",
      "620:\tlearn: 1.2590902\ttotal: 23s\tremaining: 14s\n",
      "621:\tlearn: 1.2590328\ttotal: 23s\tremaining: 14s\n",
      "622:\tlearn: 1.2589454\ttotal: 23s\tremaining: 13.9s\n",
      "623:\tlearn: 1.2586934\ttotal: 23.1s\tremaining: 13.9s\n",
      "624:\tlearn: 1.2585063\ttotal: 23.1s\tremaining: 13.8s\n",
      "625:\tlearn: 1.2584377\ttotal: 23.1s\tremaining: 13.8s\n",
      "626:\tlearn: 1.2582669\ttotal: 23.1s\tremaining: 13.8s\n",
      "627:\tlearn: 1.2581714\ttotal: 23.2s\tremaining: 13.7s\n",
      "628:\tlearn: 1.2580928\ttotal: 23.2s\tremaining: 13.7s\n",
      "629:\tlearn: 1.2580342\ttotal: 23.2s\tremaining: 13.7s\n",
      "630:\tlearn: 1.2579597\ttotal: 23.3s\tremaining: 13.6s\n",
      "631:\tlearn: 1.2578905\ttotal: 23.3s\tremaining: 13.6s\n",
      "632:\tlearn: 1.2578383\ttotal: 23.3s\tremaining: 13.5s\n",
      "633:\tlearn: 1.2578114\ttotal: 23.4s\tremaining: 13.5s\n",
      "634:\tlearn: 1.2577809\ttotal: 23.4s\tremaining: 13.5s\n",
      "635:\tlearn: 1.2577229\ttotal: 23.4s\tremaining: 13.4s\n",
      "636:\tlearn: 1.2576911\ttotal: 23.5s\tremaining: 13.4s\n",
      "637:\tlearn: 1.2575521\ttotal: 23.5s\tremaining: 13.3s\n",
      "638:\tlearn: 1.2574323\ttotal: 23.5s\tremaining: 13.3s\n",
      "639:\tlearn: 1.2572684\ttotal: 23.6s\tremaining: 13.3s\n",
      "640:\tlearn: 1.2572192\ttotal: 23.6s\tremaining: 13.2s\n",
      "641:\tlearn: 1.2571256\ttotal: 23.6s\tremaining: 13.2s\n",
      "642:\tlearn: 1.2570677\ttotal: 23.7s\tremaining: 13.1s\n",
      "643:\tlearn: 1.2569913\ttotal: 23.7s\tremaining: 13.1s\n",
      "644:\tlearn: 1.2569046\ttotal: 23.7s\tremaining: 13.1s\n",
      "645:\tlearn: 1.2565519\ttotal: 23.7s\tremaining: 13s\n",
      "646:\tlearn: 1.2563903\ttotal: 23.8s\tremaining: 13s\n",
      "647:\tlearn: 1.2562509\ttotal: 23.8s\tremaining: 12.9s\n",
      "648:\tlearn: 1.2561364\ttotal: 23.8s\tremaining: 12.9s\n",
      "649:\tlearn: 1.2560315\ttotal: 23.9s\tremaining: 12.8s\n",
      "650:\tlearn: 1.2559584\ttotal: 23.9s\tremaining: 12.8s\n",
      "651:\tlearn: 1.2558716\ttotal: 23.9s\tremaining: 12.8s\n",
      "652:\tlearn: 1.2558268\ttotal: 24s\tremaining: 12.7s\n",
      "653:\tlearn: 1.2556062\ttotal: 24s\tremaining: 12.7s\n",
      "654:\tlearn: 1.2555527\ttotal: 24s\tremaining: 12.7s\n",
      "655:\tlearn: 1.2555023\ttotal: 24.1s\tremaining: 12.6s\n",
      "656:\tlearn: 1.2554251\ttotal: 24.1s\tremaining: 12.6s\n",
      "657:\tlearn: 1.2552541\ttotal: 24.1s\tremaining: 12.5s\n",
      "658:\tlearn: 1.2550631\ttotal: 24.2s\tremaining: 12.5s\n",
      "659:\tlearn: 1.2549913\ttotal: 24.2s\tremaining: 12.5s\n",
      "660:\tlearn: 1.2549264\ttotal: 24.2s\tremaining: 12.4s\n",
      "661:\tlearn: 1.2548458\ttotal: 24.3s\tremaining: 12.4s\n",
      "662:\tlearn: 1.2547627\ttotal: 24.3s\tremaining: 12.3s\n",
      "663:\tlearn: 1.2547032\ttotal: 24.3s\tremaining: 12.3s\n",
      "664:\tlearn: 1.2545467\ttotal: 24.4s\tremaining: 12.3s\n",
      "665:\tlearn: 1.2544191\ttotal: 24.4s\tremaining: 12.2s\n",
      "666:\tlearn: 1.2543870\ttotal: 24.4s\tremaining: 12.2s\n",
      "667:\tlearn: 1.2543279\ttotal: 24.5s\tremaining: 12.2s\n",
      "668:\tlearn: 1.2541014\ttotal: 24.5s\tremaining: 12.1s\n",
      "669:\tlearn: 1.2540280\ttotal: 24.6s\tremaining: 12.1s\n",
      "670:\tlearn: 1.2539102\ttotal: 24.6s\tremaining: 12.1s\n",
      "671:\tlearn: 1.2538502\ttotal: 24.6s\tremaining: 12s\n",
      "672:\tlearn: 1.2537572\ttotal: 24.6s\tremaining: 12s\n",
      "673:\tlearn: 1.2537237\ttotal: 24.7s\tremaining: 11.9s\n",
      "674:\tlearn: 1.2536760\ttotal: 24.7s\tremaining: 11.9s\n",
      "675:\tlearn: 1.2534919\ttotal: 24.7s\tremaining: 11.8s\n",
      "676:\tlearn: 1.2533917\ttotal: 24.8s\tremaining: 11.8s\n",
      "677:\tlearn: 1.2532573\ttotal: 24.8s\tremaining: 11.8s\n",
      "678:\tlearn: 1.2530837\ttotal: 24.8s\tremaining: 11.7s\n",
      "679:\tlearn: 1.2530199\ttotal: 24.8s\tremaining: 11.7s\n",
      "680:\tlearn: 1.2529730\ttotal: 24.9s\tremaining: 11.6s\n",
      "681:\tlearn: 1.2528539\ttotal: 24.9s\tremaining: 11.6s\n",
      "682:\tlearn: 1.2527454\ttotal: 24.9s\tremaining: 11.6s\n",
      "683:\tlearn: 1.2524772\ttotal: 24.9s\tremaining: 11.5s\n",
      "684:\tlearn: 1.2524355\ttotal: 25s\tremaining: 11.5s\n",
      "685:\tlearn: 1.2523493\ttotal: 25s\tremaining: 11.4s\n",
      "686:\tlearn: 1.2522648\ttotal: 25s\tremaining: 11.4s\n",
      "687:\tlearn: 1.2521368\ttotal: 25.1s\tremaining: 11.4s\n",
      "688:\tlearn: 1.2520865\ttotal: 25.1s\tremaining: 11.3s\n",
      "689:\tlearn: 1.2520472\ttotal: 25.1s\tremaining: 11.3s\n",
      "690:\tlearn: 1.2520147\ttotal: 25.1s\tremaining: 11.2s\n",
      "691:\tlearn: 1.2518978\ttotal: 25.2s\tremaining: 11.2s\n",
      "692:\tlearn: 1.2518417\ttotal: 25.2s\tremaining: 11.2s\n",
      "693:\tlearn: 1.2517906\ttotal: 25.2s\tremaining: 11.1s\n",
      "694:\tlearn: 1.2517412\ttotal: 25.3s\tremaining: 11.1s\n",
      "695:\tlearn: 1.2516418\ttotal: 25.3s\tremaining: 11s\n",
      "696:\tlearn: 1.2516157\ttotal: 25.3s\tremaining: 11s\n",
      "697:\tlearn: 1.2515468\ttotal: 25.4s\tremaining: 11s\n",
      "698:\tlearn: 1.2515137\ttotal: 25.4s\tremaining: 10.9s\n",
      "699:\tlearn: 1.2514587\ttotal: 25.4s\tremaining: 10.9s\n",
      "700:\tlearn: 1.2513670\ttotal: 25.4s\tremaining: 10.9s\n",
      "701:\tlearn: 1.2512591\ttotal: 25.5s\tremaining: 10.8s\n",
      "702:\tlearn: 1.2512098\ttotal: 25.5s\tremaining: 10.8s\n",
      "703:\tlearn: 1.2510544\ttotal: 25.5s\tremaining: 10.7s\n",
      "704:\tlearn: 1.2510291\ttotal: 25.6s\tremaining: 10.7s\n",
      "705:\tlearn: 1.2509674\ttotal: 25.6s\tremaining: 10.7s\n",
      "706:\tlearn: 1.2509140\ttotal: 25.6s\tremaining: 10.6s\n",
      "707:\tlearn: 1.2508794\ttotal: 25.6s\tremaining: 10.6s\n",
      "708:\tlearn: 1.2507594\ttotal: 25.7s\tremaining: 10.5s\n",
      "709:\tlearn: 1.2507051\ttotal: 25.7s\tremaining: 10.5s\n",
      "710:\tlearn: 1.2506382\ttotal: 25.7s\tremaining: 10.5s\n",
      "711:\tlearn: 1.2505461\ttotal: 25.8s\tremaining: 10.4s\n",
      "712:\tlearn: 1.2504162\ttotal: 25.8s\tremaining: 10.4s\n",
      "713:\tlearn: 1.2503081\ttotal: 25.8s\tremaining: 10.3s\n",
      "714:\tlearn: 1.2502623\ttotal: 25.8s\tremaining: 10.3s\n",
      "715:\tlearn: 1.2501880\ttotal: 25.9s\tremaining: 10.3s\n",
      "716:\tlearn: 1.2500133\ttotal: 25.9s\tremaining: 10.2s\n",
      "717:\tlearn: 1.2499581\ttotal: 25.9s\tremaining: 10.2s\n",
      "718:\tlearn: 1.2498953\ttotal: 25.9s\tremaining: 10.1s\n",
      "719:\tlearn: 1.2497696\ttotal: 26s\tremaining: 10.1s\n",
      "720:\tlearn: 1.2496887\ttotal: 26s\tremaining: 10.1s\n",
      "721:\tlearn: 1.2496245\ttotal: 26s\tremaining: 10s\n",
      "722:\tlearn: 1.2495283\ttotal: 26.1s\tremaining: 9.98s\n",
      "723:\tlearn: 1.2494560\ttotal: 26.1s\tremaining: 9.94s\n",
      "724:\tlearn: 1.2493577\ttotal: 26.1s\tremaining: 9.9s\n",
      "725:\tlearn: 1.2493123\ttotal: 26.1s\tremaining: 9.86s\n",
      "726:\tlearn: 1.2492647\ttotal: 26.2s\tremaining: 9.83s\n",
      "727:\tlearn: 1.2491892\ttotal: 26.2s\tremaining: 9.79s\n",
      "728:\tlearn: 1.2490960\ttotal: 26.2s\tremaining: 9.75s\n",
      "729:\tlearn: 1.2489599\ttotal: 26.3s\tremaining: 9.71s\n",
      "730:\tlearn: 1.2487782\ttotal: 26.3s\tremaining: 9.67s\n",
      "731:\tlearn: 1.2486774\ttotal: 26.3s\tremaining: 9.63s\n",
      "732:\tlearn: 1.2485299\ttotal: 26.3s\tremaining: 9.59s\n",
      "733:\tlearn: 1.2484145\ttotal: 26.4s\tremaining: 9.55s\n",
      "734:\tlearn: 1.2483611\ttotal: 26.4s\tremaining: 9.51s\n",
      "735:\tlearn: 1.2481718\ttotal: 26.4s\tremaining: 9.47s\n",
      "736:\tlearn: 1.2480118\ttotal: 26.4s\tremaining: 9.44s\n",
      "737:\tlearn: 1.2478868\ttotal: 26.5s\tremaining: 9.4s\n",
      "738:\tlearn: 1.2478445\ttotal: 26.5s\tremaining: 9.37s\n",
      "739:\tlearn: 1.2477755\ttotal: 26.6s\tremaining: 9.33s\n",
      "740:\tlearn: 1.2476610\ttotal: 26.6s\tremaining: 9.29s\n",
      "741:\tlearn: 1.2476153\ttotal: 26.6s\tremaining: 9.25s\n",
      "742:\tlearn: 1.2474948\ttotal: 26.6s\tremaining: 9.22s\n",
      "743:\tlearn: 1.2473402\ttotal: 26.7s\tremaining: 9.18s\n",
      "744:\tlearn: 1.2472240\ttotal: 26.7s\tremaining: 9.14s\n",
      "745:\tlearn: 1.2471179\ttotal: 26.7s\tremaining: 9.1s\n",
      "746:\tlearn: 1.2470425\ttotal: 26.8s\tremaining: 9.06s\n",
      "747:\tlearn: 1.2469365\ttotal: 26.8s\tremaining: 9.03s\n",
      "748:\tlearn: 1.2468837\ttotal: 26.8s\tremaining: 8.98s\n",
      "749:\tlearn: 1.2467657\ttotal: 26.8s\tremaining: 8.95s\n",
      "750:\tlearn: 1.2466868\ttotal: 26.9s\tremaining: 8.91s\n",
      "751:\tlearn: 1.2465672\ttotal: 26.9s\tremaining: 8.87s\n",
      "752:\tlearn: 1.2465297\ttotal: 26.9s\tremaining: 8.83s\n",
      "753:\tlearn: 1.2464398\ttotal: 27s\tremaining: 8.79s\n",
      "754:\tlearn: 1.2463838\ttotal: 27s\tremaining: 8.76s\n",
      "755:\tlearn: 1.2463373\ttotal: 27s\tremaining: 8.72s\n",
      "756:\tlearn: 1.2462761\ttotal: 27s\tremaining: 8.68s\n",
      "757:\tlearn: 1.2461743\ttotal: 27.1s\tremaining: 8.64s\n",
      "758:\tlearn: 1.2460823\ttotal: 27.1s\tremaining: 8.6s\n",
      "759:\tlearn: 1.2459929\ttotal: 27.1s\tremaining: 8.57s\n",
      "760:\tlearn: 1.2458933\ttotal: 27.1s\tremaining: 8.53s\n",
      "761:\tlearn: 1.2458580\ttotal: 27.2s\tremaining: 8.49s\n",
      "762:\tlearn: 1.2455735\ttotal: 27.2s\tremaining: 8.45s\n",
      "763:\tlearn: 1.2454485\ttotal: 27.2s\tremaining: 8.41s\n",
      "764:\tlearn: 1.2453697\ttotal: 27.3s\tremaining: 8.37s\n",
      "765:\tlearn: 1.2453097\ttotal: 27.3s\tremaining: 8.33s\n",
      "766:\tlearn: 1.2452411\ttotal: 27.3s\tremaining: 8.3s\n",
      "767:\tlearn: 1.2451684\ttotal: 27.4s\tremaining: 8.26s\n",
      "768:\tlearn: 1.2451492\ttotal: 27.4s\tremaining: 8.23s\n",
      "769:\tlearn: 1.2450983\ttotal: 27.5s\tremaining: 8.21s\n",
      "770:\tlearn: 1.2450636\ttotal: 27.5s\tremaining: 8.17s\n",
      "771:\tlearn: 1.2449366\ttotal: 27.5s\tremaining: 8.13s\n",
      "772:\tlearn: 1.2447582\ttotal: 27.6s\tremaining: 8.09s\n",
      "773:\tlearn: 1.2446949\ttotal: 27.6s\tremaining: 8.05s\n",
      "774:\tlearn: 1.2446589\ttotal: 27.6s\tremaining: 8.02s\n",
      "775:\tlearn: 1.2446042\ttotal: 27.6s\tremaining: 7.97s\n",
      "776:\tlearn: 1.2445300\ttotal: 27.7s\tremaining: 7.94s\n",
      "777:\tlearn: 1.2444638\ttotal: 27.7s\tremaining: 7.9s\n",
      "778:\tlearn: 1.2444038\ttotal: 27.7s\tremaining: 7.86s\n",
      "779:\tlearn: 1.2442183\ttotal: 27.7s\tremaining: 7.82s\n",
      "780:\tlearn: 1.2440943\ttotal: 27.8s\tremaining: 7.78s\n",
      "781:\tlearn: 1.2439755\ttotal: 27.8s\tremaining: 7.75s\n",
      "782:\tlearn: 1.2439593\ttotal: 27.8s\tremaining: 7.71s\n",
      "783:\tlearn: 1.2438611\ttotal: 27.8s\tremaining: 7.67s\n",
      "784:\tlearn: 1.2436768\ttotal: 27.9s\tremaining: 7.63s\n",
      "785:\tlearn: 1.2436358\ttotal: 27.9s\tremaining: 7.59s\n",
      "786:\tlearn: 1.2435101\ttotal: 27.9s\tremaining: 7.56s\n",
      "787:\tlearn: 1.2434624\ttotal: 27.9s\tremaining: 7.52s\n",
      "788:\tlearn: 1.2434030\ttotal: 28s\tremaining: 7.48s\n",
      "789:\tlearn: 1.2433335\ttotal: 28s\tremaining: 7.44s\n",
      "790:\tlearn: 1.2432627\ttotal: 28s\tremaining: 7.41s\n",
      "791:\tlearn: 1.2431515\ttotal: 28.1s\tremaining: 7.37s\n",
      "792:\tlearn: 1.2431393\ttotal: 28.1s\tremaining: 7.33s\n",
      "793:\tlearn: 1.2430246\ttotal: 28.1s\tremaining: 7.29s\n",
      "794:\tlearn: 1.2428786\ttotal: 28.1s\tremaining: 7.26s\n",
      "795:\tlearn: 1.2426987\ttotal: 28.2s\tremaining: 7.22s\n",
      "796:\tlearn: 1.2426427\ttotal: 28.2s\tremaining: 7.18s\n",
      "797:\tlearn: 1.2426037\ttotal: 28.2s\tremaining: 7.14s\n",
      "798:\tlearn: 1.2425609\ttotal: 28.2s\tremaining: 7.11s\n",
      "799:\tlearn: 1.2424538\ttotal: 28.3s\tremaining: 7.07s\n",
      "800:\tlearn: 1.2423393\ttotal: 28.3s\tremaining: 7.03s\n",
      "801:\tlearn: 1.2422301\ttotal: 28.3s\tremaining: 6.99s\n",
      "802:\tlearn: 1.2421550\ttotal: 28.4s\tremaining: 6.96s\n",
      "803:\tlearn: 1.2420337\ttotal: 28.4s\tremaining: 6.92s\n",
      "804:\tlearn: 1.2418715\ttotal: 28.4s\tremaining: 6.88s\n",
      "805:\tlearn: 1.2417185\ttotal: 28.4s\tremaining: 6.84s\n",
      "806:\tlearn: 1.2414905\ttotal: 28.5s\tremaining: 6.8s\n",
      "807:\tlearn: 1.2414622\ttotal: 28.5s\tremaining: 6.77s\n",
      "808:\tlearn: 1.2413680\ttotal: 28.5s\tremaining: 6.73s\n",
      "809:\tlearn: 1.2413355\ttotal: 28.5s\tremaining: 6.69s\n",
      "810:\tlearn: 1.2412236\ttotal: 28.6s\tremaining: 6.66s\n",
      "811:\tlearn: 1.2410699\ttotal: 28.6s\tremaining: 6.62s\n",
      "812:\tlearn: 1.2409430\ttotal: 28.6s\tremaining: 6.58s\n",
      "813:\tlearn: 1.2408802\ttotal: 28.6s\tremaining: 6.54s\n",
      "814:\tlearn: 1.2408317\ttotal: 28.7s\tremaining: 6.51s\n",
      "815:\tlearn: 1.2407733\ttotal: 28.7s\tremaining: 6.47s\n",
      "816:\tlearn: 1.2407029\ttotal: 28.7s\tremaining: 6.43s\n",
      "817:\tlearn: 1.2406371\ttotal: 28.8s\tremaining: 6.4s\n",
      "818:\tlearn: 1.2406016\ttotal: 28.8s\tremaining: 6.36s\n",
      "819:\tlearn: 1.2405365\ttotal: 28.8s\tremaining: 6.33s\n",
      "820:\tlearn: 1.2403635\ttotal: 28.8s\tremaining: 6.29s\n",
      "821:\tlearn: 1.2403457\ttotal: 28.9s\tremaining: 6.25s\n",
      "822:\tlearn: 1.2402450\ttotal: 28.9s\tremaining: 6.21s\n",
      "823:\tlearn: 1.2401508\ttotal: 28.9s\tremaining: 6.18s\n",
      "824:\tlearn: 1.2400531\ttotal: 28.9s\tremaining: 6.14s\n",
      "825:\tlearn: 1.2399659\ttotal: 29s\tremaining: 6.1s\n",
      "826:\tlearn: 1.2398661\ttotal: 29s\tremaining: 6.07s\n",
      "827:\tlearn: 1.2396885\ttotal: 29s\tremaining: 6.03s\n",
      "828:\tlearn: 1.2395925\ttotal: 29.1s\tremaining: 5.99s\n",
      "829:\tlearn: 1.2395191\ttotal: 29.1s\tremaining: 5.96s\n",
      "830:\tlearn: 1.2394834\ttotal: 29.1s\tremaining: 5.92s\n",
      "831:\tlearn: 1.2394517\ttotal: 29.1s\tremaining: 5.88s\n",
      "832:\tlearn: 1.2393984\ttotal: 29.2s\tremaining: 5.84s\n",
      "833:\tlearn: 1.2393548\ttotal: 29.2s\tremaining: 5.81s\n",
      "834:\tlearn: 1.2393144\ttotal: 29.2s\tremaining: 5.77s\n",
      "835:\tlearn: 1.2392500\ttotal: 29.2s\tremaining: 5.74s\n",
      "836:\tlearn: 1.2391470\ttotal: 29.3s\tremaining: 5.7s\n",
      "837:\tlearn: 1.2390442\ttotal: 29.3s\tremaining: 5.66s\n",
      "838:\tlearn: 1.2389831\ttotal: 29.3s\tremaining: 5.62s\n",
      "839:\tlearn: 1.2388690\ttotal: 29.3s\tremaining: 5.59s\n",
      "840:\tlearn: 1.2388405\ttotal: 29.4s\tremaining: 5.55s\n",
      "841:\tlearn: 1.2387917\ttotal: 29.4s\tremaining: 5.51s\n",
      "842:\tlearn: 1.2387601\ttotal: 29.4s\tremaining: 5.48s\n",
      "843:\tlearn: 1.2386996\ttotal: 29.4s\tremaining: 5.44s\n",
      "844:\tlearn: 1.2386758\ttotal: 29.5s\tremaining: 5.41s\n",
      "845:\tlearn: 1.2386521\ttotal: 29.5s\tremaining: 5.37s\n",
      "846:\tlearn: 1.2386123\ttotal: 29.5s\tremaining: 5.33s\n",
      "847:\tlearn: 1.2385820\ttotal: 29.6s\tremaining: 5.3s\n",
      "848:\tlearn: 1.2384898\ttotal: 29.6s\tremaining: 5.26s\n",
      "849:\tlearn: 1.2384092\ttotal: 29.6s\tremaining: 5.22s\n",
      "850:\tlearn: 1.2382307\ttotal: 29.6s\tremaining: 5.19s\n",
      "851:\tlearn: 1.2381741\ttotal: 29.7s\tremaining: 5.15s\n",
      "852:\tlearn: 1.2380432\ttotal: 29.7s\tremaining: 5.12s\n",
      "853:\tlearn: 1.2379843\ttotal: 29.7s\tremaining: 5.08s\n",
      "854:\tlearn: 1.2379359\ttotal: 29.7s\tremaining: 5.04s\n",
      "855:\tlearn: 1.2378189\ttotal: 29.8s\tremaining: 5.01s\n",
      "856:\tlearn: 1.2377509\ttotal: 29.8s\tremaining: 4.97s\n",
      "857:\tlearn: 1.2377223\ttotal: 29.8s\tremaining: 4.93s\n",
      "858:\tlearn: 1.2376833\ttotal: 29.8s\tremaining: 4.9s\n",
      "859:\tlearn: 1.2376347\ttotal: 29.9s\tremaining: 4.86s\n",
      "860:\tlearn: 1.2375658\ttotal: 29.9s\tremaining: 4.83s\n",
      "861:\tlearn: 1.2374391\ttotal: 29.9s\tremaining: 4.79s\n",
      "862:\tlearn: 1.2372676\ttotal: 29.9s\tremaining: 4.75s\n",
      "863:\tlearn: 1.2372298\ttotal: 30s\tremaining: 4.72s\n",
      "864:\tlearn: 1.2371590\ttotal: 30s\tremaining: 4.68s\n",
      "865:\tlearn: 1.2371254\ttotal: 30s\tremaining: 4.65s\n",
      "866:\tlearn: 1.2370363\ttotal: 30.1s\tremaining: 4.61s\n",
      "867:\tlearn: 1.2369465\ttotal: 30.1s\tremaining: 4.57s\n",
      "868:\tlearn: 1.2369215\ttotal: 30.1s\tremaining: 4.54s\n",
      "869:\tlearn: 1.2368470\ttotal: 30.1s\tremaining: 4.5s\n",
      "870:\tlearn: 1.2367929\ttotal: 30.2s\tremaining: 4.47s\n",
      "871:\tlearn: 1.2367025\ttotal: 30.2s\tremaining: 4.43s\n",
      "872:\tlearn: 1.2366478\ttotal: 30.2s\tremaining: 4.4s\n",
      "873:\tlearn: 1.2364401\ttotal: 30.2s\tremaining: 4.36s\n",
      "874:\tlearn: 1.2363377\ttotal: 30.3s\tremaining: 4.33s\n",
      "875:\tlearn: 1.2361829\ttotal: 30.3s\tremaining: 4.29s\n",
      "876:\tlearn: 1.2361635\ttotal: 30.3s\tremaining: 4.25s\n",
      "877:\tlearn: 1.2360945\ttotal: 30.4s\tremaining: 4.22s\n",
      "878:\tlearn: 1.2359323\ttotal: 30.4s\tremaining: 4.18s\n",
      "879:\tlearn: 1.2357716\ttotal: 30.4s\tremaining: 4.15s\n",
      "880:\tlearn: 1.2356665\ttotal: 30.4s\tremaining: 4.11s\n",
      "881:\tlearn: 1.2356075\ttotal: 30.5s\tremaining: 4.08s\n",
      "882:\tlearn: 1.2355237\ttotal: 30.5s\tremaining: 4.04s\n",
      "883:\tlearn: 1.2354644\ttotal: 30.5s\tremaining: 4.01s\n",
      "884:\tlearn: 1.2354289\ttotal: 30.6s\tremaining: 3.97s\n",
      "885:\tlearn: 1.2352397\ttotal: 30.6s\tremaining: 3.94s\n",
      "886:\tlearn: 1.2352142\ttotal: 30.6s\tremaining: 3.9s\n",
      "887:\tlearn: 1.2351671\ttotal: 30.7s\tremaining: 3.87s\n",
      "888:\tlearn: 1.2351034\ttotal: 30.7s\tremaining: 3.83s\n",
      "889:\tlearn: 1.2350452\ttotal: 30.7s\tremaining: 3.8s\n",
      "890:\tlearn: 1.2349928\ttotal: 30.8s\tremaining: 3.77s\n",
      "891:\tlearn: 1.2349539\ttotal: 30.8s\tremaining: 3.73s\n",
      "892:\tlearn: 1.2348420\ttotal: 30.9s\tremaining: 3.7s\n",
      "893:\tlearn: 1.2347511\ttotal: 30.9s\tremaining: 3.66s\n",
      "894:\tlearn: 1.2346163\ttotal: 30.9s\tremaining: 3.63s\n",
      "895:\tlearn: 1.2345204\ttotal: 31s\tremaining: 3.59s\n",
      "896:\tlearn: 1.2344165\ttotal: 31s\tremaining: 3.56s\n",
      "897:\tlearn: 1.2342796\ttotal: 31s\tremaining: 3.52s\n",
      "898:\tlearn: 1.2341288\ttotal: 31s\tremaining: 3.49s\n",
      "899:\tlearn: 1.2340403\ttotal: 31.1s\tremaining: 3.45s\n",
      "900:\tlearn: 1.2339261\ttotal: 31.1s\tremaining: 3.42s\n",
      "901:\tlearn: 1.2338125\ttotal: 31.1s\tremaining: 3.38s\n",
      "902:\tlearn: 1.2337485\ttotal: 31.2s\tremaining: 3.35s\n",
      "903:\tlearn: 1.2337089\ttotal: 31.2s\tremaining: 3.31s\n",
      "904:\tlearn: 1.2335468\ttotal: 31.2s\tremaining: 3.27s\n",
      "905:\tlearn: 1.2334089\ttotal: 31.2s\tremaining: 3.24s\n",
      "906:\tlearn: 1.2332302\ttotal: 31.3s\tremaining: 3.2s\n",
      "907:\tlearn: 1.2331370\ttotal: 31.3s\tremaining: 3.17s\n",
      "908:\tlearn: 1.2330912\ttotal: 31.3s\tremaining: 3.13s\n",
      "909:\tlearn: 1.2330623\ttotal: 31.3s\tremaining: 3.1s\n",
      "910:\tlearn: 1.2330222\ttotal: 31.4s\tremaining: 3.06s\n",
      "911:\tlearn: 1.2329577\ttotal: 31.4s\tremaining: 3.03s\n",
      "912:\tlearn: 1.2329106\ttotal: 31.4s\tremaining: 2.99s\n",
      "913:\tlearn: 1.2328372\ttotal: 31.4s\tremaining: 2.96s\n",
      "914:\tlearn: 1.2327514\ttotal: 31.5s\tremaining: 2.92s\n",
      "915:\tlearn: 1.2325392\ttotal: 31.5s\tremaining: 2.89s\n",
      "916:\tlearn: 1.2324210\ttotal: 31.5s\tremaining: 2.85s\n",
      "917:\tlearn: 1.2323477\ttotal: 31.5s\tremaining: 2.82s\n",
      "918:\tlearn: 1.2322893\ttotal: 31.6s\tremaining: 2.78s\n",
      "919:\tlearn: 1.2322029\ttotal: 31.6s\tremaining: 2.75s\n",
      "920:\tlearn: 1.2320344\ttotal: 31.6s\tremaining: 2.71s\n",
      "921:\tlearn: 1.2320026\ttotal: 31.7s\tremaining: 2.68s\n",
      "922:\tlearn: 1.2318822\ttotal: 31.7s\tremaining: 2.64s\n",
      "923:\tlearn: 1.2318129\ttotal: 31.7s\tremaining: 2.61s\n",
      "924:\tlearn: 1.2317606\ttotal: 31.7s\tremaining: 2.57s\n",
      "925:\tlearn: 1.2316896\ttotal: 31.8s\tremaining: 2.54s\n",
      "926:\tlearn: 1.2316273\ttotal: 31.8s\tremaining: 2.5s\n",
      "927:\tlearn: 1.2315205\ttotal: 31.8s\tremaining: 2.47s\n",
      "928:\tlearn: 1.2313245\ttotal: 31.8s\tremaining: 2.43s\n",
      "929:\tlearn: 1.2312774\ttotal: 31.9s\tremaining: 2.4s\n",
      "930:\tlearn: 1.2312605\ttotal: 31.9s\tremaining: 2.36s\n",
      "931:\tlearn: 1.2312167\ttotal: 31.9s\tremaining: 2.33s\n",
      "932:\tlearn: 1.2310914\ttotal: 31.9s\tremaining: 2.29s\n",
      "933:\tlearn: 1.2310115\ttotal: 32s\tremaining: 2.26s\n",
      "934:\tlearn: 1.2309155\ttotal: 32s\tremaining: 2.22s\n",
      "935:\tlearn: 1.2308675\ttotal: 32s\tremaining: 2.19s\n",
      "936:\tlearn: 1.2308469\ttotal: 32.1s\tremaining: 2.15s\n",
      "937:\tlearn: 1.2307523\ttotal: 32.1s\tremaining: 2.12s\n",
      "938:\tlearn: 1.2307088\ttotal: 32.1s\tremaining: 2.08s\n",
      "939:\tlearn: 1.2305579\ttotal: 32.1s\tremaining: 2.05s\n",
      "940:\tlearn: 1.2304539\ttotal: 32.2s\tremaining: 2.02s\n",
      "941:\tlearn: 1.2303994\ttotal: 32.2s\tremaining: 1.98s\n",
      "942:\tlearn: 1.2303430\ttotal: 32.2s\tremaining: 1.95s\n",
      "943:\tlearn: 1.2302727\ttotal: 32.2s\tremaining: 1.91s\n",
      "944:\tlearn: 1.2300712\ttotal: 32.3s\tremaining: 1.88s\n",
      "945:\tlearn: 1.2299932\ttotal: 32.3s\tremaining: 1.84s\n",
      "946:\tlearn: 1.2299325\ttotal: 32.3s\tremaining: 1.81s\n",
      "947:\tlearn: 1.2299142\ttotal: 32.4s\tremaining: 1.77s\n",
      "948:\tlearn: 1.2298059\ttotal: 32.4s\tremaining: 1.74s\n",
      "949:\tlearn: 1.2295863\ttotal: 32.4s\tremaining: 1.71s\n",
      "950:\tlearn: 1.2295135\ttotal: 32.5s\tremaining: 1.67s\n",
      "951:\tlearn: 1.2294819\ttotal: 32.5s\tremaining: 1.64s\n",
      "952:\tlearn: 1.2294181\ttotal: 32.5s\tremaining: 1.6s\n",
      "953:\tlearn: 1.2293728\ttotal: 32.5s\tremaining: 1.57s\n",
      "954:\tlearn: 1.2293569\ttotal: 32.6s\tremaining: 1.53s\n",
      "955:\tlearn: 1.2293193\ttotal: 32.6s\tremaining: 1.5s\n",
      "956:\tlearn: 1.2292930\ttotal: 32.6s\tremaining: 1.47s\n",
      "957:\tlearn: 1.2292565\ttotal: 32.7s\tremaining: 1.43s\n",
      "958:\tlearn: 1.2291861\ttotal: 32.7s\tremaining: 1.4s\n",
      "959:\tlearn: 1.2290127\ttotal: 32.7s\tremaining: 1.36s\n",
      "960:\tlearn: 1.2288380\ttotal: 32.7s\tremaining: 1.33s\n",
      "961:\tlearn: 1.2287260\ttotal: 32.8s\tremaining: 1.29s\n",
      "962:\tlearn: 1.2286910\ttotal: 32.8s\tremaining: 1.26s\n",
      "963:\tlearn: 1.2286081\ttotal: 32.8s\tremaining: 1.23s\n",
      "964:\tlearn: 1.2284823\ttotal: 32.8s\tremaining: 1.19s\n",
      "965:\tlearn: 1.2284332\ttotal: 32.9s\tremaining: 1.16s\n",
      "966:\tlearn: 1.2284037\ttotal: 32.9s\tremaining: 1.12s\n",
      "967:\tlearn: 1.2283248\ttotal: 32.9s\tremaining: 1.09s\n",
      "968:\tlearn: 1.2283042\ttotal: 33s\tremaining: 1.05s\n",
      "969:\tlearn: 1.2282693\ttotal: 33s\tremaining: 1.02s\n",
      "970:\tlearn: 1.2282336\ttotal: 33s\tremaining: 986ms\n",
      "971:\tlearn: 1.2281918\ttotal: 33s\tremaining: 952ms\n",
      "972:\tlearn: 1.2281532\ttotal: 33.1s\tremaining: 917ms\n",
      "973:\tlearn: 1.2280836\ttotal: 33.1s\tremaining: 883ms\n",
      "974:\tlearn: 1.2279673\ttotal: 33.1s\tremaining: 849ms\n",
      "975:\tlearn: 1.2279369\ttotal: 33.1s\tremaining: 815ms\n",
      "976:\tlearn: 1.2278797\ttotal: 33.2s\tremaining: 781ms\n",
      "977:\tlearn: 1.2278395\ttotal: 33.2s\tremaining: 747ms\n",
      "978:\tlearn: 1.2278152\ttotal: 33.2s\tremaining: 713ms\n",
      "979:\tlearn: 1.2277516\ttotal: 33.3s\tremaining: 679ms\n",
      "980:\tlearn: 1.2275819\ttotal: 33.3s\tremaining: 645ms\n",
      "981:\tlearn: 1.2275676\ttotal: 33.3s\tremaining: 611ms\n",
      "982:\tlearn: 1.2275533\ttotal: 33.3s\tremaining: 577ms\n",
      "983:\tlearn: 1.2274493\ttotal: 33.4s\tremaining: 543ms\n",
      "984:\tlearn: 1.2274037\ttotal: 33.4s\tremaining: 509ms\n",
      "985:\tlearn: 1.2273819\ttotal: 33.4s\tremaining: 475ms\n",
      "986:\tlearn: 1.2273452\ttotal: 33.5s\tremaining: 441ms\n",
      "987:\tlearn: 1.2272036\ttotal: 33.5s\tremaining: 407ms\n",
      "988:\tlearn: 1.2271503\ttotal: 33.5s\tremaining: 373ms\n",
      "989:\tlearn: 1.2270879\ttotal: 33.6s\tremaining: 339ms\n",
      "990:\tlearn: 1.2270501\ttotal: 33.6s\tremaining: 305ms\n",
      "991:\tlearn: 1.2268834\ttotal: 33.6s\tremaining: 271ms\n",
      "992:\tlearn: 1.2268616\ttotal: 33.6s\tremaining: 237ms\n",
      "993:\tlearn: 1.2268177\ttotal: 33.7s\tremaining: 203ms\n",
      "994:\tlearn: 1.2267921\ttotal: 33.7s\tremaining: 169ms\n",
      "995:\tlearn: 1.2267482\ttotal: 33.7s\tremaining: 135ms\n",
      "996:\tlearn: 1.2267243\ttotal: 33.8s\tremaining: 102ms\n",
      "997:\tlearn: 1.2266467\ttotal: 33.8s\tremaining: 67.7ms\n",
      "998:\tlearn: 1.2265949\ttotal: 33.8s\tremaining: 33.8ms\n",
      "999:\tlearn: 1.2265610\ttotal: 33.8s\tremaining: 0us\n"
     ]
    },
    {
     "data": {
      "text/plain": [
       "<catboost.core.CatBoostRegressor at 0x22ce39a8910>"
      ]
     },
     "execution_count": 42,
     "metadata": {},
     "output_type": "execute_result"
    }
   ],
   "source": [
    "from catboost import CatBoostRegressor\n",
    "\n",
    "cbr=CatBoostRegressor(random_state=42,verbose=1,loss_function='MAE',eval_metric='MAE',iterations=12000)\n",
    "\n",
    "cbr.fit(xtrain,ytrain)"
   ]
  },
  {
   "cell_type": "code",
   "execution_count": 43,
   "metadata": {},
   "outputs": [
    {
     "data": {
      "text/plain": [
       "0.62017760234003"
      ]
     },
     "execution_count": 43,
     "metadata": {},
     "output_type": "execute_result"
    }
   ],
   "source": [
    "cbr.score(xtrain,ytrain)"
   ]
  },
  {
   "cell_type": "code",
   "execution_count": 44,
   "metadata": {},
   "outputs": [
    {
     "data": {
      "text/plain": [
       "0.5750367610139822"
      ]
     },
     "execution_count": 44,
     "metadata": {},
     "output_type": "execute_result"
    }
   ],
   "source": [
    "cbr.score(xtest,ytest)"
   ]
  },
  {
   "cell_type": "code",
   "execution_count": 45,
   "metadata": {},
   "outputs": [
    {
     "data": {
      "text/plain": [
       "62943"
      ]
     },
     "execution_count": 45,
     "metadata": {},
     "output_type": "execute_result"
    }
   ],
   "source": [
    "len(xtrain)"
   ]
  },
  {
   "cell_type": "code",
   "execution_count": 47,
   "metadata": {},
   "outputs": [
    {
     "data": {
      "text/plain": [
       "{'simple: ': 1.3607937219920156,\n",
       " 'Rounded: ': 1.3427259632697155,\n",
       " 'truncated: ': 1.4296903132877206}"
      ]
     },
     "execution_count": 47,
     "metadata": {},
     "output_type": "execute_result"
    }
   ],
   "source": [
    "mae(xtest,ytest,cbr)"
   ]
  },
  {
   "attachments": {},
   "cell_type": "markdown",
   "metadata": {},
   "source": [
    "## LightGBM"
   ]
  },
  {
   "cell_type": "code",
   "execution_count": 39,
   "metadata": {},
   "outputs": [
    {
     "data": {
      "text/html": [
       "<style>#sk-container-id-2 {color: black;background-color: white;}#sk-container-id-2 pre{padding: 0;}#sk-container-id-2 div.sk-toggleable {background-color: white;}#sk-container-id-2 label.sk-toggleable__label {cursor: pointer;display: block;width: 100%;margin-bottom: 0;padding: 0.3em;box-sizing: border-box;text-align: center;}#sk-container-id-2 label.sk-toggleable__label-arrow:before {content: \"▸\";float: left;margin-right: 0.25em;color: #696969;}#sk-container-id-2 label.sk-toggleable__label-arrow:hover:before {color: black;}#sk-container-id-2 div.sk-estimator:hover label.sk-toggleable__label-arrow:before {color: black;}#sk-container-id-2 div.sk-toggleable__content {max-height: 0;max-width: 0;overflow: hidden;text-align: left;background-color: #f0f8ff;}#sk-container-id-2 div.sk-toggleable__content pre {margin: 0.2em;color: black;border-radius: 0.25em;background-color: #f0f8ff;}#sk-container-id-2 input.sk-toggleable__control:checked~div.sk-toggleable__content {max-height: 200px;max-width: 100%;overflow: auto;}#sk-container-id-2 input.sk-toggleable__control:checked~label.sk-toggleable__label-arrow:before {content: \"▾\";}#sk-container-id-2 div.sk-estimator input.sk-toggleable__control:checked~label.sk-toggleable__label {background-color: #d4ebff;}#sk-container-id-2 div.sk-label input.sk-toggleable__control:checked~label.sk-toggleable__label {background-color: #d4ebff;}#sk-container-id-2 input.sk-hidden--visually {border: 0;clip: rect(1px 1px 1px 1px);clip: rect(1px, 1px, 1px, 1px);height: 1px;margin: -1px;overflow: hidden;padding: 0;position: absolute;width: 1px;}#sk-container-id-2 div.sk-estimator {font-family: monospace;background-color: #f0f8ff;border: 1px dotted black;border-radius: 0.25em;box-sizing: border-box;margin-bottom: 0.5em;}#sk-container-id-2 div.sk-estimator:hover {background-color: #d4ebff;}#sk-container-id-2 div.sk-parallel-item::after {content: \"\";width: 100%;border-bottom: 1px solid gray;flex-grow: 1;}#sk-container-id-2 div.sk-label:hover label.sk-toggleable__label {background-color: #d4ebff;}#sk-container-id-2 div.sk-serial::before {content: \"\";position: absolute;border-left: 1px solid gray;box-sizing: border-box;top: 0;bottom: 0;left: 50%;z-index: 0;}#sk-container-id-2 div.sk-serial {display: flex;flex-direction: column;align-items: center;background-color: white;padding-right: 0.2em;padding-left: 0.2em;position: relative;}#sk-container-id-2 div.sk-item {position: relative;z-index: 1;}#sk-container-id-2 div.sk-parallel {display: flex;align-items: stretch;justify-content: center;background-color: white;position: relative;}#sk-container-id-2 div.sk-item::before, #sk-container-id-2 div.sk-parallel-item::before {content: \"\";position: absolute;border-left: 1px solid gray;box-sizing: border-box;top: 0;bottom: 0;left: 50%;z-index: -1;}#sk-container-id-2 div.sk-parallel-item {display: flex;flex-direction: column;z-index: 1;position: relative;background-color: white;}#sk-container-id-2 div.sk-parallel-item:first-child::after {align-self: flex-end;width: 50%;}#sk-container-id-2 div.sk-parallel-item:last-child::after {align-self: flex-start;width: 50%;}#sk-container-id-2 div.sk-parallel-item:only-child::after {width: 0;}#sk-container-id-2 div.sk-dashed-wrapped {border: 1px dashed gray;margin: 0 0.4em 0.5em 0.4em;box-sizing: border-box;padding-bottom: 0.4em;background-color: white;}#sk-container-id-2 div.sk-label label {font-family: monospace;font-weight: bold;display: inline-block;line-height: 1.2em;}#sk-container-id-2 div.sk-label-container {text-align: center;}#sk-container-id-2 div.sk-container {/* jupyter's `normalize.less` sets `[hidden] { display: none; }` but bootstrap.min.css set `[hidden] { display: none !important; }` so we also need the `!important` here to be able to override the default hidden behavior on the sphinx rendered scikit-learn.org. See: https://github.com/scikit-learn/scikit-learn/issues/21755 */display: inline-block !important;position: relative;}#sk-container-id-2 div.sk-text-repr-fallback {display: none;}</style><div id=\"sk-container-id-2\" class=\"sk-top-container\"><div class=\"sk-text-repr-fallback\"><pre>LGBMRegressor(colsample_bytree=0.8, learning_rate=0.01, max_depth=15,\n",
       "              n_estimators=1000, num_leaves=105, objective=&#x27;mae&#x27;,\n",
       "              random_state=42, reg_alpha=8, reg_lambda=3, subsample=0.6)</pre><b>In a Jupyter environment, please rerun this cell to show the HTML representation or trust the notebook. <br />On GitHub, the HTML representation is unable to render, please try loading this page with nbviewer.org.</b></div><div class=\"sk-container\" hidden><div class=\"sk-item\"><div class=\"sk-estimator sk-toggleable\"><input class=\"sk-toggleable__control sk-hidden--visually\" id=\"sk-estimator-id-2\" type=\"checkbox\" checked><label for=\"sk-estimator-id-2\" class=\"sk-toggleable__label sk-toggleable__label-arrow\">LGBMRegressor</label><div class=\"sk-toggleable__content\"><pre>LGBMRegressor(colsample_bytree=0.8, learning_rate=0.01, max_depth=15,\n",
       "              n_estimators=1000, num_leaves=105, objective=&#x27;mae&#x27;,\n",
       "              random_state=42, reg_alpha=8, reg_lambda=3, subsample=0.6)</pre></div></div></div></div></div>"
      ],
      "text/plain": [
       "LGBMRegressor(colsample_bytree=0.8, learning_rate=0.01, max_depth=15,\n",
       "              n_estimators=1000, num_leaves=105, objective='mae',\n",
       "              random_state=42, reg_alpha=8, reg_lambda=3, subsample=0.6)"
      ]
     },
     "execution_count": 39,
     "metadata": {},
     "output_type": "execute_result"
    }
   ],
   "source": [
    "from lightgbm import LGBMRegressor\n",
    "\n",
    "lgb_params={'objective': 'mae',\n",
    "            'n_estimators': 1000,\n",
    "            'max_depth': 15,\n",
    "            'learning_rate': 0.01,\n",
    "            'num_leaves': 105,\n",
    "            'reg_alpha': 8,\n",
    "            'reg_lambda': 3,\n",
    "            'subsample': 0.6,\n",
    "            'colsample_bytree': 0.8,\n",
    "            'random_state': 42,\n",
    "            'n_jobs': -1}\n",
    "\n",
    "\n",
    "lgb=LGBMRegressor(**lgb_params)\n",
    "lgb.fit(xtrain,ytrain)\n"
   ]
  },
  {
   "cell_type": "code",
   "execution_count": 40,
   "metadata": {},
   "outputs": [
    {
     "data": {
      "text/plain": [
       "0.5755946636817624"
      ]
     },
     "execution_count": 40,
     "metadata": {},
     "output_type": "execute_result"
    }
   ],
   "source": [
    "lgb.score(xtest,ytest)"
   ]
  },
  {
   "cell_type": "code",
   "execution_count": 41,
   "metadata": {},
   "outputs": [
    {
     "data": {
      "text/plain": [
       "{'simple: ': 1.3536787023600356,\n",
       " 'Rounded: ': 1.3438062657544112,\n",
       " 'truncated: ': 1.4192473892689954}"
      ]
     },
     "execution_count": 41,
     "metadata": {},
     "output_type": "execute_result"
    }
   ],
   "source": [
    "mae(xtest,ytest,lgb)"
   ]
  },
  {
   "attachments": {},
   "cell_type": "markdown",
   "metadata": {},
   "source": [
    "## Voting Classifier"
   ]
  },
  {
   "cell_type": "code",
   "execution_count": 61,
   "metadata": {},
   "outputs": [
    {
     "ename": "KeyboardInterrupt",
     "evalue": "",
     "output_type": "error",
     "traceback": [
      "\u001b[1;31m---------------------------------------------------------------------------\u001b[0m",
      "\u001b[1;31mKeyboardInterrupt\u001b[0m                         Traceback (most recent call last)",
      "Cell \u001b[1;32mIn[61], line 7\u001b[0m\n\u001b[0;32m      1\u001b[0m \u001b[39mfrom\u001b[39;00m \u001b[39msklearn\u001b[39;00m\u001b[39m.\u001b[39;00m\u001b[39mensemble\u001b[39;00m \u001b[39mimport\u001b[39;00m VotingRegressor\n\u001b[0;32m      3\u001b[0m vc \u001b[39m=\u001b[39m VotingRegressor([(\u001b[39m'\u001b[39m\u001b[39mxgboost\u001b[39m\u001b[39m'\u001b[39m,XGBRegressor(\u001b[39m*\u001b[39m\u001b[39m*\u001b[39mxgb_params)),\n\u001b[0;32m      4\u001b[0m                             (\u001b[39m'\u001b[39m\u001b[39mrf\u001b[39m\u001b[39m'\u001b[39m,LGBMRegressor(random_state\u001b[39m=\u001b[39m\u001b[39m42\u001b[39m,objective\u001b[39m=\u001b[39m\u001b[39m'\u001b[39m\u001b[39mmae\u001b[39m\u001b[39m'\u001b[39m,n_estimators\u001b[39m=\u001b[39m\u001b[39m5000\u001b[39m,n_jobs\u001b[39m=\u001b[39m\u001b[39m-\u001b[39m\u001b[39m1\u001b[39m,learning_rate\u001b[39m=\u001b[39m\u001b[39m0.01\u001b[39m)),\n\u001b[0;32m      5\u001b[0m                             (\u001b[39m'\u001b[39m\u001b[39mcbr\u001b[39m\u001b[39m'\u001b[39m,CatBoostRegressor(random_state\u001b[39m=\u001b[39m\u001b[39m42\u001b[39m,verbose\u001b[39m=\u001b[39m\u001b[39m1\u001b[39m,loss_function\u001b[39m=\u001b[39m\u001b[39m'\u001b[39m\u001b[39mMAE\u001b[39m\u001b[39m'\u001b[39m,eval_metric\u001b[39m=\u001b[39m\u001b[39m'\u001b[39m\u001b[39mMAE\u001b[39m\u001b[39m'\u001b[39m,iterations\u001b[39m=\u001b[39m\u001b[39m15000\u001b[39m))],n_jobs\u001b[39m=\u001b[39m\u001b[39m-\u001b[39m\u001b[39m1\u001b[39m)\n\u001b[1;32m----> 7\u001b[0m vc\u001b[39m.\u001b[39;49mfit(xtrain,ytrain)\n",
      "File \u001b[1;32mc:\\Users\\rafay\\anaconda3\\lib\\site-packages\\sklearn\\ensemble\\_voting.py:598\u001b[0m, in \u001b[0;36mVotingRegressor.fit\u001b[1;34m(self, X, y, sample_weight)\u001b[0m\n\u001b[0;32m    596\u001b[0m \u001b[39mself\u001b[39m\u001b[39m.\u001b[39m_validate_params()\n\u001b[0;32m    597\u001b[0m y \u001b[39m=\u001b[39m column_or_1d(y, warn\u001b[39m=\u001b[39m\u001b[39mTrue\u001b[39;00m)\n\u001b[1;32m--> 598\u001b[0m \u001b[39mreturn\u001b[39;00m \u001b[39msuper\u001b[39;49m()\u001b[39m.\u001b[39;49mfit(X, y, sample_weight)\n",
      "File \u001b[1;32mc:\\Users\\rafay\\anaconda3\\lib\\site-packages\\sklearn\\ensemble\\_voting.py:81\u001b[0m, in \u001b[0;36m_BaseVoting.fit\u001b[1;34m(self, X, y, sample_weight)\u001b[0m\n\u001b[0;32m     75\u001b[0m \u001b[39mif\u001b[39;00m \u001b[39mself\u001b[39m\u001b[39m.\u001b[39mweights \u001b[39mis\u001b[39;00m \u001b[39mnot\u001b[39;00m \u001b[39mNone\u001b[39;00m \u001b[39mand\u001b[39;00m \u001b[39mlen\u001b[39m(\u001b[39mself\u001b[39m\u001b[39m.\u001b[39mweights) \u001b[39m!=\u001b[39m \u001b[39mlen\u001b[39m(\u001b[39mself\u001b[39m\u001b[39m.\u001b[39mestimators):\n\u001b[0;32m     76\u001b[0m     \u001b[39mraise\u001b[39;00m \u001b[39mValueError\u001b[39;00m(\n\u001b[0;32m     77\u001b[0m         \u001b[39m\"\u001b[39m\u001b[39mNumber of `estimators` and weights must be equal; got\u001b[39m\u001b[39m\"\u001b[39m\n\u001b[0;32m     78\u001b[0m         \u001b[39mf\u001b[39m\u001b[39m\"\u001b[39m\u001b[39m \u001b[39m\u001b[39m{\u001b[39;00m\u001b[39mlen\u001b[39m(\u001b[39mself\u001b[39m\u001b[39m.\u001b[39mweights)\u001b[39m}\u001b[39;00m\u001b[39m weights, \u001b[39m\u001b[39m{\u001b[39;00m\u001b[39mlen\u001b[39m(\u001b[39mself\u001b[39m\u001b[39m.\u001b[39mestimators)\u001b[39m}\u001b[39;00m\u001b[39m estimators\u001b[39m\u001b[39m\"\u001b[39m\n\u001b[0;32m     79\u001b[0m     )\n\u001b[1;32m---> 81\u001b[0m \u001b[39mself\u001b[39m\u001b[39m.\u001b[39mestimators_ \u001b[39m=\u001b[39m Parallel(n_jobs\u001b[39m=\u001b[39;49m\u001b[39mself\u001b[39;49m\u001b[39m.\u001b[39;49mn_jobs)(\n\u001b[0;32m     82\u001b[0m     delayed(_fit_single_estimator)(\n\u001b[0;32m     83\u001b[0m         clone(clf),\n\u001b[0;32m     84\u001b[0m         X,\n\u001b[0;32m     85\u001b[0m         y,\n\u001b[0;32m     86\u001b[0m         sample_weight\u001b[39m=\u001b[39;49msample_weight,\n\u001b[0;32m     87\u001b[0m         message_clsname\u001b[39m=\u001b[39;49m\u001b[39m\"\u001b[39;49m\u001b[39mVoting\u001b[39;49m\u001b[39m\"\u001b[39;49m,\n\u001b[0;32m     88\u001b[0m         message\u001b[39m=\u001b[39;49m\u001b[39mself\u001b[39;49m\u001b[39m.\u001b[39;49m_log_message(names[idx], idx \u001b[39m+\u001b[39;49m \u001b[39m1\u001b[39;49m, \u001b[39mlen\u001b[39;49m(clfs)),\n\u001b[0;32m     89\u001b[0m     )\n\u001b[0;32m     90\u001b[0m     \u001b[39mfor\u001b[39;49;00m idx, clf \u001b[39min\u001b[39;49;00m \u001b[39menumerate\u001b[39;49m(clfs)\n\u001b[0;32m     91\u001b[0m     \u001b[39mif\u001b[39;49;00m clf \u001b[39m!=\u001b[39;49m \u001b[39m\"\u001b[39;49m\u001b[39mdrop\u001b[39;49m\u001b[39m\"\u001b[39;49m\n\u001b[0;32m     92\u001b[0m )\n\u001b[0;32m     94\u001b[0m \u001b[39mself\u001b[39m\u001b[39m.\u001b[39mnamed_estimators_ \u001b[39m=\u001b[39m Bunch()\n\u001b[0;32m     96\u001b[0m \u001b[39m# Uses 'drop' as placeholder for dropped estimators\u001b[39;00m\n",
      "File \u001b[1;32mc:\\Users\\rafay\\anaconda3\\lib\\site-packages\\sklearn\\utils\\parallel.py:63\u001b[0m, in \u001b[0;36mParallel.__call__\u001b[1;34m(self, iterable)\u001b[0m\n\u001b[0;32m     58\u001b[0m config \u001b[39m=\u001b[39m get_config()\n\u001b[0;32m     59\u001b[0m iterable_with_config \u001b[39m=\u001b[39m (\n\u001b[0;32m     60\u001b[0m     (_with_config(delayed_func, config), args, kwargs)\n\u001b[0;32m     61\u001b[0m     \u001b[39mfor\u001b[39;00m delayed_func, args, kwargs \u001b[39min\u001b[39;00m iterable\n\u001b[0;32m     62\u001b[0m )\n\u001b[1;32m---> 63\u001b[0m \u001b[39mreturn\u001b[39;00m \u001b[39msuper\u001b[39;49m()\u001b[39m.\u001b[39;49m\u001b[39m__call__\u001b[39;49m(iterable_with_config)\n",
      "File \u001b[1;32mc:\\Users\\rafay\\anaconda3\\lib\\site-packages\\joblib\\parallel.py:1061\u001b[0m, in \u001b[0;36mParallel.__call__\u001b[1;34m(self, iterable)\u001b[0m\n\u001b[0;32m   1058\u001b[0m     \u001b[39mself\u001b[39m\u001b[39m.\u001b[39m_iterating \u001b[39m=\u001b[39m \u001b[39mFalse\u001b[39;00m\n\u001b[0;32m   1060\u001b[0m \u001b[39mwith\u001b[39;00m \u001b[39mself\u001b[39m\u001b[39m.\u001b[39m_backend\u001b[39m.\u001b[39mretrieval_context():\n\u001b[1;32m-> 1061\u001b[0m     \u001b[39mself\u001b[39;49m\u001b[39m.\u001b[39;49mretrieve()\n\u001b[0;32m   1062\u001b[0m \u001b[39m# Make sure that we get a last message telling us we are done\u001b[39;00m\n\u001b[0;32m   1063\u001b[0m elapsed_time \u001b[39m=\u001b[39m time\u001b[39m.\u001b[39mtime() \u001b[39m-\u001b[39m \u001b[39mself\u001b[39m\u001b[39m.\u001b[39m_start_time\n",
      "File \u001b[1;32mc:\\Users\\rafay\\anaconda3\\lib\\site-packages\\joblib\\parallel.py:938\u001b[0m, in \u001b[0;36mParallel.retrieve\u001b[1;34m(self)\u001b[0m\n\u001b[0;32m    936\u001b[0m \u001b[39mtry\u001b[39;00m:\n\u001b[0;32m    937\u001b[0m     \u001b[39mif\u001b[39;00m \u001b[39mgetattr\u001b[39m(\u001b[39mself\u001b[39m\u001b[39m.\u001b[39m_backend, \u001b[39m'\u001b[39m\u001b[39msupports_timeout\u001b[39m\u001b[39m'\u001b[39m, \u001b[39mFalse\u001b[39;00m):\n\u001b[1;32m--> 938\u001b[0m         \u001b[39mself\u001b[39m\u001b[39m.\u001b[39m_output\u001b[39m.\u001b[39mextend(job\u001b[39m.\u001b[39;49mget(timeout\u001b[39m=\u001b[39;49m\u001b[39mself\u001b[39;49m\u001b[39m.\u001b[39;49mtimeout))\n\u001b[0;32m    939\u001b[0m     \u001b[39melse\u001b[39;00m:\n\u001b[0;32m    940\u001b[0m         \u001b[39mself\u001b[39m\u001b[39m.\u001b[39m_output\u001b[39m.\u001b[39mextend(job\u001b[39m.\u001b[39mget())\n",
      "File \u001b[1;32mc:\\Users\\rafay\\anaconda3\\lib\\site-packages\\joblib\\_parallel_backends.py:542\u001b[0m, in \u001b[0;36mLokyBackend.wrap_future_result\u001b[1;34m(future, timeout)\u001b[0m\n\u001b[0;32m    539\u001b[0m \u001b[39m\"\"\"Wrapper for Future.result to implement the same behaviour as\u001b[39;00m\n\u001b[0;32m    540\u001b[0m \u001b[39mAsyncResults.get from multiprocessing.\"\"\"\u001b[39;00m\n\u001b[0;32m    541\u001b[0m \u001b[39mtry\u001b[39;00m:\n\u001b[1;32m--> 542\u001b[0m     \u001b[39mreturn\u001b[39;00m future\u001b[39m.\u001b[39;49mresult(timeout\u001b[39m=\u001b[39;49mtimeout)\n\u001b[0;32m    543\u001b[0m \u001b[39mexcept\u001b[39;00m CfTimeoutError \u001b[39mas\u001b[39;00m e:\n\u001b[0;32m    544\u001b[0m     \u001b[39mraise\u001b[39;00m \u001b[39mTimeoutError\u001b[39;00m \u001b[39mfrom\u001b[39;00m \u001b[39me\u001b[39;00m\n",
      "File \u001b[1;32mc:\\Users\\rafay\\anaconda3\\lib\\concurrent\\futures\\_base.py:441\u001b[0m, in \u001b[0;36mFuture.result\u001b[1;34m(self, timeout)\u001b[0m\n\u001b[0;32m    438\u001b[0m \u001b[39melif\u001b[39;00m \u001b[39mself\u001b[39m\u001b[39m.\u001b[39m_state \u001b[39m==\u001b[39m FINISHED:\n\u001b[0;32m    439\u001b[0m     \u001b[39mreturn\u001b[39;00m \u001b[39mself\u001b[39m\u001b[39m.\u001b[39m__get_result()\n\u001b[1;32m--> 441\u001b[0m \u001b[39mself\u001b[39;49m\u001b[39m.\u001b[39;49m_condition\u001b[39m.\u001b[39;49mwait(timeout)\n\u001b[0;32m    443\u001b[0m \u001b[39mif\u001b[39;00m \u001b[39mself\u001b[39m\u001b[39m.\u001b[39m_state \u001b[39min\u001b[39;00m [CANCELLED, CANCELLED_AND_NOTIFIED]:\n\u001b[0;32m    444\u001b[0m     \u001b[39mraise\u001b[39;00m CancelledError()\n",
      "File \u001b[1;32mc:\\Users\\rafay\\anaconda3\\lib\\threading.py:312\u001b[0m, in \u001b[0;36mCondition.wait\u001b[1;34m(self, timeout)\u001b[0m\n\u001b[0;32m    310\u001b[0m \u001b[39mtry\u001b[39;00m:    \u001b[39m# restore state no matter what (e.g., KeyboardInterrupt)\u001b[39;00m\n\u001b[0;32m    311\u001b[0m     \u001b[39mif\u001b[39;00m timeout \u001b[39mis\u001b[39;00m \u001b[39mNone\u001b[39;00m:\n\u001b[1;32m--> 312\u001b[0m         waiter\u001b[39m.\u001b[39;49macquire()\n\u001b[0;32m    313\u001b[0m         gotit \u001b[39m=\u001b[39m \u001b[39mTrue\u001b[39;00m\n\u001b[0;32m    314\u001b[0m     \u001b[39melse\u001b[39;00m:\n",
      "\u001b[1;31mKeyboardInterrupt\u001b[0m: "
     ]
    }
   ],
   "source": [
    "from sklearn.ensemble import VotingRegressor\n",
    "    \n",
    "vc = VotingRegressor([('xgboost',XGBRegressor(**xgb_params)),\n",
    "                            ('rf',LGBMRegressor(random_state=42,objective='mae',n_estimators=5000,n_jobs=-1,learning_rate=0.01)),\n",
    "                            ('cbr',CatBoostRegressor(random_state=42,verbose=1,loss_function='MAE',eval_metric='MAE',iterations=15000))],n_jobs=-1)\n",
    "\n",
    "vc.fit(xtrain,ytrain)\n"
   ]
  },
  {
   "cell_type": "code",
   "execution_count": null,
   "metadata": {},
   "outputs": [
    {
     "data": {
      "text/plain": [
       "0.6228658526095449"
      ]
     },
     "execution_count": 51,
     "metadata": {},
     "output_type": "execute_result"
    }
   ],
   "source": [
    "vc.score(xtrain,ytrain)"
   ]
  },
  {
   "cell_type": "code",
   "execution_count": null,
   "metadata": {},
   "outputs": [
    {
     "data": {
      "text/plain": [
       "0.5793246641400351"
      ]
     },
     "execution_count": 52,
     "metadata": {},
     "output_type": "execute_result"
    }
   ],
   "source": [
    "vc.score(xtest,ytest)"
   ]
  },
  {
   "cell_type": "code",
   "execution_count": 53,
   "metadata": {},
   "outputs": [
    {
     "data": {
      "text/plain": [
       "{'simple: ': 1.361615601041235,\n",
       " 'Rounded: ': 1.3444737019782593,\n",
       " 'truncated: ': 1.4269124299507123}"
      ]
     },
     "execution_count": 53,
     "metadata": {},
     "output_type": "execute_result"
    }
   ],
   "source": [
    "mae(xtest,ytest,vc)"
   ]
  },
  {
   "attachments": {},
   "cell_type": "markdown",
   "metadata": {},
   "source": [
    "## Hist Gradient Boosting"
   ]
  },
  {
   "cell_type": "code",
   "execution_count": 34,
   "metadata": {},
   "outputs": [
    {
     "data": {
      "text/html": [
       "<style>#sk-container-id-1 {color: black;background-color: white;}#sk-container-id-1 pre{padding: 0;}#sk-container-id-1 div.sk-toggleable {background-color: white;}#sk-container-id-1 label.sk-toggleable__label {cursor: pointer;display: block;width: 100%;margin-bottom: 0;padding: 0.3em;box-sizing: border-box;text-align: center;}#sk-container-id-1 label.sk-toggleable__label-arrow:before {content: \"▸\";float: left;margin-right: 0.25em;color: #696969;}#sk-container-id-1 label.sk-toggleable__label-arrow:hover:before {color: black;}#sk-container-id-1 div.sk-estimator:hover label.sk-toggleable__label-arrow:before {color: black;}#sk-container-id-1 div.sk-toggleable__content {max-height: 0;max-width: 0;overflow: hidden;text-align: left;background-color: #f0f8ff;}#sk-container-id-1 div.sk-toggleable__content pre {margin: 0.2em;color: black;border-radius: 0.25em;background-color: #f0f8ff;}#sk-container-id-1 input.sk-toggleable__control:checked~div.sk-toggleable__content {max-height: 200px;max-width: 100%;overflow: auto;}#sk-container-id-1 input.sk-toggleable__control:checked~label.sk-toggleable__label-arrow:before {content: \"▾\";}#sk-container-id-1 div.sk-estimator input.sk-toggleable__control:checked~label.sk-toggleable__label {background-color: #d4ebff;}#sk-container-id-1 div.sk-label input.sk-toggleable__control:checked~label.sk-toggleable__label {background-color: #d4ebff;}#sk-container-id-1 input.sk-hidden--visually {border: 0;clip: rect(1px 1px 1px 1px);clip: rect(1px, 1px, 1px, 1px);height: 1px;margin: -1px;overflow: hidden;padding: 0;position: absolute;width: 1px;}#sk-container-id-1 div.sk-estimator {font-family: monospace;background-color: #f0f8ff;border: 1px dotted black;border-radius: 0.25em;box-sizing: border-box;margin-bottom: 0.5em;}#sk-container-id-1 div.sk-estimator:hover {background-color: #d4ebff;}#sk-container-id-1 div.sk-parallel-item::after {content: \"\";width: 100%;border-bottom: 1px solid gray;flex-grow: 1;}#sk-container-id-1 div.sk-label:hover label.sk-toggleable__label {background-color: #d4ebff;}#sk-container-id-1 div.sk-serial::before {content: \"\";position: absolute;border-left: 1px solid gray;box-sizing: border-box;top: 0;bottom: 0;left: 50%;z-index: 0;}#sk-container-id-1 div.sk-serial {display: flex;flex-direction: column;align-items: center;background-color: white;padding-right: 0.2em;padding-left: 0.2em;position: relative;}#sk-container-id-1 div.sk-item {position: relative;z-index: 1;}#sk-container-id-1 div.sk-parallel {display: flex;align-items: stretch;justify-content: center;background-color: white;position: relative;}#sk-container-id-1 div.sk-item::before, #sk-container-id-1 div.sk-parallel-item::before {content: \"\";position: absolute;border-left: 1px solid gray;box-sizing: border-box;top: 0;bottom: 0;left: 50%;z-index: -1;}#sk-container-id-1 div.sk-parallel-item {display: flex;flex-direction: column;z-index: 1;position: relative;background-color: white;}#sk-container-id-1 div.sk-parallel-item:first-child::after {align-self: flex-end;width: 50%;}#sk-container-id-1 div.sk-parallel-item:last-child::after {align-self: flex-start;width: 50%;}#sk-container-id-1 div.sk-parallel-item:only-child::after {width: 0;}#sk-container-id-1 div.sk-dashed-wrapped {border: 1px dashed gray;margin: 0 0.4em 0.5em 0.4em;box-sizing: border-box;padding-bottom: 0.4em;background-color: white;}#sk-container-id-1 div.sk-label label {font-family: monospace;font-weight: bold;display: inline-block;line-height: 1.2em;}#sk-container-id-1 div.sk-label-container {text-align: center;}#sk-container-id-1 div.sk-container {/* jupyter's `normalize.less` sets `[hidden] { display: none; }` but bootstrap.min.css set `[hidden] { display: none !important; }` so we also need the `!important` here to be able to override the default hidden behavior on the sphinx rendered scikit-learn.org. See: https://github.com/scikit-learn/scikit-learn/issues/21755 */display: inline-block !important;position: relative;}#sk-container-id-1 div.sk-text-repr-fallback {display: none;}</style><div id=\"sk-container-id-1\" class=\"sk-top-container\"><div class=\"sk-text-repr-fallback\"><pre>HistGradientBoostingRegressor(early_stopping=False, l2_regularization=0.01,\n",
       "                              learning_rate=0.01, loss=&#x27;absolute_error&#x27;,\n",
       "                              max_depth=15, max_iter=1000, max_leaf_nodes=115,\n",
       "                              min_samples_leaf=70)</pre><b>In a Jupyter environment, please rerun this cell to show the HTML representation or trust the notebook. <br />On GitHub, the HTML representation is unable to render, please try loading this page with nbviewer.org.</b></div><div class=\"sk-container\" hidden><div class=\"sk-item\"><div class=\"sk-estimator sk-toggleable\"><input class=\"sk-toggleable__control sk-hidden--visually\" id=\"sk-estimator-id-1\" type=\"checkbox\" checked><label for=\"sk-estimator-id-1\" class=\"sk-toggleable__label sk-toggleable__label-arrow\">HistGradientBoostingRegressor</label><div class=\"sk-toggleable__content\"><pre>HistGradientBoostingRegressor(early_stopping=False, l2_regularization=0.01,\n",
       "                              learning_rate=0.01, loss=&#x27;absolute_error&#x27;,\n",
       "                              max_depth=15, max_iter=1000, max_leaf_nodes=115,\n",
       "                              min_samples_leaf=70)</pre></div></div></div></div></div>"
      ],
      "text/plain": [
       "HistGradientBoostingRegressor(early_stopping=False, l2_regularization=0.01,\n",
       "                              learning_rate=0.01, loss='absolute_error',\n",
       "                              max_depth=15, max_iter=1000, max_leaf_nodes=115,\n",
       "                              min_samples_leaf=70)"
      ]
     },
     "execution_count": 34,
     "metadata": {},
     "output_type": "execute_result"
    }
   ],
   "source": [
    "# import HistGradientBoostingRegressor\n",
    "from sklearn.ensemble import HistGradientBoostingRegressor\n",
    "hist_md = HistGradientBoostingRegressor(loss = 'absolute_error',\n",
    "                                        l2_regularization = 0.01,\n",
    "                                        early_stopping = False,\n",
    "                                        learning_rate = 0.01,\n",
    "                                        max_iter = 1000,\n",
    "                                        max_depth = 15,\n",
    "                                        max_bins = 255,\n",
    "                                        min_samples_leaf = 70,\n",
    "                                        max_leaf_nodes = 115)\n",
    "\n",
    "hist_md.fit(xtrain,ytrain)\n",
    "  "
   ]
  },
  {
   "cell_type": "code",
   "execution_count": 35,
   "metadata": {},
   "outputs": [
    {
     "data": {
      "text/plain": [
       "0.5915922871184427"
      ]
     },
     "execution_count": 35,
     "metadata": {},
     "output_type": "execute_result"
    }
   ],
   "source": [
    "hist_md.score(xtrain,ytrain)"
   ]
  },
  {
   "cell_type": "code",
   "execution_count": 36,
   "metadata": {},
   "outputs": [
    {
     "data": {
      "text/plain": [
       "0.5715508844936399"
      ]
     },
     "execution_count": 36,
     "metadata": {},
     "output_type": "execute_result"
    }
   ],
   "source": [
    "hist_md.score(xtest,ytest)"
   ]
  },
  {
   "cell_type": "code",
   "execution_count": 37,
   "metadata": {},
   "outputs": [
    {
     "data": {
      "text/plain": [
       "{'simple: ': 1.358604869282316,\n",
       " 'Rounded: ': 1.3471371984155565,\n",
       " 'truncated: ': 1.431850918257112}"
      ]
     },
     "execution_count": 37,
     "metadata": {},
     "output_type": "execute_result"
    }
   ],
   "source": [
    "mae(xtest,ytest,hist_md)"
   ]
  },
  {
   "attachments": {},
   "cell_type": "markdown",
   "metadata": {},
   "source": [
    "## Stacking"
   ]
  },
  {
   "cell_type": "code",
   "execution_count": 235,
   "metadata": {},
   "outputs": [
    {
     "ename": "KeyboardInterrupt",
     "evalue": "",
     "output_type": "error",
     "traceback": [
      "\u001b[1;31m---------------------------------------------------------------------------\u001b[0m",
      "\u001b[1;31mKeyboardInterrupt\u001b[0m                         Traceback (most recent call last)",
      "Cell \u001b[1;32mIn[235], line 48\u001b[0m\n\u001b[0;32m     41\u001b[0m \u001b[39m#CatBoostRegressor(random_state=42,verbose=1,loss_function='MAE',eval_metric='MAE',iterations=12000)\u001b[39;00m\n\u001b[0;32m     42\u001b[0m sr \u001b[39m=\u001b[39m StackingRegressor([(\u001b[39m'\u001b[39m\u001b[39mxgboost\u001b[39m\u001b[39m'\u001b[39m,XGBRegressor(\u001b[39m*\u001b[39m\u001b[39m*\u001b[39mxgb_params)),\n\u001b[0;32m     43\u001b[0m                             (\u001b[39m'\u001b[39m\u001b[39mlgbm\u001b[39m\u001b[39m'\u001b[39m,LGBMRegressor(\u001b[39m*\u001b[39m\u001b[39m*\u001b[39mlgb_params)),\n\u001b[0;32m     44\u001b[0m                             (\u001b[39m'\u001b[39m\u001b[39mcbr\u001b[39m\u001b[39m'\u001b[39m,CatBoostRegressor(random_state\u001b[39m=\u001b[39m\u001b[39m42\u001b[39m,verbose\u001b[39m=\u001b[39m\u001b[39m1\u001b[39m,loss_function\u001b[39m=\u001b[39m\u001b[39m'\u001b[39m\u001b[39mMAE\u001b[39m\u001b[39m'\u001b[39m,eval_metric\u001b[39m=\u001b[39m\u001b[39m'\u001b[39m\u001b[39mMAE\u001b[39m\u001b[39m'\u001b[39m,iterations\u001b[39m=\u001b[39m\u001b[39m12000\u001b[39m)),\n\u001b[0;32m     45\u001b[0m                             (\u001b[39m'\u001b[39m\u001b[39mhist\u001b[39m\u001b[39m'\u001b[39m,HistGradientBoostingRegressor(\u001b[39m*\u001b[39m\u001b[39m*\u001b[39mhist_params))],\n\u001b[0;32m     46\u001b[0m                        final_estimator\u001b[39m=\u001b[39mLADRegression(positive\u001b[39m=\u001b[39m\u001b[39mFalse\u001b[39;00m,fit_intercept\u001b[39m=\u001b[39m\u001b[39mFalse\u001b[39;00m),n_jobs\u001b[39m=\u001b[39m\u001b[39m-\u001b[39m\u001b[39m1\u001b[39m,verbose\u001b[39m=\u001b[39m\u001b[39m2\u001b[39m)\n\u001b[1;32m---> 48\u001b[0m sr\u001b[39m.\u001b[39;49mfit(xtrain,ytrain)\n",
      "File \u001b[1;32mc:\\Users\\rafay\\anaconda3\\lib\\site-packages\\sklearn\\ensemble\\_stacking.py:958\u001b[0m, in \u001b[0;36mStackingRegressor.fit\u001b[1;34m(self, X, y, sample_weight)\u001b[0m\n\u001b[0;32m    936\u001b[0m \u001b[39m\"\"\"Fit the estimators.\u001b[39;00m\n\u001b[0;32m    937\u001b[0m \n\u001b[0;32m    938\u001b[0m \u001b[39mParameters\u001b[39;00m\n\u001b[1;32m   (...)\u001b[0m\n\u001b[0;32m    955\u001b[0m \u001b[39m    Returns a fitted instance.\u001b[39;00m\n\u001b[0;32m    956\u001b[0m \u001b[39m\"\"\"\u001b[39;00m\n\u001b[0;32m    957\u001b[0m y \u001b[39m=\u001b[39m column_or_1d(y, warn\u001b[39m=\u001b[39m\u001b[39mTrue\u001b[39;00m)\n\u001b[1;32m--> 958\u001b[0m \u001b[39mreturn\u001b[39;00m \u001b[39msuper\u001b[39;49m()\u001b[39m.\u001b[39;49mfit(X, y, sample_weight)\n",
      "File \u001b[1;32mc:\\Users\\rafay\\anaconda3\\lib\\site-packages\\sklearn\\ensemble\\_stacking.py:209\u001b[0m, in \u001b[0;36m_BaseStacking.fit\u001b[1;34m(self, X, y, sample_weight)\u001b[0m\n\u001b[0;32m    204\u001b[0m             \u001b[39mself\u001b[39m\u001b[39m.\u001b[39mestimators_\u001b[39m.\u001b[39mappend(estimator)\n\u001b[0;32m    205\u001b[0m \u001b[39melse\u001b[39;00m:\n\u001b[0;32m    206\u001b[0m     \u001b[39m# Fit the base estimators on the whole training data. Those\u001b[39;00m\n\u001b[0;32m    207\u001b[0m     \u001b[39m# base estimators will be used in transform, predict, and\u001b[39;00m\n\u001b[0;32m    208\u001b[0m     \u001b[39m# predict_proba. They are exposed publicly.\u001b[39;00m\n\u001b[1;32m--> 209\u001b[0m     \u001b[39mself\u001b[39m\u001b[39m.\u001b[39mestimators_ \u001b[39m=\u001b[39m Parallel(n_jobs\u001b[39m=\u001b[39;49m\u001b[39mself\u001b[39;49m\u001b[39m.\u001b[39;49mn_jobs)(\n\u001b[0;32m    210\u001b[0m         delayed(_fit_single_estimator)(clone(est), X, y, sample_weight)\n\u001b[0;32m    211\u001b[0m         \u001b[39mfor\u001b[39;49;00m est \u001b[39min\u001b[39;49;00m all_estimators\n\u001b[0;32m    212\u001b[0m         \u001b[39mif\u001b[39;49;00m est \u001b[39m!=\u001b[39;49m \u001b[39m\"\u001b[39;49m\u001b[39mdrop\u001b[39;49m\u001b[39m\"\u001b[39;49m\n\u001b[0;32m    213\u001b[0m     )\n\u001b[0;32m    215\u001b[0m \u001b[39mself\u001b[39m\u001b[39m.\u001b[39mnamed_estimators_ \u001b[39m=\u001b[39m Bunch()\n\u001b[0;32m    216\u001b[0m est_fitted_idx \u001b[39m=\u001b[39m \u001b[39m0\u001b[39m\n",
      "File \u001b[1;32mc:\\Users\\rafay\\anaconda3\\lib\\site-packages\\sklearn\\utils\\parallel.py:63\u001b[0m, in \u001b[0;36mParallel.__call__\u001b[1;34m(self, iterable)\u001b[0m\n\u001b[0;32m     58\u001b[0m config \u001b[39m=\u001b[39m get_config()\n\u001b[0;32m     59\u001b[0m iterable_with_config \u001b[39m=\u001b[39m (\n\u001b[0;32m     60\u001b[0m     (_with_config(delayed_func, config), args, kwargs)\n\u001b[0;32m     61\u001b[0m     \u001b[39mfor\u001b[39;00m delayed_func, args, kwargs \u001b[39min\u001b[39;00m iterable\n\u001b[0;32m     62\u001b[0m )\n\u001b[1;32m---> 63\u001b[0m \u001b[39mreturn\u001b[39;00m \u001b[39msuper\u001b[39;49m()\u001b[39m.\u001b[39;49m\u001b[39m__call__\u001b[39;49m(iterable_with_config)\n",
      "File \u001b[1;32mc:\\Users\\rafay\\anaconda3\\lib\\site-packages\\joblib\\parallel.py:1061\u001b[0m, in \u001b[0;36mParallel.__call__\u001b[1;34m(self, iterable)\u001b[0m\n\u001b[0;32m   1058\u001b[0m     \u001b[39mself\u001b[39m\u001b[39m.\u001b[39m_iterating \u001b[39m=\u001b[39m \u001b[39mFalse\u001b[39;00m\n\u001b[0;32m   1060\u001b[0m \u001b[39mwith\u001b[39;00m \u001b[39mself\u001b[39m\u001b[39m.\u001b[39m_backend\u001b[39m.\u001b[39mretrieval_context():\n\u001b[1;32m-> 1061\u001b[0m     \u001b[39mself\u001b[39;49m\u001b[39m.\u001b[39;49mretrieve()\n\u001b[0;32m   1062\u001b[0m \u001b[39m# Make sure that we get a last message telling us we are done\u001b[39;00m\n\u001b[0;32m   1063\u001b[0m elapsed_time \u001b[39m=\u001b[39m time\u001b[39m.\u001b[39mtime() \u001b[39m-\u001b[39m \u001b[39mself\u001b[39m\u001b[39m.\u001b[39m_start_time\n",
      "File \u001b[1;32mc:\\Users\\rafay\\anaconda3\\lib\\site-packages\\joblib\\parallel.py:938\u001b[0m, in \u001b[0;36mParallel.retrieve\u001b[1;34m(self)\u001b[0m\n\u001b[0;32m    936\u001b[0m \u001b[39mtry\u001b[39;00m:\n\u001b[0;32m    937\u001b[0m     \u001b[39mif\u001b[39;00m \u001b[39mgetattr\u001b[39m(\u001b[39mself\u001b[39m\u001b[39m.\u001b[39m_backend, \u001b[39m'\u001b[39m\u001b[39msupports_timeout\u001b[39m\u001b[39m'\u001b[39m, \u001b[39mFalse\u001b[39;00m):\n\u001b[1;32m--> 938\u001b[0m         \u001b[39mself\u001b[39m\u001b[39m.\u001b[39m_output\u001b[39m.\u001b[39mextend(job\u001b[39m.\u001b[39;49mget(timeout\u001b[39m=\u001b[39;49m\u001b[39mself\u001b[39;49m\u001b[39m.\u001b[39;49mtimeout))\n\u001b[0;32m    939\u001b[0m     \u001b[39melse\u001b[39;00m:\n\u001b[0;32m    940\u001b[0m         \u001b[39mself\u001b[39m\u001b[39m.\u001b[39m_output\u001b[39m.\u001b[39mextend(job\u001b[39m.\u001b[39mget())\n",
      "File \u001b[1;32mc:\\Users\\rafay\\anaconda3\\lib\\site-packages\\joblib\\_parallel_backends.py:542\u001b[0m, in \u001b[0;36mLokyBackend.wrap_future_result\u001b[1;34m(future, timeout)\u001b[0m\n\u001b[0;32m    539\u001b[0m \u001b[39m\"\"\"Wrapper for Future.result to implement the same behaviour as\u001b[39;00m\n\u001b[0;32m    540\u001b[0m \u001b[39mAsyncResults.get from multiprocessing.\"\"\"\u001b[39;00m\n\u001b[0;32m    541\u001b[0m \u001b[39mtry\u001b[39;00m:\n\u001b[1;32m--> 542\u001b[0m     \u001b[39mreturn\u001b[39;00m future\u001b[39m.\u001b[39;49mresult(timeout\u001b[39m=\u001b[39;49mtimeout)\n\u001b[0;32m    543\u001b[0m \u001b[39mexcept\u001b[39;00m CfTimeoutError \u001b[39mas\u001b[39;00m e:\n\u001b[0;32m    544\u001b[0m     \u001b[39mraise\u001b[39;00m \u001b[39mTimeoutError\u001b[39;00m \u001b[39mfrom\u001b[39;00m \u001b[39me\u001b[39;00m\n",
      "File \u001b[1;32mc:\\Users\\rafay\\anaconda3\\lib\\concurrent\\futures\\_base.py:441\u001b[0m, in \u001b[0;36mFuture.result\u001b[1;34m(self, timeout)\u001b[0m\n\u001b[0;32m    438\u001b[0m \u001b[39melif\u001b[39;00m \u001b[39mself\u001b[39m\u001b[39m.\u001b[39m_state \u001b[39m==\u001b[39m FINISHED:\n\u001b[0;32m    439\u001b[0m     \u001b[39mreturn\u001b[39;00m \u001b[39mself\u001b[39m\u001b[39m.\u001b[39m__get_result()\n\u001b[1;32m--> 441\u001b[0m \u001b[39mself\u001b[39;49m\u001b[39m.\u001b[39;49m_condition\u001b[39m.\u001b[39;49mwait(timeout)\n\u001b[0;32m    443\u001b[0m \u001b[39mif\u001b[39;00m \u001b[39mself\u001b[39m\u001b[39m.\u001b[39m_state \u001b[39min\u001b[39;00m [CANCELLED, CANCELLED_AND_NOTIFIED]:\n\u001b[0;32m    444\u001b[0m     \u001b[39mraise\u001b[39;00m CancelledError()\n",
      "File \u001b[1;32mc:\\Users\\rafay\\anaconda3\\lib\\threading.py:312\u001b[0m, in \u001b[0;36mCondition.wait\u001b[1;34m(self, timeout)\u001b[0m\n\u001b[0;32m    310\u001b[0m \u001b[39mtry\u001b[39;00m:    \u001b[39m# restore state no matter what (e.g., KeyboardInterrupt)\u001b[39;00m\n\u001b[0;32m    311\u001b[0m     \u001b[39mif\u001b[39;00m timeout \u001b[39mis\u001b[39;00m \u001b[39mNone\u001b[39;00m:\n\u001b[1;32m--> 312\u001b[0m         waiter\u001b[39m.\u001b[39;49macquire()\n\u001b[0;32m    313\u001b[0m         gotit \u001b[39m=\u001b[39m \u001b[39mTrue\u001b[39;00m\n\u001b[0;32m    314\u001b[0m     \u001b[39melse\u001b[39;00m:\n",
      "\u001b[1;31mKeyboardInterrupt\u001b[0m: "
     ]
    }
   ],
   "source": [
    "from sklearn.ensemble import StackingRegressor\n",
    "from xgboost import XGBRegressor\n",
    "from lightgbm import LGBMRegressor\n",
    "from catboost import CatBoostRegressor\n",
    "from sklego.linear_model import LADRegression\n",
    "from sklearn.ensemble import HistGradientBoostingRegressor\n",
    "xgb_params = {'objective': 'reg:pseudohubererror',\n",
    "            'tree_method': 'hist',\n",
    "            'colsample_bytree': 0.9,\n",
    "            'gamma': 0.65,\n",
    "            'learning_rate': 0.01,\n",
    "            'max_depth': 7,\n",
    "            'min_child_weight': 20,\n",
    "            'n_estimators': 1500,\n",
    "            'subsample': 0.7,\n",
    "            'random_state': 42,\n",
    "            'n_jobs': -1}\n",
    "\n",
    "hist_params={'loss': 'absolute_error',\n",
    "            'l2_regularization': 0.01,\n",
    "            'early_stopping': False,\n",
    "            'learning_rate': 0.01,\n",
    "            'max_iter': 1000,\n",
    "            'max_depth': 15,\n",
    "            'max_bins': 255,\n",
    "            'min_samples_leaf': 70,\n",
    "            'max_leaf_nodes': 115}\n",
    "\n",
    "lgb_params={'objective': 'mae',\n",
    "            'n_estimators': 1000,\n",
    "            'max_depth': 15,\n",
    "            'learning_rate': 0.01,\n",
    "            'num_leaves': 105,\n",
    "            'reg_alpha': 8,\n",
    "            'reg_lambda': 3,\n",
    "            'subsample': 0.6,\n",
    "            'colsample_bytree': 0.8,\n",
    "            'random_state': 42,\n",
    "            'n_jobs': -1}\n",
    "\n",
    "#CatBoostRegressor(random_state=42,verbose=1,loss_function='MAE',eval_metric='MAE',iterations=12000)\n",
    "sr = StackingRegressor([('xgboost',XGBRegressor(**xgb_params)),\n",
    "                            ('lgbm',LGBMRegressor(**lgb_params)),\n",
    "                            ('cbr',CatBoostRegressor(random_state=42,verbose=1,loss_function='MAE',eval_metric='MAE',iterations=12000)),\n",
    "                            ('hist',HistGradientBoostingRegressor(**hist_params))],\n",
    "                       final_estimator=LADRegression(positive=False,fit_intercept=False),n_jobs=-1,verbose=2)\n",
    "\n",
    "sr.fit(xtrain,ytrain)    "
   ]
  },
  {
   "cell_type": "code",
   "execution_count": 231,
   "metadata": {},
   "outputs": [
    {
     "data": {
      "text/plain": [
       "0.6174614504939802"
      ]
     },
     "execution_count": 231,
     "metadata": {},
     "output_type": "execute_result"
    }
   ],
   "source": [
    "sr.score(xtrain,ytrain)"
   ]
  },
  {
   "cell_type": "code",
   "execution_count": 232,
   "metadata": {},
   "outputs": [
    {
     "data": {
      "text/plain": [
       "0.5803020534186838"
      ]
     },
     "execution_count": 232,
     "metadata": {},
     "output_type": "execute_result"
    }
   ],
   "source": [
    "sr.score(xtest,ytest)"
   ]
  },
  {
   "cell_type": "code",
   "execution_count": 233,
   "metadata": {},
   "outputs": [
    {
     "data": {
      "text/plain": [
       "0    9.696362\n",
       "dtype: float32"
      ]
     },
     "execution_count": 233,
     "metadata": {},
     "output_type": "execute_result"
    }
   ],
   "source": [
    "preds=sr.predict(xtest)\n",
    "pd.DataFrame(preds).apply(np.mean, axis = 0)"
   ]
  },
  {
   "cell_type": "code",
   "execution_count": 234,
   "metadata": {},
   "outputs": [
    {
     "data": {
      "text/plain": [
       "{'simple: ': 1.3690758500976616,\n",
       " 'Rounded: ': 1.3464169967590927,\n",
       " 'truncated: ': 1.3996218941303564}"
      ]
     },
     "execution_count": 234,
     "metadata": {},
     "output_type": "execute_result"
    }
   ],
   "source": [
    "mae(xtest,ytest,sr)"
   ]
  },
  {
   "attachments": {},
   "cell_type": "markdown",
   "metadata": {},
   "source": [
    "## Submission"
   ]
  },
  {
   "cell_type": "code",
   "execution_count": 218,
   "metadata": {},
   "outputs": [],
   "source": [
    "submission = pd.read_csv('test.csv')"
   ]
  },
  {
   "cell_type": "code",
   "execution_count": 219,
   "metadata": {},
   "outputs": [
    {
     "data": {
      "text/html": [
       "<div>\n",
       "<style scoped>\n",
       "    .dataframe tbody tr th:only-of-type {\n",
       "        vertical-align: middle;\n",
       "    }\n",
       "\n",
       "    .dataframe tbody tr th {\n",
       "        vertical-align: top;\n",
       "    }\n",
       "\n",
       "    .dataframe thead th {\n",
       "        text-align: right;\n",
       "    }\n",
       "</style>\n",
       "<table border=\"1\" class=\"dataframe\">\n",
       "  <thead>\n",
       "    <tr style=\"text-align: right;\">\n",
       "      <th></th>\n",
       "      <th>id</th>\n",
       "      <th>Sex</th>\n",
       "      <th>Length</th>\n",
       "      <th>Diameter</th>\n",
       "      <th>Height</th>\n",
       "      <th>Weight</th>\n",
       "      <th>Shucked Weight</th>\n",
       "      <th>Viscera Weight</th>\n",
       "      <th>Shell Weight</th>\n",
       "    </tr>\n",
       "  </thead>\n",
       "  <tbody>\n",
       "    <tr>\n",
       "      <th>0</th>\n",
       "      <td>74051</td>\n",
       "      <td>I</td>\n",
       "      <td>1.0500</td>\n",
       "      <td>0.7625</td>\n",
       "      <td>0.2750</td>\n",
       "      <td>8.618248</td>\n",
       "      <td>3.657085</td>\n",
       "      <td>1.729319</td>\n",
       "      <td>2.721552</td>\n",
       "    </tr>\n",
       "    <tr>\n",
       "      <th>1</th>\n",
       "      <td>74052</td>\n",
       "      <td>I</td>\n",
       "      <td>1.1625</td>\n",
       "      <td>0.8875</td>\n",
       "      <td>0.2750</td>\n",
       "      <td>15.507176</td>\n",
       "      <td>7.030676</td>\n",
       "      <td>3.246018</td>\n",
       "      <td>3.968930</td>\n",
       "    </tr>\n",
       "    <tr>\n",
       "      <th>2</th>\n",
       "      <td>74053</td>\n",
       "      <td>F</td>\n",
       "      <td>1.2875</td>\n",
       "      <td>0.9875</td>\n",
       "      <td>0.3250</td>\n",
       "      <td>14.571643</td>\n",
       "      <td>5.556502</td>\n",
       "      <td>3.883882</td>\n",
       "      <td>4.819415</td>\n",
       "    </tr>\n",
       "    <tr>\n",
       "      <th>3</th>\n",
       "      <td>74054</td>\n",
       "      <td>F</td>\n",
       "      <td>1.5500</td>\n",
       "      <td>0.9875</td>\n",
       "      <td>0.3875</td>\n",
       "      <td>28.377849</td>\n",
       "      <td>13.380964</td>\n",
       "      <td>6.548735</td>\n",
       "      <td>7.030676</td>\n",
       "    </tr>\n",
       "    <tr>\n",
       "      <th>4</th>\n",
       "      <td>74055</td>\n",
       "      <td>I</td>\n",
       "      <td>1.1125</td>\n",
       "      <td>0.8500</td>\n",
       "      <td>0.2625</td>\n",
       "      <td>11.765042</td>\n",
       "      <td>5.528153</td>\n",
       "      <td>2.466407</td>\n",
       "      <td>3.331066</td>\n",
       "    </tr>\n",
       "  </tbody>\n",
       "</table>\n",
       "</div>"
      ],
      "text/plain": [
       "      id Sex  Length  Diameter  Height     Weight  Shucked Weight  \\\n",
       "0  74051   I  1.0500    0.7625  0.2750   8.618248        3.657085   \n",
       "1  74052   I  1.1625    0.8875  0.2750  15.507176        7.030676   \n",
       "2  74053   F  1.2875    0.9875  0.3250  14.571643        5.556502   \n",
       "3  74054   F  1.5500    0.9875  0.3875  28.377849       13.380964   \n",
       "4  74055   I  1.1125    0.8500  0.2625  11.765042        5.528153   \n",
       "\n",
       "   Viscera Weight  Shell Weight  \n",
       "0        1.729319      2.721552  \n",
       "1        3.246018      3.968930  \n",
       "2        3.883882      4.819415  \n",
       "3        6.548735      7.030676  \n",
       "4        2.466407      3.331066  "
      ]
     },
     "execution_count": 219,
     "metadata": {},
     "output_type": "execute_result"
    }
   ],
   "source": [
    "submission.head()"
   ]
  },
  {
   "cell_type": "code",
   "execution_count": 220,
   "metadata": {},
   "outputs": [
    {
     "name": "stdout",
     "output_type": "stream",
     "text": [
      "<class 'pandas.core.frame.DataFrame'>\n",
      "RangeIndex: 49368 entries, 0 to 49367\n",
      "Data columns (total 9 columns):\n",
      " #   Column          Non-Null Count  Dtype  \n",
      "---  ------          --------------  -----  \n",
      " 0   id              49368 non-null  int64  \n",
      " 1   Sex             49368 non-null  object \n",
      " 2   Length          49368 non-null  float64\n",
      " 3   Diameter        49368 non-null  float64\n",
      " 4   Height          49368 non-null  float64\n",
      " 5   Weight          49368 non-null  float64\n",
      " 6   Shucked Weight  49368 non-null  float64\n",
      " 7   Viscera Weight  49368 non-null  float64\n",
      " 8   Shell Weight    49368 non-null  float64\n",
      "dtypes: float64(7), int64(1), object(1)\n",
      "memory usage: 3.4+ MB\n"
     ]
    }
   ],
   "source": [
    "submission.info()"
   ]
  },
  {
   "cell_type": "code",
   "execution_count": 221,
   "metadata": {},
   "outputs": [],
   "source": [
    "id=submission['id']\n",
    "data=submission.drop('id',axis=1)"
   ]
  },
  {
   "cell_type": "code",
   "execution_count": 222,
   "metadata": {},
   "outputs": [],
   "source": [
    "data = create_features(data)"
   ]
  },
  {
   "cell_type": "code",
   "execution_count": 223,
   "metadata": {},
   "outputs": [],
   "source": [
    "data=mct.transform(data)"
   ]
  },
  {
   "cell_type": "code",
   "execution_count": 224,
   "metadata": {},
   "outputs": [
    {
     "data": {
      "text/plain": [
       "(49368, 19)"
      ]
     },
     "execution_count": 224,
     "metadata": {},
     "output_type": "execute_result"
    }
   ],
   "source": [
    "data.shape"
   ]
  },
  {
   "cell_type": "code",
   "execution_count": 225,
   "metadata": {},
   "outputs": [],
   "source": [
    "cbr_pred=sr.predict(data)    "
   ]
  },
  {
   "cell_type": "code",
   "execution_count": 226,
   "metadata": {},
   "outputs": [],
   "source": [
    "submission_df=pd.DataFrame({'id':id,'Age':cbr_pred.round()})"
   ]
  },
  {
   "cell_type": "code",
   "execution_count": 227,
   "metadata": {},
   "outputs": [
    {
     "data": {
      "text/html": [
       "<div>\n",
       "<style scoped>\n",
       "    .dataframe tbody tr th:only-of-type {\n",
       "        vertical-align: middle;\n",
       "    }\n",
       "\n",
       "    .dataframe tbody tr th {\n",
       "        vertical-align: top;\n",
       "    }\n",
       "\n",
       "    .dataframe thead th {\n",
       "        text-align: right;\n",
       "    }\n",
       "</style>\n",
       "<table border=\"1\" class=\"dataframe\">\n",
       "  <thead>\n",
       "    <tr style=\"text-align: right;\">\n",
       "      <th></th>\n",
       "      <th>id</th>\n",
       "      <th>Age</th>\n",
       "    </tr>\n",
       "  </thead>\n",
       "  <tbody>\n",
       "    <tr>\n",
       "      <th>0</th>\n",
       "      <td>74051</td>\n",
       "      <td>7.0</td>\n",
       "    </tr>\n",
       "    <tr>\n",
       "      <th>1</th>\n",
       "      <td>74052</td>\n",
       "      <td>8.0</td>\n",
       "    </tr>\n",
       "    <tr>\n",
       "      <th>2</th>\n",
       "      <td>74053</td>\n",
       "      <td>11.0</td>\n",
       "    </tr>\n",
       "    <tr>\n",
       "      <th>3</th>\n",
       "      <td>74054</td>\n",
       "      <td>10.0</td>\n",
       "    </tr>\n",
       "    <tr>\n",
       "      <th>4</th>\n",
       "      <td>74055</td>\n",
       "      <td>7.0</td>\n",
       "    </tr>\n",
       "  </tbody>\n",
       "</table>\n",
       "</div>"
      ],
      "text/plain": [
       "      id   Age\n",
       "0  74051   7.0\n",
       "1  74052   8.0\n",
       "2  74053  11.0\n",
       "3  74054  10.0\n",
       "4  74055   7.0"
      ]
     },
     "execution_count": 227,
     "metadata": {},
     "output_type": "execute_result"
    }
   ],
   "source": [
    "submission_df.head()"
   ]
  },
  {
   "cell_type": "code",
   "execution_count": 228,
   "metadata": {},
   "outputs": [],
   "source": [
    "submission_df.to_csv('submission.csv',index=False)"
   ]
  },
  {
   "cell_type": "code",
   "execution_count": 229,
   "metadata": {},
   "outputs": [
    {
     "name": "stdout",
     "output_type": "stream",
     "text": [
      "Successfully submitted to Regression with a Crab Age Dataset\n"
     ]
    },
    {
     "name": "stderr",
     "output_type": "stream",
     "text": [
      "\n",
      "  0%|          | 0.00/579k [00:00<?, ?B/s]\n",
      "  1%|▏         | 8.00k/579k [00:00<00:23, 24.4kB/s]\n",
      " 15%|█▌        | 88.0k/579k [00:00<00:02, 242kB/s] \n",
      " 22%|██▏       | 128k/579k [00:00<00:01, 248kB/s] \n",
      " 35%|███▍      | 200k/579k [00:00<00:01, 355kB/s]\n",
      " 43%|████▎     | 248k/579k [00:00<00:01, 287kB/s]\n",
      " 50%|████▉     | 288k/579k [00:01<00:01, 265kB/s]\n",
      " 55%|█████▌    | 320k/579k [00:01<00:01, 222kB/s]\n",
      " 61%|██████    | 352k/579k [00:01<00:01, 214kB/s]\n",
      " 65%|██████▍   | 376k/579k [00:01<00:00, 208kB/s]\n",
      " 69%|██████▉   | 400k/579k [00:01<00:00, 209kB/s]\n",
      " 73%|███████▎  | 424k/579k [00:01<00:00, 203kB/s]\n",
      " 77%|███████▋  | 448k/579k [00:02<00:00, 206kB/s]\n",
      " 82%|████████▏ | 472k/579k [00:02<00:00, 210kB/s]\n",
      " 86%|████████▌ | 496k/579k [00:02<00:00, 218kB/s]\n",
      " 90%|████████▉ | 520k/579k [00:02<00:00, 218kB/s]\n",
      " 95%|█████████▌| 552k/579k [00:02<00:00, 228kB/s]\n",
      " 99%|█████████▉| 576k/579k [00:02<00:00, 220kB/s]\n",
      "100%|██████████| 579k/579k [00:03<00:00, 152kB/s]\n"
     ]
    }
   ],
   "source": [
    "!kaggle competitions submit -c playground-series-s3e16 -f submission.csv -m \"first\""
   ]
  }
 ],
 "metadata": {
  "kernelspec": {
   "display_name": "base",
   "language": "python",
   "name": "python3"
  },
  "language_info": {
   "codemirror_mode": {
    "name": "ipython",
    "version": 3
   },
   "file_extension": ".py",
   "mimetype": "text/x-python",
   "name": "python",
   "nbconvert_exporter": "python",
   "pygments_lexer": "ipython3",
   "version": "3.9.16"
  },
  "orig_nbformat": 4
 },
 "nbformat": 4,
 "nbformat_minor": 2
}
